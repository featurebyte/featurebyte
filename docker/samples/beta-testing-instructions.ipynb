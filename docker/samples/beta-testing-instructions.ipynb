{
 "cells": [
  {
   "attachments": {},
   "cell_type": "markdown",
   "metadata": {},
   "source": [
    "# Beta-Testing Instructions\n",
    "\n",
    "Thank you for volunteering to test featurebyte's beta version. Your feedback will be crucial to ensuring a fantastic customer experience with the production release.\n",
    "\n",
    "In this first beta testing phase, we will primarily focus on the feature engineering of three datasets that we have set up in our data warehouse. Later in the beta testing program, you will have the opportunity to use your own data and/or data warehouse.\n",
    "\n",
    "Your tasks:\n",
    "* Installation\n",
    "    * Install the featurebyte Docker environment\n",
    "    * Check that you can access [jupyter notebook](http://localhost:8090/) and the [featurebyte documentation](http://localhost:8089/).\n",
    "* User [tutorial](http://localhost:8090/lab/tree/samples/beta-testing-tutorials.ipynb)\n",
    "    * Work through the tutorial, including the “test yourself” sections.\n",
    "    * Report bugs, errors, and your suggestions for improvements.\n",
    "* Feature Engineering\n",
    "    * Create new features for each of the three datasets.\n",
    "    * Report any bugs or errors you encounter\n",
    "    * Look for unsupported edge cases\n",
    "    * Suggest additional capabilities to support your feature engineering ideas\n",
    "* Feedback\n",
    "    * Participate in user interviews and focus group discussions\n",
    "\n",
    "We will support you through this journey. You can contact us via email at [betatesting@featurebyte.com](mailto:betatesting@featurebyte.com) or join our Slack community.\n",
    "\n",
    "We are currently working on some library capabilities that you won't be able to test yet, including:\n",
    "* entity relationships (when serving feature lists you will need to provide all relevant entity values, but in later releases you will only need to provide the main entity and featurebyte will auotmatically look up the parent entity values),\n",
    "* target declaration,\n",
    "* aggregate_over for slowly changing data,\n",
    "* extended options for defining critical data information, \n",
    "* data semantics,\n",
    "* EDA, and\n",
    "* context, for example, defining rules for creating a training data observation set from the data."
   ]
  }
 ],
 "metadata": {
  "kernelspec": {
   "display_name": "base",
   "language": "python",
   "name": "python3"
  },
  "language_info": {
   "name": "python",
   "version": "3.8.8 | packaged by conda-forge | (default, Feb 20 2021, 15:50:08) [MSC v.1916 64 bit (AMD64)]"
  },
  "orig_nbformat": 4,
  "vscode": {
   "interpreter": {
    "hash": "ad2bdc8ecc057115af97d19610ffacc2b4e99fae6737bb82f5d7fb13d2f2c186"
   }
  }
 },
 "nbformat": 4,
 "nbformat_minor": 2
}
