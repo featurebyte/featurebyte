{
 "cells": [
  {
   "cell_type": "markdown",
   "metadata": {},
   "source": [
    "# Beta-Testing Instructions\n",
    "\n",
    "Thank you for volunteering to test featurebyte's beta version. Your feedback will be crucial to ensuring a fantastic customer experience with the production release.\n",
    "\n",
    "In this first beta testing phase, we will primarily focus on the feature engineering of three datasets that we have set up in our data warehouse. Later in the beta testing program, you will have the opportunity to use your own data and/or data warehouse.\n",
    "\n",
    "Your tasks:\n",
    "\n",
    "\n",
    "\n",
    "* Installation\n",
    "    * Install the featurebyte Docker environment\n",
    "    * Check that you can access jupyter notebook and the featurebyte documentation.\n",
    "* User tutorial\n",
    "    * Work through the tutorial, including the “test yourself” sections.\n",
    "    * Report bugs, errors, and your suggestions for improvements.\n",
    "* Feature Engineering\n",
    "    * Create new features for each of the three datasets.\n",
    "    * Report any bugs or errors you encounter\n",
    "    * Look for unsupported edge cases\n",
    "    * Suggest additional capabilities to support your feature engineering ideas\n",
    "* Feedback\n",
    "    * Participate in user interviews and focus group discussions\n",
    "\n",
    "We will support you through this journey. You can contact us via email at [betatesting@featurebyte.com](mailto:betatesting@featurebyte.com) or join our Slack community.\n",
    "\n",
    "We are currently working on some library capabilities that you won't be able to test yet, including:\n",
    "\n",
    "\n",
    "\n",
    "* target declaration,\n",
    "* aggregate_over for slowly changing data,\n",
    "* EDA, and\n",
    "* context, for example, defining rules for creating a training data observation set from the data."
   ]
  }
 ],
 "metadata": {
  "kernelspec": {
   "display_name": "Python 3 (ipykernel)",
   "language": "python",
   "name": "python3"
  },
  "language_info": {
   "codemirror_mode": {
    "name": "ipython",
    "version": 3
   },
   "file_extension": ".py",
   "mimetype": "text/x-python",
   "name": "python",
   "nbconvert_exporter": "python",
   "pygments_lexer": "ipython3",
   "version": "3.8.16"
  }
 },
 "nbformat": 4,
 "nbformat_minor": 4
}
