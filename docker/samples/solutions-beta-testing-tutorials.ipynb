{
 "cells": [
  {
   "cell_type": "markdown",
   "metadata": {},
   "source": [
    "# Solutions to test yourself sections of tutorial"
   ]
  },
  {
   "cell_type": "code",
   "execution_count": null,
   "metadata": {},
   "outputs": [],
   "source": [
    "import featurebyte\n",
    "from featurebyte import *\n",
    "from featurebyte.config import Configurations\n",
    "from featurebyte.api.data import Data\n",
    "from featurebyte.api.change_view import ChangeView\n",
    "\n",
    "# get the Featurebyte configuration path so that we can edit it\n",
    "config = Configurations()\n",
    "print(config.config_file_path)\n",
    "\n",
    "import pandas as pd\n",
    "from datetime import datetime\n",
    "\n",
    "# this script requires version > 0.1.0.dev508\n",
    "print(featurebyte.version)"
   ]
  },
  {
   "cell_type": "markdown",
   "metadata": {},
   "source": [
    "# Tutorial: What types of data does featurebyte handle?"
   ]
  },
  {
   "attachments": {},
   "cell_type": "markdown",
   "metadata": {},
   "source": [
    "## Test yourself"
   ]
  },
  {
   "cell_type": "markdown",
   "metadata": {},
   "source": [
    "1) What data type is each of these 6 tables?\n",
    "\n",
    "* BANKCUSTOMER: slowly changing data\n",
    "* STATEDETAILS: slowly changing data\n",
    "* CREDITCARD: slowly changing data\n",
    "* CARDTRANSACTIONS: event data\n",
    "* CARDFRAUDSTATUS: slowly changing data\n",
    "* CARDTRANSACTIONGROUPS: dimension data"
   ]
  },
  {
   "cell_type": "markdown",
   "metadata": {},
   "source": [
    "2. Register each table"
   ]
  },
  {
   "cell_type": "code",
   "execution_count": null,
   "metadata": {},
   "outputs": [],
   "source": [
    "# tell Featurebyte we are using the beta testing data\n",
    "# note: replace \"beta-colin\" with your profile name\n",
    "Configurations.use_profile(\"beta_creditcard\")\n",
    "\n",
    "# connect to the feature store\n",
    "fs = FeatureStore.get(\"beta_user_featurestore\")\n",
    "fs.info()"
   ]
  },
  {
   "cell_type": "code",
   "execution_count": null,
   "metadata": {},
   "outputs": [],
   "source": [
    "# view the databases the feature store can access\n",
    "fs.list_databases()"
   ]
  },
  {
   "cell_type": "code",
   "execution_count": null,
   "metadata": {},
   "outputs": [],
   "source": [
    "# view the schemas in the BETA_TESTING_DATASETS database\n",
    "fs.list_schemas(database_name=\"BETA_TESTING_DATASETS\")"
   ]
  },
  {
   "cell_type": "code",
   "execution_count": null,
   "metadata": {},
   "outputs": [],
   "source": [
    "# view the tables available in the CREDIT_CARD schema\n",
    "display(fs.list_tables(database_name=\"BETA_TESTING_DATASETS\", schema_name=\"CREDIT_CARD\"))"
   ]
  },
  {
   "cell_type": "code",
   "execution_count": null,
   "metadata": {},
   "outputs": [],
   "source": [
    "# show the column details for bank customer\n",
    "display(fs.get_table(database_name=\"BETA_TESTING_DATASETS\", schema_name=\"CREDIT_CARD\", table_name=\"BANKCUSTOMER\").dtypes)"
   ]
  },
  {
   "cell_type": "code",
   "execution_count": null,
   "metadata": {},
   "outputs": [],
   "source": [
    "# check whether the data is already registered\n",
    "if not Data.list().name.str.contains(\"BANKCUSTOMER\").any():\n",
    "    # register BankCustomer as slowly changing data\n",
    "    BankCustomer = SlowlyChangingData.from_tabular_source(\n",
    "        name=\"BANKCUSTOMER\",\n",
    "        surrogate_key_column=\"RowID\",\n",
    "        natural_key_column=\"BankCustomerID\",\n",
    "        effective_timestamp_column=\"ValidFrom\",\n",
    "        end_timestamp_column=\"ValidTo\",\n",
    "        record_creation_date_column=\"record_available_at\",\n",
    "        tabular_source=fs.get_table(\n",
    "            database_name=\"BETA_TESTING_DATASETS\",\n",
    "            schema_name=\"CREDIT_CARD\",\n",
    "            table_name=\"BANKCUSTOMER\"\n",
    "        )\n",
    "    )\n",
    "    BankCustomer.save(conflict_resolution=\"retrieve\")"
   ]
  },
  {
   "cell_type": "code",
   "execution_count": null,
   "metadata": {},
   "outputs": [],
   "source": [
    "# show the column details for state details\n",
    "display(fs.get_table(database_name=\"BETA_TESTING_DATASETS\", schema_name=\"CREDIT_CARD\", table_name=\"STATEDETAILS\").dtypes)"
   ]
  },
  {
   "cell_type": "code",
   "execution_count": null,
   "metadata": {},
   "outputs": [],
   "source": [
    "# check whether the data is already registered\n",
    "if not Data.list().name.str.contains(\"STATEDETAILS\").any():\n",
    "    # register StateDetails as slowly changing data\n",
    "    StateDetails = SlowlyChangingData.from_tabular_source(\n",
    "        name=\"STATEDETAILS\",\n",
    "        natural_key_column=\"StateCode\",\n",
    "        effective_timestamp_column=\"ValidFrom\",\n",
    "        end_timestamp_column=\"ValidTo\",\n",
    "        record_creation_date_column=\"record_available_at\",\n",
    "        tabular_source=fs.get_table(\n",
    "            database_name=\"BETA_TESTING_DATASETS\",\n",
    "            schema_name=\"CREDIT_CARD\",\n",
    "            table_name=\"STATEDETAILS\"\n",
    "        )\n",
    "    )\n",
    "    StateDetails.save(conflict_resolution=\"retrieve\")"
   ]
  },
  {
   "cell_type": "code",
   "execution_count": null,
   "metadata": {},
   "outputs": [],
   "source": [
    "# show the column details for credit card\n",
    "display(fs.get_table(database_name=\"BETA_TESTING_DATASETS\", schema_name=\"CREDIT_CARD\", table_name=\"CREDITCARD\").dtypes)"
   ]
  },
  {
   "cell_type": "code",
   "execution_count": null,
   "metadata": {},
   "outputs": [],
   "source": [
    "# check whether the data is already registered\n",
    "if not Data.list().name.str.contains(\"CREDITCARD\").any():\n",
    "    # register CreditCard as slowly changing data\n",
    "    CreditCard = SlowlyChangingData.from_tabular_source(\n",
    "        name=\"CREDITCARD\",\n",
    "        surrogate_key_column=\"RowID\",\n",
    "        natural_key_column=\"AccountID\",\n",
    "        effective_timestamp_column=\"ValidFrom\",\n",
    "        end_timestamp_column=\"ValidTo\",\n",
    "        record_creation_date_column=\"record_available_at\",\n",
    "        tabular_source=fs.get_table(\n",
    "            database_name=\"BETA_TESTING_DATASETS\",\n",
    "            schema_name=\"CREDIT_CARD\",\n",
    "            table_name=\"CREDITCARD\"\n",
    "        )\n",
    "    )\n",
    "    CreditCard.save(conflict_resolution=\"retrieve\")"
   ]
  },
  {
   "cell_type": "code",
   "execution_count": null,
   "metadata": {},
   "outputs": [],
   "source": [
    "# show the column details for card transactions\n",
    "display(fs.get_table(database_name=\"BETA_TESTING_DATASETS\", schema_name=\"CREDIT_CARD\", table_name=\"CARDTRANSACTIONS\").dtypes)"
   ]
  },
  {
   "cell_type": "code",
   "execution_count": null,
   "metadata": {},
   "outputs": [],
   "source": [
    "# check whether the data is already registered\n",
    "if not Data.list().name.str.contains(\"CARDTRANSACTIONS\").any():\n",
    "    # register CardTransactions as event data\n",
    "    CardTransactions = EventData.from_tabular_source(\n",
    "        name=\"CARDTRANSACTIONS\",\n",
    "        event_timestamp_column=\"Timestamp\",\n",
    "        event_id_column=\"CardTransactionID\",\n",
    "        record_creation_date_column=\"record_available_at\",\n",
    "        tabular_source=fs.get_table(\n",
    "            database_name=\"BETA_TESTING_DATASETS\",\n",
    "            schema_name=\"CREDIT_CARD\",\n",
    "            table_name=\"CARDTRANSACTIONS\"\n",
    "        )\n",
    "    )\n",
    "    CardTransactions.save(conflict_resolution=\"retrieve\")\n",
    "else:\n",
    "    CardTransactions = EventData.get(\"CARDTRANSACTIONS\")"
   ]
  },
  {
   "cell_type": "code",
   "execution_count": null,
   "metadata": {},
   "outputs": [],
   "source": [
    "# ask featurebyte to analyse the record creation timestamps and set an optimal feature job setting\n",
    "feature_job_analysis = CardTransactions.create_new_feature_job_setting_analysis()"
   ]
  },
  {
   "cell_type": "code",
   "execution_count": null,
   "metadata": {},
   "outputs": [],
   "source": [
    "# use more aggressive settings for the feature job, that ignore the 0.5% of the data that arrives very late\n",
    "CardTransactions.update_default_feature_job_setting(\n",
    "    FeatureJobSetting(\n",
    "    blind_spot='120s',\n",
    "    frequency='3600s',\n",
    "    time_modulo_frequency='65s'\n",
    "    )\n",
    ")"
   ]
  },
  {
   "cell_type": "code",
   "execution_count": null,
   "metadata": {},
   "outputs": [],
   "source": [
    "# show the column details for card fraud status\n",
    "display(fs.get_table(database_name=\"BETA_TESTING_DATASETS\", schema_name=\"CREDIT_CARD\", table_name=\"CARDFRAUDSTATUS\").dtypes)"
   ]
  },
  {
   "cell_type": "code",
   "execution_count": null,
   "metadata": {},
   "outputs": [],
   "source": [
    "# check whether the data is already registered\n",
    "if not Data.list().name.str.contains(\"CARDFRAUDSTATUS\").any():\n",
    "    # register CardFraudStatus as slowly changing data\n",
    "    CardFraudStatus = SlowlyChangingData.from_tabular_source(\n",
    "        name=\"CARDFRAUDSTATUS\",\n",
    "        surrogate_key_column=\"RowID\",\n",
    "        natural_key_column=\"CardTransactionID\",\n",
    "        effective_timestamp_column=\"ValidFrom\",\n",
    "        end_timestamp_column=\"ValidTo\",\n",
    "        record_creation_date_column=\"record_available_at\",\n",
    "        tabular_source=fs.get_table(\n",
    "            database_name=\"BETA_TESTING_DATASETS\",\n",
    "            schema_name=\"CREDIT_CARD\",\n",
    "            table_name=\"CARDFRAUDSTATUS\"\n",
    "        )\n",
    "    )\n",
    "    CardFraudStatus.save(conflict_resolution=\"retrieve\")"
   ]
  },
  {
   "cell_type": "code",
   "execution_count": null,
   "metadata": {},
   "outputs": [],
   "source": [
    "# show the column details for card transaction groups\n",
    "display(fs.get_table(database_name=\"BETA_TESTING_DATASETS\", schema_name=\"CREDIT_CARD\", table_name=\"CARDTRANSACTIONGROUPS\").dtypes)"
   ]
  },
  {
   "cell_type": "code",
   "execution_count": null,
   "metadata": {},
   "outputs": [],
   "source": [
    "# check whether the data is already registered\n",
    "if not Data.list().name.str.contains(\"CARDTRANSACTIONGROUPS\").any():\n",
    "    # register CardTransactionGroups as dimension data\n",
    "    CardTransactionGroups = DimensionData.from_tabular_source(\n",
    "        name=\"CARDTRANSACTIONGROUPS\",\n",
    "        dimension_id_column=\"CardTransactionDescription\",\n",
    "        tabular_source=fs.get_table(\n",
    "            database_name=\"BETA_TESTING_DATASETS\",\n",
    "            schema_name=\"CREDIT_CARD\",\n",
    "            table_name=\"CARDTRANSACTIONGROUPS\"\n",
    "        )\n",
    "    )\n",
    "    CardTransactionGroups.save(conflict_resolution=\"retrieve\")"
   ]
  },
  {
   "cell_type": "code",
   "execution_count": null,
   "metadata": {},
   "outputs": [],
   "source": [
    "# display all of the registered data\n",
    "Data.list()"
   ]
  },
  {
   "cell_type": "markdown",
   "metadata": {},
   "source": [
    "# Tutorial: How do I annotate data?"
   ]
  },
  {
   "attachments": {},
   "cell_type": "markdown",
   "metadata": {},
   "source": [
    "## Test yourself"
   ]
  },
  {
   "cell_type": "markdown",
   "metadata": {},
   "source": [
    "1) Which entities are required to join the tables?\n",
    "\n",
    "* BANKCUSTOMER\n",
    "* STATE\n",
    "* CREDITCARD\n",
    "* CARDTRANSACTION\n",
    "* CARDTRANSACTIONDESCRIPTION"
   ]
  },
  {
   "cell_type": "markdown",
   "metadata": {},
   "source": [
    "2) Register each entity"
   ]
  },
  {
   "cell_type": "code",
   "execution_count": null,
   "metadata": {},
   "outputs": [],
   "source": [
    "# register each entity\n",
    "entity1 = Entity(name=\"bankcustomer\", serving_names=[\"BANKCUSTOMERID\"])\n",
    "entity1.save(conflict_resolution=\"retrieve\")\n",
    "entity2 = Entity(name=\"creditcard\", serving_names=[\"ACCOUNTID\"])\n",
    "entity2.save(conflict_resolution=\"retrieve\")\n",
    "entity3 = Entity(name=\"cardtransaction\", serving_names=[\"CARDTRANSACTIONID\"])\n",
    "entity3.save(conflict_resolution=\"retrieve\")\n",
    "entity4 = Entity(name=\"cardtransactiondescription\", serving_names=[\"CARDTRANSACTIONDESCRIPTION\"])\n",
    "entity4.save(conflict_resolution=\"retrieve\")\n",
    "entity5 = Entity(name=\"state\", serving_names=[\"STATECODE\"])\n",
    "entity5.save(conflict_resolution=\"retrieve\")"
   ]
  },
  {
   "cell_type": "code",
   "execution_count": null,
   "metadata": {},
   "outputs": [],
   "source": [
    "# list the registered entities\n",
    "display(Entity.list())"
   ]
  },
  {
   "cell_type": "markdown",
   "metadata": {},
   "source": [
    "3) Annotate which columns represent entities"
   ]
  },
  {
   "cell_type": "code",
   "execution_count": null,
   "metadata": {},
   "outputs": [],
   "source": [
    "# tag the entities for the bank customer table\n",
    "bankCustomerTable = SlowlyChangingData.get('BANKCUSTOMER')\n",
    "# tag columns as entities\n",
    "bankCustomerTable.BankCustomerID.as_entity(\"bankcustomer\")\n",
    "bankCustomerTable.StateCode.as_entity(\"state\")\n",
    "\n",
    "bankCustomerTable.info()"
   ]
  },
  {
   "cell_type": "code",
   "execution_count": null,
   "metadata": {},
   "outputs": [],
   "source": [
    "# tag the entities for the credit card table\n",
    "creditCardTable = SlowlyChangingData.get('CREDITCARD')\n",
    "# tag columns as entities\n",
    "creditCardTable.AccountID.as_entity(\"creditcard\")\n",
    "creditCardTable.BankCustomerID.as_entity(\"bankcustomer\")\n",
    "\n",
    "creditCardTable.info()"
   ]
  },
  {
   "cell_type": "code",
   "execution_count": null,
   "metadata": {},
   "outputs": [],
   "source": [
    "# tag the entities for the card transactions table\n",
    "cardTransactionsTable = EventData.get('CARDTRANSACTIONS')\n",
    "# tag columns as entities\n",
    "cardTransactionsTable.CardTransactionID.as_entity(\"cardtransaction\")\n",
    "cardTransactionsTable.AccountID.as_entity(\"creditcard\")\n",
    "cardTransactionsTable.CardTransactionDescription.as_entity(\"cardtransactiondescription\")\n",
    "\n",
    "cardTransactionsTable.info()"
   ]
  },
  {
   "cell_type": "code",
   "execution_count": null,
   "metadata": {},
   "outputs": [],
   "source": [
    "# tag the entities for the card transaction groups table\n",
    "cardTransactionGroupsTable = DimensionData.get('CARDTRANSACTIONGROUPS')\n",
    "# tag columns as entities\n",
    "cardTransactionGroupsTable.CardTransactionDescription.as_entity(\"cardtransactiondescription\")\n",
    "\n",
    "cardTransactionGroupsTable.info()"
   ]
  },
  {
   "cell_type": "code",
   "execution_count": null,
   "metadata": {},
   "outputs": [],
   "source": [
    "# tag the entities for the card fraud status table\n",
    "cardFraudStatusTable = SlowlyChangingData.get('CARDFRAUDSTATUS')\n",
    "# tag columns as entities\n",
    "cardFraudStatusTable.CardTransactionID.as_entity(\"cardtransaction\")\n",
    "\n",
    "cardFraudStatusTable.info()"
   ]
  },
  {
   "cell_type": "code",
   "execution_count": null,
   "metadata": {},
   "outputs": [],
   "source": [
    "# tag the entities for the state details table\n",
    "stateDetailsTable = SlowlyChangingData.get('STATEDETAILS')\n",
    "# tag columns as entities\n",
    "stateDetailsTable.StateCode.as_entity(\"state\")\n",
    "\n",
    "stateDetailsTable.info()"
   ]
  },
  {
   "cell_type": "code",
   "execution_count": null,
   "metadata": {},
   "outputs": [],
   "source": [
    "Data.list()"
   ]
  },
  {
   "cell_type": "markdown",
   "metadata": {},
   "source": [
    "# Tutorial: How do I view tabular data?"
   ]
  },
  {
   "attachments": {},
   "cell_type": "markdown",
   "metadata": {},
   "source": [
    "## Test yourself"
   ]
  },
  {
   "cell_type": "markdown",
   "metadata": {},
   "source": [
    "1) Create a customer view and display sample rows"
   ]
  },
  {
   "cell_type": "code",
   "execution_count": null,
   "metadata": {},
   "outputs": [],
   "source": [
    "# create a view for the customer data\n",
    "customerView = SlowlyChangingView.from_slowly_changing_data(\n",
    "    slowly_changing_data=SlowlyChangingData.get(\"BANKCUSTOMER\")\n",
    ")\n",
    "\n",
    "# display sample rows from the view\n",
    "customerView.sample()"
   ]
  },
  {
   "cell_type": "markdown",
   "metadata": {},
   "source": [
    "2) Create a transaction view and display sample rows"
   ]
  },
  {
   "cell_type": "code",
   "execution_count": null,
   "metadata": {},
   "outputs": [],
   "source": [
    "# create a view for the transaction data\n",
    "transactionView = EventView.from_event_data(\n",
    "    event_data=EventData.get(\"CARDTRANSACTIONS\")\n",
    ")\n",
    "\n",
    "# display sample rows from the transaction view\n",
    "transactionView.sample()"
   ]
  },
  {
   "cell_type": "markdown",
   "metadata": {},
   "source": [
    "# Tutorial: How do I transform data?"
   ]
  },
  {
   "attachments": {},
   "cell_type": "markdown",
   "metadata": {},
   "source": [
    "## Test yourself"
   ]
  },
  {
   "cell_type": "markdown",
   "metadata": {},
   "source": [
    "1) Calculate the population density for each US state"
   ]
  },
  {
   "cell_type": "code",
   "execution_count": null,
   "metadata": {},
   "outputs": [],
   "source": [
    "# create a view for StateDetails\n",
    "stateDetailsView = SlowlyChangingView.from_slowly_changing_data(\n",
    "    slowly_changing_data=SlowlyChangingData.get(\"STATEDETAILS\")\n",
    ")\n",
    "\n",
    "# calculate the population density for each state\n",
    "stateDetailsView['population_density'] = stateDetailsView['TotalPopulation'] / stateDetailsView['Area']\n",
    "\n",
    "# show sample rows from the view\n",
    "stateDetailsView[['StateName', 'TotalPopulation', 'Area', 'population_density']].sample()"
   ]
  },
  {
   "cell_type": "markdown",
   "metadata": {},
   "source": [
    "2) Create a flag column for when repayments occur"
   ]
  },
  {
   "cell_type": "code",
   "execution_count": null,
   "metadata": {},
   "outputs": [],
   "source": [
    "# create a view for card transactions\n",
    "cardTransactionsView = EventView.from_event_data(\n",
    "    event_data=EventData.get(\"CARDTRANSACTIONS\")\n",
    ")\n",
    "\n",
    "# calculate a flag for when repayments occur\n",
    "cardTransactionsView['repayment_flag'] = (cardTransactionsView['CardTransactionDescription'] == 'repayment') | (cardTransactionsView['CardTransactionDescription'] == 'amortization') | (cardTransactionsView['CardTransactionDescription'] == 'direct debit repayment')\n",
    "\n",
    "# show sample rows from the view\n",
    "cardTransactionsView.sample(100)"
   ]
  },
  {
   "cell_type": "markdown",
   "metadata": {},
   "source": [
    "# Tutorial: How do I filter data?"
   ]
  },
  {
   "attachments": {},
   "cell_type": "markdown",
   "metadata": {},
   "source": [
    "## Test yourself"
   ]
  },
  {
   "cell_type": "markdown",
   "metadata": {},
   "source": [
    "1) Create a view of transactions showing only the fees charged"
   ]
  },
  {
   "cell_type": "code",
   "execution_count": null,
   "metadata": {},
   "outputs": [],
   "source": [
    "# create a view for card transactions\n",
    "cardTransactionsView = EventView.from_event_data(\n",
    "    event_data=EventData.get(\"CARDTRANSACTIONS\")\n",
    ")\n",
    "\n",
    "# create a mask that is only true for transactions that include the text \"fee\", but not \"coffee\" in the description\n",
    "feeMask = cardTransactionsView['CardTransactionDescription'].str.contains('fee') & ~cardTransactionsView['CardTransactionDescription'].str.contains('coffee')\n",
    "\n",
    "# create a view that only includes transactions that include the text \"fee\"\n",
    "feeView = cardTransactionsView[feeMask].copy()\n",
    "\n",
    "# show sample rows from the view\n",
    "feeView.sample()"
   ]
  },
  {
   "cell_type": "markdown",
   "metadata": {},
   "source": [
    "2) Assign customers to market segments based upon their age at 31-Dec-2022:\n",
    "    * under 18\n",
    "    * 18-65\n",
    "    * over 65"
   ]
  },
  {
   "cell_type": "code",
   "execution_count": null,
   "metadata": {},
   "outputs": [],
   "source": [
    "# create a view for bank customers\n",
    "bankCustomerView = SlowlyChangingView.from_slowly_changing_data(\n",
    "    slowly_changing_data=SlowlyChangingData.get(\"BANKCUSTOMER\")\n",
    ")\n",
    "\n",
    "# calculate the customer age\n",
    "bankCustomerView['age'] = 2022 - bankCustomerView['DateOfBirth'].dt.year\n",
    "\n",
    "# create a mask for customer age less than 18\n",
    "minorMask = bankCustomerView['age'] < 18\n",
    "\n",
    "# create a mask for customer age greater than 65\n",
    "seniorMask = bankCustomerView['age'] > 65\n",
    "\n",
    "# create a column that categorizes customers as minor, adult or senior\n",
    "bankCustomerView['age_category'] = 'adult'\n",
    "bankCustomerView.age_category[minorMask] = 'minor'\n",
    "bankCustomerView.age_category[seniorMask] = 'senior'\n",
    "\n",
    "# show sample rows from the view\n",
    "bankCustomerView[['DateOfBirth', 'age', 'age_category']].sample()"
   ]
  },
  {
   "cell_type": "markdown",
   "metadata": {},
   "source": [
    "# Tutorial: How do I join data?"
   ]
  },
  {
   "attachments": {},
   "cell_type": "markdown",
   "metadata": {},
   "source": [
    "## Test yourself"
   ]
  },
  {
   "cell_type": "markdown",
   "metadata": {},
   "source": [
    "1) Join the CreditCard view to the CardTransactions view"
   ]
  },
  {
   "cell_type": "code",
   "execution_count": null,
   "metadata": {},
   "outputs": [],
   "source": [
    "# get the credit card view\n",
    "creditCardView = SlowlyChangingView.from_slowly_changing_data(\n",
    "    slowly_changing_data=SlowlyChangingData.get(\"CREDITCARD\")\n",
    ")\n",
    "\n",
    "# get the card transactions view\n",
    "cardTransactionsView = EventView.from_event_data(\n",
    "    event_data=EventData.get(\"CARDTRANSACTIONS\")\n",
    ")\n",
    "\n",
    "# join the credit card view to the card transactions view\n",
    "cardTransactionsView.join(creditCardView, rsuffix='_credit_card')\n",
    "\n",
    "# display sample rows from the view\n",
    "cardTransactionsView.sample()"
   ]
  },
  {
   "cell_type": "markdown",
   "metadata": {},
   "source": [
    "2) Join the CardTransactions view to the CardFraudStatus view\n"
   ]
  },
  {
   "cell_type": "code",
   "execution_count": null,
   "metadata": {},
   "outputs": [],
   "source": [
    "# get the card transactions view\n",
    "cardTransactionsView = EventView.from_event_data(\n",
    "    event_data=EventData.get(\"CARDTRANSACTIONS\")\n",
    ")\n",
    "\n",
    "# get the card fraud status view\n",
    "cardFraudStatusView = SlowlyChangingView.from_slowly_changing_data(\n",
    "    slowly_changing_data=SlowlyChangingData.get(\"CARDFRAUDSTATUS\")\n",
    ")\n",
    "\n",
    "# join the card transactions view to the card fraud status view\n",
    "cardFraudStatusView.join(cardTransactionsView, rsuffix='_card_transactions')\n",
    "\n",
    "# display sample rows from the view\n",
    "cardFraudStatusView.sample()"
   ]
  },
  {
   "cell_type": "markdown",
   "metadata": {},
   "source": [
    "3) Join the CardTransactionGroups view to the CardTransactions view"
   ]
  },
  {
   "cell_type": "code",
   "execution_count": null,
   "metadata": {},
   "outputs": [],
   "source": [
    "# get the card transactions view\n",
    "cardTransactionsView = EventView.from_event_data(\n",
    "    event_data=EventData.get(\"CARDTRANSACTIONS\")\n",
    ")\n",
    "\n",
    "# get the card transaction groups view\n",
    "cardTransactionGroupsView = DimensionView.from_dimension_data(\n",
    "    dimension_data=DimensionData.get(\"CARDTRANSACTIONGROUPS\")\n",
    ")\n",
    "\n",
    "# join the card transactions groups view to the card transactions view\n",
    "cardTransactionsView.join(cardTransactionGroupsView, rsuffix='_card_transaction_groups')\n",
    "\n",
    "# display sample rows from the view\n",
    "cardTransactionsView.sample()"
   ]
  },
  {
   "cell_type": "markdown",
   "metadata": {},
   "source": [
    "# Tutorial: How do I aggregate data?"
   ]
  },
  {
   "attachments": {},
   "cell_type": "markdown",
   "metadata": {},
   "source": [
    "## Test yourself"
   ]
  },
  {
   "cell_type": "markdown",
   "metadata": {},
   "source": [
    "1) Calculate the number of credit cards a customer has at a point in time"
   ]
  },
  {
   "cell_type": "code",
   "execution_count": null,
   "metadata": {},
   "outputs": [],
   "source": [
    "# get a credit card view\n",
    "creditCardView = SlowlyChangingView.from_slowly_changing_data(\n",
    "    slowly_changing_data=creditCardTable\n",
    ")\n",
    "\n",
    "# filter the credit card view to only include cards that are active\n",
    "activeCreditCardView = creditCardView[creditCardView['closed_at'].isnull()]\n",
    "\n",
    "# count the number of credit cards per customer\n",
    "cardCount = activeCreditCardView.groupby('BankCustomerID').aggregate_asat(\n",
    "    None,\n",
    "    AggFunc.COUNT,\n",
    "    backward=True,\n",
    "    feature_name=\"card_count_by_customer_asat_now\"\n",
    ")"
   ]
  },
  {
   "cell_type": "markdown",
   "metadata": {},
   "source": [
    "2) Calculate the proportion of transactions that are negative over the past 30 days, grouped by credit card"
   ]
  },
  {
   "cell_type": "code",
   "execution_count": null,
   "metadata": {},
   "outputs": [],
   "source": [
    "# get a transaction view\n",
    "cardTransactionsView = EventView.from_event_data(\n",
    "    event_data=EventData.get(\"CARDTRANSACTIONS\")\n",
    ")\n",
    "\n",
    "# create a field that has 1 if a transaction is negative, 0 otherwise\n",
    "cardTransactionsView['negative_transaction'] = (cardTransactionsView['Amount'] < 0).astype(int)\n",
    "\n",
    "# calculate the average proportion of negative transactions per credit card over the past 30 days\n",
    "negativeTransactionProportion = cardTransactionsView.groupby('AccountID').aggregate_over(\n",
    "    'negative_transaction',\n",
    "    AggFunc.AVG,\n",
    "    windows=['30d'],\n",
    "    feature_names=['negative_transactions_by_card_past_30_days']\n",
    ")"
   ]
  },
  {
   "cell_type": "markdown",
   "metadata": {},
   "source": [
    "3) Calculate the entropy of transaction types over the past 90 days, grouped by credit card"
   ]
  },
  {
   "cell_type": "code",
   "execution_count": null,
   "metadata": {},
   "outputs": [],
   "source": [
    "# get the card transaction view\n",
    "cardTransactionsView = EventView.from_event_data(\n",
    "    event_data=EventData.get(\"CARDTRANSACTIONS\")\n",
    ")\n",
    "\n",
    "# get the count of card transaction descriptions, grouped by credit card, over the past 90 days\n",
    "cardTransactionDescriptionCount = cardTransactionsView.groupby('AccountID', category='CardTransactionDescription').aggregate_over(\n",
    "    None,\n",
    "    AggFunc.COUNT,\n",
    "    windows=['90d'],\n",
    "    feature_names=['card_transaction_description_count_by_card_past_90_days']\n",
    ")\n",
    "\n",
    "# get the entropy of cardTransactionDescriptionCount\n",
    "counts = cardTransactionDescriptionCount['card_transaction_description_count_by_card_past_90_days']\n",
    "cardTransactionDescriptionEntropy = counts.cd.entropy()\n",
    "cardTransactionDescriptionEntropy.name = 'card_transaction_description_entropy_by_card_past_90_days'"
   ]
  },
  {
   "attachments": {},
   "cell_type": "markdown",
   "metadata": {},
   "source": [
    "Show some sample result for these three aggregations"
   ]
  },
  {
   "cell_type": "code",
   "execution_count": null,
   "metadata": {},
   "outputs": [],
   "source": [
    "# get some customer IDs and account IDs where we know the account has been active in December 2022\n",
    "mask = creditCardView.ValidTo.isnull() | (creditCardView.ValidTo.dt.year > 2022)\n",
    "samples = creditCardView[mask].sample(5)\n",
    "\n",
    "# create a feature group containing all of the aggregations\n",
    "featureGroup = FeatureGroup([cardCount, negativeTransactionProportion, cardTransactionDescriptionEntropy])\n",
    "\n",
    "# loop through the samples to create a multi-row preview of the feature values\n",
    "display(pd.concat([featureGroup.preview(\n",
    "    point_in_time_and_serving_name={\n",
    "        \"POINT_IN_TIME\": \"2023-01-01\",\n",
    "        \"BANKCUSTOMERID\": samples['BankCustomerID'][i],\n",
    "        \"ACCOUNTID\": samples['AccountID'][i]\n",
    "    }\n",
    ") for i in range(0, 5)]))"
   ]
  },
  {
   "cell_type": "markdown",
   "metadata": {},
   "source": [
    "# Tutorial: How do I declare features?"
   ]
  },
  {
   "cell_type": "markdown",
   "metadata": {},
   "source": [
    "## Test yourself\n",
    "\n",
    "This is the section of the tutorial where you apply what you have learned to a new dataset, in this case, the credit card dataset.\n",
    "\n",
    "1) Create a feature that is the consistency of the past 30 days' transactions versus past 90 days on a credit card\n",
    "2) Create a feature that is the similarity of the past 30 days' transaction groups for a credit card versus all customers"
   ]
  },
  {
   "cell_type": "markdown",
   "metadata": {},
   "source": [
    "1) Create a feature that is the consistency of the past 30 days' transactions versus past 90 days on a credit card"
   ]
  },
  {
   "cell_type": "code",
   "execution_count": null,
   "metadata": {},
   "outputs": [],
   "source": [
    "# create a view of transactions\n",
    "transactionsView = EventView.from_event_data(\n",
    "    event_data=EventData.get(\"CARDTRANSACTIONS\")\n",
    ")\n",
    "\n",
    "# declare a feature that is an inventory of the items purchased over the past 30 days, grouped by customer\n",
    "customer_inventory30d = transactionsView.groupby(\"AccountID\", category=\"CardTransactionDescription\").aggregate_over(\n",
    "    None,\n",
    "    method=AggFunc.COUNT,\n",
    "    feature_names=[\"CustomerInventory30d\"],\n",
    "    windows=['30d']\n",
    ")\n",
    "\n",
    "# declare a feature that is an inventory of the items purchased over the past 90 days, grouped by customer\n",
    "customer_inventory90d = transactionsView.groupby(\"AccountID\", category=\"CardTransactionDescription\").aggregate_over(\n",
    "    None,\n",
    "    method=AggFunc.COUNT,\n",
    "    feature_names=[\"CustomerInventory90d\"],\n",
    "    windows=['90d']\n",
    ")\n",
    "\n",
    "# How consistent is a customer's purchasing behavior over time?\n",
    "# create a feature that measures the similarity of the past 30 days' purchases versus the past 90 days' purchases\n",
    "customer_inventory_consistency = customer_inventory30d[\"CustomerInventory30d\"].cd.cosine_similarity(customer_inventory90d[\"CustomerInventory90d\"])\n",
    "customer_inventory_consistency.name = \"CustomerTransactionConsistency\"\n",
    "\n",
    "# get some account IDs where we know the account has been active in December 2022\n",
    "mask = (transactionsView['Timestamp'].dt.year == 2022) & (transactionsView['Timestamp'].dt.month == 12)\n",
    "samples = transactionsView[mask].sample(5)\n",
    "\n",
    "# create a feature group\n",
    "consistency = FeatureGroup([customer_inventory30d, customer_inventory90d, customer_inventory_consistency])\n",
    "\n",
    "# loop through the AccountID column of samples to create a multi-row preview of the feature values\n",
    "display(pd.concat([consistency.preview(\n",
    "    point_in_time_and_serving_name={\n",
    "        \"POINT_IN_TIME\": \"2023-01-01 00:00:00\",\n",
    "        \"ACCOUNTID\": account_id\n",
    "    }\n",
    ") for account_id in samples['AccountID']]))"
   ]
  },
  {
   "cell_type": "markdown",
   "metadata": {},
   "source": [
    "2) Create a feature that is the similarity of the past 30 days' transaction groups for a credit card versus all customers"
   ]
  },
  {
   "cell_type": "code",
   "execution_count": null,
   "metadata": {},
   "outputs": [],
   "source": [
    "# declare a feature that is an inventory of the items purchased over the past 30 days, grouped by customer\n",
    "all_inventory30d = transactionsView.groupby(by_keys=[], category=\"CardTransactionDescription\").aggregate_over(\n",
    "    None,\n",
    "    method=AggFunc.COUNT,\n",
    "    feature_names=[\"AllInventory30d\"],\n",
    "    windows=['30d']\n",
    ")\n",
    "\n",
    "# How consistent is a customer's purchasing behavior over time?\n",
    "# create a feature that measures the similarity of the past 30 days' purchases versus the past 90 days' purchases\n",
    "customer_inventory_similarity = customer_inventory30d[\"CustomerInventory30d\"].cd.cosine_similarity(all_inventory30d[\"AllInventory30d\"])\n",
    "customer_inventory_similarity.name = \"CustomerTransactionSimilarity\"\n",
    "\n",
    "# create a feature group\n",
    "similarity = FeatureGroup([customer_inventory30d, all_inventory30d, customer_inventory_similarity])\n",
    "\n",
    "# loop through the AccountID column of samples to create a multi-row preview of the feature values\n",
    "display(pd.concat([similarity.preview(\n",
    "    point_in_time_and_serving_name={\n",
    "        \"POINT_IN_TIME\": \"2023-01-01 00:00:00\",\n",
    "        \"ACCOUNTID\": account_id\n",
    "    }\n",
    ") for account_id in samples['AccountID']]))"
   ]
  },
  {
   "attachments": {},
   "cell_type": "markdown",
   "metadata": {},
   "source": [
    "# Tutorial: How do I declare a target?"
   ]
  },
  {
   "attachments": {},
   "cell_type": "markdown",
   "metadata": {},
   "source": [
    "## Test yourself"
   ]
  },
  {
   "attachments": {},
   "cell_type": "markdown",
   "metadata": {},
   "source": [
    "1) declare a target which is the total transaction amounts over the next 30 days, grouped by customer"
   ]
  },
  {
   "cell_type": "code",
   "execution_count": null,
   "metadata": {},
   "outputs": [],
   "source": [
    "# join card transactions view with credit card view, to get the customer ID\n",
    "targetView = transactionsView.copy()\n",
    "targetView.join(creditCardView[['BankCustomerID', 'AccountID']])\n",
    "\n",
    "display(targetView.sample())"
   ]
  },
  {
   "cell_type": "code",
   "execution_count": null,
   "metadata": {},
   "outputs": [],
   "source": [
    "target1 = targetView.groupby(\"BankCustomerID\").aggregate_over(\n",
    "    \"Amount\",\n",
    "    method=AggFunc.SUM,\n",
    "    feature_names=[\"Target1\"],\n",
    "    windows=['30d'],\n",
    "    fill_value = 0\n",
    ")\n",
    "\n",
    "# get some customer IDs where we know at least one credit card account was active at 31-Dec-2022\n",
    "mask = creditCardView['ValidTo'].isnull() | (creditCardView['ValidTo'].dt.year > 2022)\n",
    "customer_samples = creditCardView[mask].sample(5)\n",
    "\n",
    "# loop through the BankCustomerID column of samples to create a multi-row preview of the feature values\n",
    "display(pd.concat([target1.preview(\n",
    "    point_in_time_and_serving_name={\n",
    "        \"POINT_IN_TIME\": \"2023-01-01 00:00:00\",\n",
    "        \"BANKCUSTOMERID\": customer_id\n",
    "    }\n",
    ") for customer_id in customer_samples['BankCustomerID']]))"
   ]
  },
  {
   "attachments": {},
   "cell_type": "markdown",
   "metadata": {},
   "source": [
    "2) declare a target which is whether a credit card will have an active record 30 days from now"
   ]
  },
  {
   "cell_type": "code",
   "execution_count": null,
   "metadata": {},
   "outputs": [],
   "source": [
    "# filter out closed credit card accounts\n",
    "mask1 = creditCardView['closed_at'].isnull()\n",
    "active_card_records = creditCardView[mask1]\n",
    "active_card_records['card_is_active'] = 1\n",
    "\n",
    "target2 = active_card_records.card_is_active.as_feature(feature_name=\"Target2\")\n",
    "\n",
    "# loop through the AccountID column of samples to create a multi-row preview of the feature values\n",
    "display(pd.concat([target2.preview(\n",
    "    point_in_time_and_serving_name={\n",
    "        \"POINT_IN_TIME\": \"2023-01-01 00:00:00\",\n",
    "        \"ACCOUNTID\": account_id\n",
    "    }\n",
    ") for account_id in samples['AccountID']]))"
   ]
  },
  {
   "attachments": {},
   "cell_type": "markdown",
   "metadata": {},
   "source": [
    "# Tutorial: How do I align the entity level of features?"
   ]
  },
  {
   "attachments": {},
   "cell_type": "markdown",
   "metadata": {},
   "source": [
    "## Test yourself"
   ]
  },
  {
   "attachments": {},
   "cell_type": "markdown",
   "metadata": {},
   "source": [
    "1) get the entity for each of the following features\n",
    "* population of the state that the customer lives in\n",
    "* count of credit cards the customer has used over the past 90 days\n",
    "* entropy of transaction description groups on transactions over the past 60 days, by customer\n",
    "* largest single transaction over the past 30 days, by credit card"
   ]
  },
  {
   "cell_type": "code",
   "execution_count": null,
   "metadata": {},
   "outputs": [],
   "source": [
    "# join BankCustomerID to the transactions view\n",
    "transactionsView.join(creditCardView[['BankCustomerID', 'AccountID']])\n",
    "\n",
    "# join transaction description groups to the transactions view\n",
    "transactionsView.join(cardTransactionGroupsView, on=\"CardTransactionDescription\", how=\"left\")"
   ]
  },
  {
   "cell_type": "code",
   "execution_count": null,
   "metadata": {},
   "outputs": [],
   "source": [
    "# create a feature that the total transaction amounts over 30 days by customer\n",
    "target_total_transactions = transactionsView.groupby(\"BankCustomerID\").aggregate_over(\n",
    "    \"Amount\",\n",
    "    method=AggFunc.SUM,\n",
    "    feature_names=[\"Target_TotalTransactions\"],\n",
    "    windows=['30d'],\n",
    "    fill_value=0\n",
    ")\n",
    "# convert the feature group to a single feature\n",
    "target_total_transactions = target_total_transactions[\"Target_TotalTransactions\"]"
   ]
  },
  {
   "cell_type": "code",
   "execution_count": null,
   "metadata": {},
   "outputs": [],
   "source": [
    "# create a feature that is the population of the state of residence of a customer\n",
    "state_population = stateDetailsView[\"TotalPopulation\"].as_feature(\"StatePopulation\")\n",
    "\n",
    "# get a count dictionary the transaction counts for each credit card over the past 90 days\n",
    "cardTransactionCounts = transactionsView.groupby('BankCustomerID', category='AccountID').aggregate_over(\n",
    "    None,\n",
    "    AggFunc.COUNT,\n",
    "    windows=['90d'],\n",
    "    feature_names=['transaction_count_by_card_past_90_days']\n",
    ")\n",
    "# create a feature that is the length of the inventory within cardTransactionCounts\n",
    "activeCreditCardCount = cardTransactionCounts['transaction_count_by_card_past_90_days'].cd.unique_count(include_missing=False)\n",
    "activeCreditCardCount.name = 'active_credit_card_count_by_customer_past_90_days'\n",
    "\n",
    "# create a feature that is the count of transactions in each transaction description group over the past 60 days by customer\n",
    "transactionGroupCount = transactionsView.groupby('BankCustomerID', category='TransactionGroup').aggregate_over(\n",
    "    None,\n",
    "    AggFunc.COUNT,\n",
    "    windows=['60d'],\n",
    "    feature_names=['card_transaction_group_count_by_card_past_60_days']\n",
    ")\n",
    "# create a feature that is the entropy of the transaction description groups over the past 60 days by credit card\n",
    "transactionGroupEntropy60d = transactionGroupCount[\"card_transaction_group_count_by_card_past_60_days\"].cd.entropy()\n",
    "transactionGroupEntropy60d.name = \"card_transaction_group_entropy_by_card_past_60_days\"\n",
    "\n",
    "# create a feature that is the largest transaction amount over the past 30 days by credit card\n",
    "cardTransactionMax = transactionsView.groupby('AccountID').aggregate_over(\n",
    "    'Amount',\n",
    "    AggFunc.MAX,\n",
    "    windows=['30d'],\n",
    "    feature_names=['transaction_max_by_card_past_30_days']\n",
    ")"
   ]
  },
  {
   "cell_type": "code",
   "execution_count": null,
   "metadata": {},
   "outputs": [],
   "source": [
    "# save each feature\n",
    "target_total_transactions.save(conflict_resolution=\"retrieve\")\n",
    "state_population.save(conflict_resolution=\"retrieve\")\n",
    "activeCreditCardCount.save(conflict_resolution=\"retrieve\")\n",
    "transactionGroupEntropy60d.save(conflict_resolution=\"retrieve\")\n",
    "cardTransactionMax['transaction_max_by_card_past_30_days'].save(conflict_resolution=\"retrieve\")"
   ]
  },
  {
   "cell_type": "code",
   "execution_count": null,
   "metadata": {},
   "outputs": [],
   "source": [
    "# view the entities of each feature\n",
    "stored_features = Feature.list()\n",
    "\n",
    "# filter to only show the credit card use case features\n",
    "mask = stored_features.entities.apply(lambda x: ('creditcard' in x) or ('bankcustomer' in x) or ('state' in x) or ('cardtransactiondescription' in x) or ('cardtransactiond' in x))\n",
    "stored_features = stored_features[mask]\n",
    "\n",
    "display(stored_features)"
   ]
  },
  {
   "attachments": {},
   "cell_type": "markdown",
   "metadata": {},
   "source": [
    "2) which features require aggregation?"
   ]
  },
  {
   "cell_type": "code",
   "execution_count": null,
   "metadata": {},
   "outputs": [],
   "source": [
    "# what is the entity level of the target?\n",
    "target_entity = stored_features.loc[stored_features.name.str.contains(\"Target\")].entities.values[0][0]\n",
    "print('The target entity is {}'.format(target_entity))"
   ]
  },
  {
   "cell_type": "code",
   "execution_count": null,
   "metadata": {},
   "outputs": [],
   "source": [
    "# which features have entities other than the target entity?\n",
    "def has_other_entities(x, whitelisted):\n",
    "    for y in x:\n",
    "        if y != whitelisted:\n",
    "            return True\n",
    "    return False\n",
    "stored_features.loc[[has_other_entities(x, target_entity) for x in stored_features.entities.values]]"
   ]
  },
  {
   "attachments": {},
   "cell_type": "markdown",
   "metadata": {},
   "source": [
    "3) apply MAX aggregation to all features that require aggregation"
   ]
  },
  {
   "cell_type": "code",
   "execution_count": null,
   "metadata": {},
   "outputs": [],
   "source": [
    "# create a feature that is the largest transaction amount over the past 30 days by customer\n",
    "customerTransactionMax = transactionsView.groupby('BankCustomerID').aggregate_over(\n",
    "    'Amount',\n",
    "    AggFunc.MAX,\n",
    "    windows=['30d'],\n",
    "    feature_names=['transaction_max_by_customer_past_30_days']\n",
    ")\n",
    "\n",
    "# save the feature\n",
    "customerTransactionMax['transaction_max_by_customer_past_30_days'].save(conflict_resolution=\"retrieve\")"
   ]
  },
  {
   "cell_type": "code",
   "execution_count": null,
   "metadata": {},
   "outputs": [],
   "source": [
    "# view the entities of each feature\n",
    "stored_features = Feature.list()\n",
    "\n",
    "# filter to only show the credit card use case features\n",
    "mask = stored_features.entities.apply(lambda x: ('creditcard' in x) or ('bankcustomer' in x) or ('state' in x) or ('cardtransactiondescription' in x) or ('cardtransactiond' in x))\n",
    "stored_features = stored_features[mask]\n",
    "\n",
    "display(stored_features)"
   ]
  },
  {
   "cell_type": "markdown",
   "metadata": {},
   "source": [
    "# Tutorial: How do I declare a feature list?"
   ]
  },
  {
   "attachments": {},
   "cell_type": "markdown",
   "metadata": {},
   "source": [
    "## Test yourself"
   ]
  },
  {
   "attachments": {},
   "cell_type": "markdown",
   "metadata": {},
   "source": [
    "Build a feature list that combines these four features:\n",
    "* population of the state that the customer lives in\n",
    "* count of credit cards the customer has used over the past 90 days\n",
    "* entropy of transaction description groups on transactions over the past 60 days, by customer\n",
    "* largest single transaction over the past 30 days, by customer"
   ]
  },
  {
   "cell_type": "code",
   "execution_count": null,
   "metadata": {},
   "outputs": [],
   "source": [
    "feature_list_name = 'Beta testing tutorial test yourself feature list'\n",
    "new_feature_list = FeatureList([\n",
    "    state_population,\n",
    "    activeCreditCardCount,\n",
    "    transactionGroupEntropy60d,\n",
    "    customerTransactionMax       \n",
    "    ], name=feature_list_name)"
   ]
  },
  {
   "cell_type": "code",
   "execution_count": null,
   "metadata": {},
   "outputs": [],
   "source": [
    "entities = Entity.list()\n",
    "\n",
    "# filter to only show the credit card use case entities\n",
    "mask = entities.name.apply(lambda x: ('french' not in x) and ('grocery' not in x))\n",
    "entities = entities[mask]\n",
    "\n",
    "display(entities)"
   ]
  },
  {
   "cell_type": "code",
   "execution_count": null,
   "metadata": {},
   "outputs": [],
   "source": [
    "# save the feature list into the feature store\n",
    "new_feature_list.save(conflict_resolution=\"retrieve\")"
   ]
  },
  {
   "cell_type": "code",
   "execution_count": null,
   "metadata": {},
   "outputs": [],
   "source": [
    "# display all feature lists in the feature store\n",
    "FeatureList.list()"
   ]
  },
  {
   "cell_type": "markdown",
   "metadata": {},
   "source": [
    "# Tutorial: How do I change the status of a feature list?"
   ]
  },
  {
   "attachments": {},
   "cell_type": "markdown",
   "metadata": {},
   "source": [
    "## Test yourself"
   ]
  },
  {
   "cell_type": "markdown",
   "metadata": {},
   "source": [
    "1) set each feature readiness to PRODUCTION_READY"
   ]
  },
  {
   "cell_type": "code",
   "execution_count": null,
   "metadata": {},
   "outputs": [],
   "source": [
    "# change the readiness status of each feature in the feature list\n",
    "for name, feat in new_feature_list.feature_objects.items():\n",
    "    feat.update_readiness('PRODUCTION_READY')"
   ]
  },
  {
   "cell_type": "markdown",
   "metadata": {},
   "source": [
    "2) set the feature list status to PUBLISHED"
   ]
  },
  {
   "cell_type": "code",
   "execution_count": null,
   "metadata": {},
   "outputs": [],
   "source": [
    "# make the feature list have published status\n",
    "new_feature_list.update_status('PUBLISHED')"
   ]
  },
  {
   "cell_type": "code",
   "execution_count": null,
   "metadata": {},
   "outputs": [],
   "source": [
    "# display all feature lists in the feature store\n",
    "FeatureList.list()"
   ]
  },
  {
   "cell_type": "markdown",
   "metadata": {},
   "source": [
    "# Tutorial: How do I create training data?"
   ]
  },
  {
   "attachments": {},
   "cell_type": "markdown",
   "metadata": {},
   "source": [
    "## Test yourself\n",
    "\n",
    "This is the section of the tutorial where you apply what you have learned to a new dataset, in this case, the credit card dataset.\n",
    "\n",
    "Materialize your credit card dataset feature list from the observation set file credit_card_observation_set.csv "
   ]
  },
  {
   "cell_type": "code",
   "execution_count": null,
   "metadata": {},
   "outputs": [],
   "source": [
    "# display all feature lists in the feature store\n",
    "display(FeatureList.list())\n",
    "\n",
    "# display all of the entities in the feature store\n",
    "display(Entity.list())"
   ]
  },
  {
   "cell_type": "code",
   "execution_count": null,
   "metadata": {},
   "outputs": [],
   "source": [
    "# load a pre-built observation set matching the defined context\n",
    "observation_set = pd.read_csv(\"credit_card_observation_set.csv\")\n",
    "observation_set[\"POINT_IN_TIME\"] = pd.to_datetime(observation_set[\"POINT_IN_TIME\"], utc=True).dt.tz_localize(None)\n",
    "observation_set[\"POINT_IN_TIME\"] = pd.to_datetime(\"2022-12-01\", utc=True).tz_localize(None)\n",
    "display(observation_set)"
   ]
  },
  {
   "cell_type": "code",
   "execution_count": null,
   "metadata": {},
   "outputs": [],
   "source": [
    "training_data = new_feature_list.get_historical_features(observation_set)\n",
    "display(training_data)"
   ]
  },
  {
   "attachments": {},
   "cell_type": "markdown",
   "metadata": {},
   "source": [
    "Prepare the target for inclusion in the training data"
   ]
  },
  {
   "cell_type": "code",
   "execution_count": null,
   "metadata": {},
   "outputs": [],
   "source": [
    "# create a version of the observation set where the point in time is moved forwards 30 days\n",
    "target_observation_set = observation_set.copy()\n",
    "target_observation_set[\"OLD_POINT_IN_TIME\"] = target_observation_set[\"POINT_IN_TIME\"]\n",
    "target_observation_set[\"POINT_IN_TIME\"] = target_observation_set[\"POINT_IN_TIME\"] + pd.Timedelta(days=30)\n",
    "display(target_observation_set)"
   ]
  },
  {
   "cell_type": "code",
   "execution_count": null,
   "metadata": {},
   "outputs": [],
   "source": [
    "# save target1 as a feature list\n",
    "target1.save(conflict_resolution=\"retrieve\")\n",
    "\n",
    "# create a feature list that is the target1 feature list\n",
    "target_feature_list_name = 'Beta testing tutorial test yourself target feature list'\n",
    "target_feature_list = FeatureList([\n",
    "    target1\n",
    "    ], name=target_feature_list_name)\n",
    "\n",
    "# save the feature list into the feature store\n",
    "target_feature_list.save(conflict_resolution=\"retrieve\")\n",
    "\n",
    "# change the readiness status of each feature in the feature list\n",
    "for name, feat in target_feature_list.feature_objects.items():\n",
    "    feat.update_readiness('PRODUCTION_READY')\n",
    "\n",
    "# make the feature list have published status\n",
    "target_feature_list.update_status('PUBLISHED')"
   ]
  },
  {
   "cell_type": "code",
   "execution_count": null,
   "metadata": {},
   "outputs": [],
   "source": [
    "target_training_data = target_feature_list.get_historical_features(target_observation_set)\n",
    "target_training_data.drop(columns=['STATECODE'], inplace=True)\n",
    "display(target_training_data)"
   ]
  },
  {
   "cell_type": "code",
   "execution_count": null,
   "metadata": {},
   "outputs": [],
   "source": [
    "target_training_data['POINT_IN_TIME'] = target_training_data['OLD_POINT_IN_TIME']\n",
    "target_training_data = target_training_data.drop(columns=['OLD_POINT_IN_TIME'])"
   ]
  },
  {
   "cell_type": "code",
   "execution_count": null,
   "metadata": {},
   "outputs": [],
   "source": [
    "display(target_training_data)"
   ]
  },
  {
   "cell_type": "code",
   "execution_count": null,
   "metadata": {},
   "outputs": [],
   "source": [
    "# merge the target and training data\n",
    "training_data = training_data.merge(target_training_data, on=['BANKCUSTOMERID', 'POINT_IN_TIME'], how='left')\n",
    "display(training_data)"
   ]
  },
  {
   "cell_type": "markdown",
   "metadata": {},
   "source": [
    "# Tutorial: How do I serve features?"
   ]
  },
  {
   "attachments": {},
   "cell_type": "markdown",
   "metadata": {},
   "source": [
    "## Test yourself"
   ]
  },
  {
   "cell_type": "markdown",
   "metadata": {},
   "source": [
    "1) deploy your feature list"
   ]
  },
  {
   "cell_type": "code",
   "execution_count": null,
   "metadata": {},
   "outputs": [],
   "source": [
    "# deploy the new feature list\n",
    "new_feature_list.deploy(enable=True, make_production_ready=True)"
   ]
  },
  {
   "cell_type": "code",
   "execution_count": null,
   "metadata": {},
   "outputs": [],
   "source": [
    "# show the deployed feature lists\n",
    "feature_lists = FeatureList.list()\n",
    "feature_lists = feature_lists[feature_lists.deployed == True]\n",
    "feature_lists = feature_lists[feature_lists.name.str.contains('test yourself')]\n",
    "display(feature_lists)"
   ]
  },
  {
   "cell_type": "code",
   "execution_count": null,
   "metadata": {},
   "outputs": [],
   "source": [
    "# show the online features\n",
    "stored_features = Feature.list()\n",
    "stored_features = stored_features[stored_features.online_enabled == True]\n",
    "\n",
    "# filter to only show the credit card use case features\n",
    "mask = stored_features.entities.apply(lambda x: ('creditcard' in x) or ('bankcustomer' in x) or ('state' in x) or ('cardtransactiondescription' in x) or ('cardtransactiond' in x))\n",
    "stored_features = stored_features[mask]\n",
    "\n",
    "display(stored_features)"
   ]
  },
  {
   "cell_type": "code",
   "execution_count": null,
   "metadata": {},
   "outputs": [],
   "source": [
    "new_feature_list.info(verbose=True)"
   ]
  },
  {
   "attachments": {},
   "cell_type": "markdown",
   "metadata": {},
   "source": [
    "2) call the API with BankCustomerID = 'a07d302c-17bb-4f57-8272-1e3be8795ad9' and StateCode = 'AK'"
   ]
  },
  {
   "cell_type": "code",
   "execution_count": null,
   "metadata": {},
   "outputs": [],
   "source": [
    "# features should be online_enabled\n",
    "new_feature_list.list_features()"
   ]
  },
  {
   "cell_type": "code",
   "execution_count": null,
   "metadata": {},
   "outputs": [],
   "source": [
    "# get a python template for consuming the feature serving API\n",
    "new_feature_list.get_online_serving_code(language=\"python\")"
   ]
  },
  {
   "attachments": {},
   "cell_type": "markdown",
   "metadata": {},
   "source": [
    "Copy the online serving code that was generated above, paste it into the cell below, then run it"
   ]
  },
  {
   "cell_type": "code",
   "execution_count": null,
   "metadata": {},
   "outputs": [],
   "source": [
    "# replace the contents of this Python code cell with the output from new_feature_list.get_online_serving_code(language=\"python\")"
   ]
  },
  {
   "cell_type": "code",
   "execution_count": null,
   "metadata": {},
   "outputs": [],
   "source": [
    "# show the deployed feature lists\n",
    "feature_lists = FeatureList.list()\n",
    "feature_lists = feature_lists[feature_lists.deployed == True]\n",
    "display(feature_lists)"
   ]
  },
  {
   "cell_type": "code",
   "execution_count": null,
   "metadata": {},
   "outputs": [],
   "source": [
    "# disable the feature list deployment\n",
    "new_feature_list.deploy(enable=False)"
   ]
  }
 ],
 "metadata": {
  "kernelspec": {
   "display_name": "featurebyte-dev514",
   "language": "python",
   "name": "python3"
  },
  "language_info": {
   "codemirror_mode": {
    "name": "ipython",
    "version": 3
   },
   "file_extension": ".py",
   "mimetype": "text/x-python",
   "name": "python",
   "nbconvert_exporter": "python",
   "pygments_lexer": "ipython3",
   "version": "3.8.13 | packaged by conda-forge | (default, Mar 25 2022, 05:59:45) [MSC v.1929 64 bit (AMD64)]"
  },
  "vscode": {
   "interpreter": {
    "hash": "1d773a724fc39f0d6029145e8e9a9d54ce813681cd700b0e5bc5ea23747004b3"
   }
  }
 },
 "nbformat": 4,
 "nbformat_minor": 2
}
