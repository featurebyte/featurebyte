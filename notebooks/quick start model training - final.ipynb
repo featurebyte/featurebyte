{
 "cells": [
  {
   "cell_type": "markdown",
   "metadata": {},
   "source": [
    "# Quick Start Tutorial: Model Training"
   ]
  },
  {
   "cell_type": "markdown",
   "metadata": {},
   "source": [
    "## Learning Objectives\n",
    "\n",
    "In this tutorial you will learn:\n",
    "1. How to design an observation set for your use case\n",
    "2. How to materialize training data\n",
    "3. How your ML training environment can consume training data"
   ]
  },
  {
   "cell_type": "markdown",
   "metadata": {},
   "source": [
    "## Set up the prerequisites\n",
    "\n",
    "Learning Objectives\n",
    "\n",
    "In this section you will:\n",
    "* start your local featurebyte server\n",
    "* import libraries\n",
    "* learn the about catalogs\n",
    "* activate a pre-built catalog"
   ]
  },
  {
   "cell_type": "code",
   "execution_count": 1,
   "metadata": {},
   "outputs": [
    {
     "name": "stderr",
     "output_type": "stream",
     "text": [
      "\u001b[32;20m20:59:40\u001b[0m | \u001b[1m\u001b[38;20mINFO    \u001b[0m\u001b[0m | \u001b[1m\u001b[38;20mUsing configuration file at: /Users/jevonyeoh/.featurebyte/config.yaml\u001b[0m\u001b[0m\n",
      "\u001b[32;20m20:59:40\u001b[0m | \u001b[1m\u001b[33;20mWARNING \u001b[0m\u001b[0m | \u001b[1m\u001b[33;20mNo valid profile specified. Update config file or specify valid profile name with \"use_profile\".\u001b[0m\u001b[0m\n",
      "\u001b[32;20m20:59:40\u001b[0m | \u001b[1m\u001b[38;20mINFO    \u001b[0m\u001b[0m | \u001b[1m\u001b[38;20m(1/4) Starting featurebyte services\u001b[0m\u001b[0m\n",
      "Container redis  Running\n",
      "Container spark-thrift  Running\n",
      "Container mongo-rs  Running\n",
      "Container featurebyte-server  Running\n",
      "Container featurebyte-worker  Running\n",
      "Container mongo-rs  Waiting\n",
      "Container mongo-rs  Waiting\n",
      "Container redis  Waiting\n",
      "Container mongo-rs  Healthy\n",
      "Container mongo-rs  Healthy\n",
      "Container redis  Healthy\n",
      "\u001b[32;20m20:59:41\u001b[0m | \u001b[1m\u001b[38;20mINFO    \u001b[0m\u001b[0m | \u001b[1m\u001b[38;20m(2/4) Creating local spark feature store\u001b[0m\u001b[0m\n",
      "\u001b[32;20m20:59:41\u001b[0m | \u001b[1m\u001b[38;20mINFO    \u001b[0m\u001b[0m | \u001b[1m\u001b[38;20m(3/4) Import datasets\u001b[0m\u001b[0m\n",
      "\u001b[32;20m20:59:56\u001b[0m | \u001b[1m\u001b[38;20mINFO    \u001b[0m\u001b[0m | \u001b[1m\u001b[38;20mDataset grocery already exists, skipping import\u001b[0m\u001b[0m\n",
      "\u001b[32;20m20:59:56\u001b[0m | \u001b[1m\u001b[38;20mINFO    \u001b[0m\u001b[0m | \u001b[1m\u001b[38;20mDataset healthcare already exists, skipping import\u001b[0m\u001b[0m\n",
      "\u001b[32;20m20:59:56\u001b[0m | \u001b[1m\u001b[38;20mINFO    \u001b[0m\u001b[0m | \u001b[1m\u001b[38;20mDataset creditcard already exists, skipping import\u001b[0m\u001b[0m\n",
      "\u001b[32;20m20:59:56\u001b[0m | \u001b[1m\u001b[38;20mINFO    \u001b[0m\u001b[0m | \u001b[1m\u001b[38;20m(4/4) Playground environment started successfully. Ready to go! 🚀\u001b[0m\u001b[0m\n"
     ]
    }
   ],
   "source": [
    "# library imports\n",
    "import pandas as pd\n",
    "import numpy as np\n",
    "import random\n",
    "\n",
    "# load the featurebyte SDK\n",
    "import featurebyte as fb\n",
    "\n",
    "# start the local server, then wait for it to be healthy before proceeding\n",
    "fb.playground()"
   ]
  },
  {
   "cell_type": "markdown",
   "metadata": {},
   "source": [
    "### Create a pre-built catalog for this tutorial, with the data, metadata, and features already set up\n",
    "\n",
    "Note that creating a pre-built catalog is not a step you will do in real-life. This is a function specific to this quick-start tutorial to quickly skip over many of the preparatory steps and get you to a point where you can materialize features.\n",
    "\n",
    "In a real-life project you would do data modeling, declaring the tables, entities, and the associated metadata. This would not be a frequent task, but forms the basis for best-practice feature engineering."
   ]
  },
  {
   "cell_type": "code",
   "execution_count": 2,
   "metadata": {},
   "outputs": [
    {
     "name": "stdout",
     "output_type": "stream",
     "text": [
      "Cleaning up existing tutorial catalogs\n"
     ]
    },
    {
     "name": "stderr",
     "output_type": "stream",
     "text": [
      "\u001b[32;20m20:59:56\u001b[0m | \u001b[1m\u001b[38;20mINFO    \u001b[0m\u001b[0m | \u001b[1m\u001b[38;20mCatalog activated: quick start model training 20230802:2053\u001b[0m\u001b[0m\n"
     ]
    },
    {
     "name": "stdout",
     "output_type": "stream",
     "text": [
      "Cleaning catalog: quick start model training 20230802:2053\n",
      "  2 observation tables\n",
      "Done! |████████████████████████████████████████| 100% in 12.3s (0.08%/s)        \n",
      "Done! |████████████████████████████████████████| 100% in 12.3s (0.08%/s)        \n"
     ]
    },
    {
     "name": "stderr",
     "output_type": "stream",
     "text": [
      "\u001b[32;20m21:00:23\u001b[0m | \u001b[1m\u001b[38;20mINFO    \u001b[0m\u001b[0m | \u001b[1m\u001b[38;20mCatalog activated: quick start model training 20230802:2100\u001b[0m\u001b[0m\n"
     ]
    },
    {
     "name": "stdout",
     "output_type": "stream",
     "text": [
      "Building a quick start catalog for model training named [quick start model training 20230802:2100]\n",
      "Creating new catalog\n",
      "Catalog created\n",
      "Registering the source tables\n",
      "Registering the entities\n",
      "Tagging the entities to columns in the data tables\n",
      "Populating the feature store with example features\n",
      "Done! |████████████████████████████████████████| 100% in 6.1s (0.17%/s)         \n",
      "Done! |████████████████████████████████████████| 100% in 6.2s (0.16%/s)         \n",
      "Done! |████████████████████████████████████████| 100% in 6.1s (0.17%/s)         \n",
      "Loading Feature(s) |████████████████████████████████████████| 1/1 [100%] in 0.1s\n",
      "Done! |████████████████████████████████████████| 100% in 6.1s (0.17%/s)         \n",
      "Done! |████████████████████████████████████████| 100% in 6.1s (0.17%/s)         \n",
      "Done! |████████████████████████████████████████| 100% in 6.2s (0.16%/s)         \n",
      "Done! |████████████████████████████████████████| 100% in 6.1s (0.17%/s)         \n",
      "Done! |████████████████████████████████████████| 100% in 6.1s (0.17%/s)         \n",
      "Loading Feature(s) |████████████████████████████████████████| 1/1 [100%] in 0.1s\n",
      "Done! |████████████████████████████████████████| 100% in 6.1s (0.17%/s)         \n",
      "Loading Feature(s) |████████████████████████████████████████| 1/1 [100%] in 0.1s\n",
      "Done! |████████████████████████████████████████| 100% in 6.1s (0.17%/s)         \n",
      "Loading Feature(s) |████████████████████████████████████████| 1/1 [100%] in 0.1s\n",
      "Setting feature readiness\n",
      "Done! |████████████████████████████████████████| 100% in 6.2s (0.16%/s)         \n",
      "Loading Feature(s) |████████████████████████████████████████| 8/8 [100%] in 0.2s\n",
      "Catalog created and pre-populated with data and features\n"
     ]
    }
   ],
   "source": [
    "# get the functions to create a pre-built catalog\n",
    "from prebuilt_catalogs import *\n",
    "\n",
    "# create a new catalog for this tutorial\n",
    "catalog = create_tutorial_catalog(PrebuiltCatalog.QuickStartModelTraining)"
   ]
  },
  {
   "cell_type": "markdown",
   "metadata": {},
   "source": [
    "### Example: Create views from tables in the Catalog"
   ]
  },
  {
   "cell_type": "code",
   "execution_count": 3,
   "metadata": {},
   "outputs": [],
   "source": [
    "# create the views\n",
    "grocery_customer_view = catalog.get_view(\"GROCERYCUSTOMER\")\n",
    "grocery_invoice_view = catalog.get_view(\"GROCERYINVOICE\")\n",
    "grocery_items_view = catalog.get_view(\"INVOICEITEMS\")\n",
    "grocery_product_view = catalog.get_view(\"GROCERYPRODUCT\")"
   ]
  },
  {
   "cell_type": "markdown",
   "metadata": {},
   "source": [
    "## Create an observation set for your use case\n",
    "\n",
    "Learning Objectives\n",
    "\n",
    "In this section you will learn:\n",
    "* the purpose of observation sets\n",
    "* the relationship between entities, point in time, and observation sets\n",
    "* how to design an observation set suitable for training data"
   ]
  },
  {
   "cell_type": "markdown",
   "metadata": {},
   "source": [
    "### Case Study: Predicting Customer Spend\n",
    "\n",
    "Your chain of grocery stores wants to target market customers immediately after each purchase. As one step in this marketing campaign, they want to predict future customer spend in the 14 days after a purchase."
   ]
  },
  {
   "cell_type": "markdown",
   "metadata": {},
   "source": [
    "### Concept: Materialization\n",
    "\n",
    "A feature in FeatureByte is defined by the logical plan for its computation. The act of computing the feature is known as Feature Materialization.\n",
    "\n",
    "The materialization of features is made on demand to fulfill historical requests, whereas for prediction purposes, feature values are generated through a batch process called a \"Feature Job\". The Feature Job is scheduled based on the defined settings associated with each feature."
   ]
  },
  {
   "cell_type": "markdown",
   "metadata": {},
   "source": [
    "### Concept: Observation set\n",
    "\n",
    "An observation set combines entity key values and historical points-in-time, for which you wish to materialize feature values.\n",
    "\n",
    "The observation set can be a pandas DataFrame or an ObservationTable object representing an observation set in the feature store. An accepted serving name must be used for the column containing the entity values. The column containing points-in-time must be labelled \"POINT-IN-TIME\" and the point-in-time timestamps should be in UTC."
   ]
  },
  {
   "cell_type": "markdown",
   "metadata": {},
   "source": [
    "### Concept: Point in time\n",
    "\n",
    "A point-in-time for a feature refers to a specific moment in the past with which the feature's values are associated.\n",
    "\n",
    "It is a crucial aspect of historical feature serving, which allows machine learning models to make predictions based on historical data. By providing a point-in-time, a feature can be used to train and test models on past data, enabling them to make accurate predictions for similar situations in the future."
   ]
  },
  {
   "cell_type": "markdown",
   "metadata": {},
   "source": [
    "### Case Study: Predicting Customer Spend\n",
    "\n",
    "Your chain of grocery stores wants to target market customers immediately after each purchase. As one step in this marketing campaign, they want to predict future customer spend in the 14 days after a purchase."
   ]
  },
  {
   "cell_type": "code",
   "execution_count": 4,
   "metadata": {},
   "outputs": [
    {
     "data": {
      "text/html": [
       "<?xml version=\"1.0\" ?>\n",
       "<!DOCTYPE html\n",
       "  PUBLIC '-//W3C//DTD XHTML 1.0 Strict//EN'\n",
       "  'http://www.w3.org/TR/xhtml1/DTD/xhtml1-strict.dtd'>\n",
       "<html>\n",
       "\t<div style=\"font-weight:bold;text-align:center;border-bottom:1px solid black;width:100%;padding-top:20px\">Target</div>\n",
       "\t<table style=\"table-layout:auto;width:100%;padding:0;margin:0\">\n",
       "\t\t<tr>\n",
       "\t\t\t<td style=\"font-weight:bold;vertical-align:top;width:173px;over-flow:overflow-wrap;word-break:break-all\">id</td>\n",
       "\t\t\t<td style=\"width:auto;text-align:left\">64ca53c9d4aa2740d2dab6a8</td>\n",
       "\t\t</tr>\n",
       "\t\t<tr>\n",
       "\t\t\t<td style=\"font-weight:bold;vertical-align:top;width:173px;over-flow:overflow-wrap;word-break:break-all\">target_name</td>\n",
       "\t\t\t<td style=\"width:auto;text-align:left\">next_customer_sales_14d</td>\n",
       "\t\t</tr>\n",
       "\t\t<tr>\n",
       "\t\t\t<td style=\"font-weight:bold;vertical-align:top;width:173px;over-flow:overflow-wrap;word-break:break-all\">entities</td>\n",
       "\t\t\t<td style=\"width:auto;text-align:left\">\n",
       "\t\t\t\t<div style=\"border:0;padding:0;margin:0\"><table border=\"1\" class=\"dataframe\">\n",
       "  <thead>\n",
       "    <tr style=\"text-align: right;\">\n",
       "      <th></th>\n",
       "      <th>name</th>\n",
       "      <th>serving_names</th>\n",
       "      <th>catalog_name</th>\n",
       "    </tr>\n",
       "  </thead>\n",
       "  <tbody>\n",
       "    <tr>\n",
       "      <th>0</th>\n",
       "      <td>grocerycustomer</td>\n",
       "      <td>[GROCERYCUSTOMERGUID]</td>\n",
       "      <td>quick start model training 20230802:2100</td>\n",
       "    </tr>\n",
       "  </tbody>\n",
       "</table></div>\n",
       "\t\t\t</td>\n",
       "\t\t</tr>\n",
       "\t\t<tr>\n",
       "\t\t\t<td style=\"font-weight:bold;vertical-align:top;width:173px;over-flow:overflow-wrap;word-break:break-all\">window</td>\n",
       "\t\t\t<td style=\"width:auto;text-align:left\">14d</td>\n",
       "\t\t</tr>\n",
       "\t\t<tr>\n",
       "\t\t\t<td style=\"font-weight:bold;vertical-align:top;width:173px;over-flow:overflow-wrap;word-break:break-all\">has_recipe</td>\n",
       "\t\t\t<td style=\"width:auto;text-align:left\">True</td>\n",
       "\t\t</tr>\n",
       "\t\t<tr>\n",
       "\t\t\t<td style=\"font-weight:bold;vertical-align:top;width:173px;over-flow:overflow-wrap;word-break:break-all\">created_at</td>\n",
       "\t\t\t<td style=\"width:auto;text-align:left\">2023-08-02 13:02:01</td>\n",
       "\t\t</tr>\n",
       "\t\t<tr>\n",
       "\t\t\t<td style=\"font-weight:bold;vertical-align:top;width:173px;over-flow:overflow-wrap;word-break:break-all\">updated_at</td>\n",
       "\t\t\t<td style=\"width:auto;text-align:left\">None</td>\n",
       "\t\t</tr>\n",
       "\t\t<tr>\n",
       "\t\t\t<td style=\"font-weight:bold;vertical-align:top;width:173px;over-flow:overflow-wrap;word-break:break-all\">primary_table</td>\n",
       "\t\t\t<td style=\"width:auto;text-align:left\">\n",
       "\t\t\t\t<div style=\"border:0;padding:0;margin:0\"><table border=\"1\" class=\"dataframe\">\n",
       "  <thead>\n",
       "    <tr style=\"text-align: right;\">\n",
       "      <th></th>\n",
       "      <th>name</th>\n",
       "      <th>status</th>\n",
       "      <th>catalog_name</th>\n",
       "    </tr>\n",
       "  </thead>\n",
       "  <tbody>\n",
       "    <tr>\n",
       "      <th>0</th>\n",
       "      <td>GROCERYINVOICE</td>\n",
       "      <td>PUBLIC_DRAFT</td>\n",
       "      <td>quick start model training 20230802:2100</td>\n",
       "    </tr>\n",
       "  </tbody>\n",
       "</table></div>\n",
       "\t\t\t</td>\n",
       "\t\t</tr>\n",
       "\t\t<tr>\n",
       "\t\t\t<td style=\"font-weight:bold;vertical-align:top;width:173px;over-flow:overflow-wrap;word-break:break-all\">metadata</td>\n",
       "\t\t\t<td style=\"width:auto;text-align:left\">\n",
       "\t\t\t\t<div style=\"border:0;padding:0;margin:0\">\n",
       "\t\t\t\t\t<table style=\"table-layout:auto;width:100%;padding:0;margin:0\">\n",
       "\t\t\t\t\t\t<tr>\n",
       "\t\t\t\t\t\t\t<td style=\"font-weight:bold;vertical-align:top;width:133px;over-flow:overflow-wrap;word-break:break-all\">input_columns</td>\n",
       "\t\t\t\t\t\t\t<td style=\"width:auto;text-align:left\">\n",
       "\t\t\t\t\t\t\t\t<div style=\"border:0;padding:0;margin:0\">\n",
       "\t\t\t\t\t\t\t\t\t<table style=\"table-layout:auto;width:100%;padding:0;margin:0\">\n",
       "\t\t\t\t\t\t\t\t\t\t<tr>\n",
       "\t\t\t\t\t\t\t\t\t\t\t<td style=\"font-weight:bold;vertical-align:top;width:53px;over-flow:overflow-wrap;word-break:break-all\">Input0</td>\n",
       "\t\t\t\t\t\t\t\t\t\t\t<td style=\"width:auto;text-align:left\">\n",
       "\t\t\t\t\t\t\t\t\t\t\t\t<div style=\"border:0;padding:0;margin:0\">\n",
       "\t\t\t\t\t\t\t\t\t\t\t\t\t<table style=\"table-layout:auto;width:100%;padding:0;margin:0\">\n",
       "\t\t\t\t\t\t\t\t\t\t\t\t\t\t<tr>\n",
       "\t\t\t\t\t\t\t\t\t\t\t\t\t\t\t<td style=\"font-weight:bold;vertical-align:top;width:93px;over-flow:overflow-wrap;word-break:break-all\">data</td>\n",
       "\t\t\t\t\t\t\t\t\t\t\t\t\t\t\t<td style=\"width:auto;text-align:left\">GROCERYINVOICE</td>\n",
       "\t\t\t\t\t\t\t\t\t\t\t\t\t\t</tr>\n",
       "\t\t\t\t\t\t\t\t\t\t\t\t\t\t<tr>\n",
       "\t\t\t\t\t\t\t\t\t\t\t\t\t\t\t<td style=\"font-weight:bold;vertical-align:top;width:93px;over-flow:overflow-wrap;word-break:break-all\">column_name</td>\n",
       "\t\t\t\t\t\t\t\t\t\t\t\t\t\t\t<td style=\"width:auto;text-align:left\">Timestamp</td>\n",
       "\t\t\t\t\t\t\t\t\t\t\t\t\t\t</tr>\n",
       "\t\t\t\t\t\t\t\t\t\t\t\t\t\t<tr>\n",
       "\t\t\t\t\t\t\t\t\t\t\t\t\t\t\t<td style=\"font-weight:bold;vertical-align:top;width:93px;over-flow:overflow-wrap;word-break:break-all\">semantic</td>\n",
       "\t\t\t\t\t\t\t\t\t\t\t\t\t\t\t<td style=\"width:auto;text-align:left\">event_timestamp</td>\n",
       "\t\t\t\t\t\t\t\t\t\t\t\t\t\t</tr>\n",
       "\t\t\t\t\t\t\t\t\t\t\t\t\t</table>\n",
       "\t\t\t\t\t\t\t\t\t\t\t\t</div>\n",
       "\t\t\t\t\t\t\t\t\t\t\t</td>\n",
       "\t\t\t\t\t\t\t\t\t\t</tr>\n",
       "\t\t\t\t\t\t\t\t\t\t<tr>\n",
       "\t\t\t\t\t\t\t\t\t\t\t<td style=\"font-weight:bold;vertical-align:top;width:53px;over-flow:overflow-wrap;word-break:break-all\">Input1</td>\n",
       "\t\t\t\t\t\t\t\t\t\t\t<td style=\"width:auto;text-align:left\">\n",
       "\t\t\t\t\t\t\t\t\t\t\t\t<div style=\"border:0;padding:0;margin:0\">\n",
       "\t\t\t\t\t\t\t\t\t\t\t\t\t<table style=\"table-layout:auto;width:100%;padding:0;margin:0\">\n",
       "\t\t\t\t\t\t\t\t\t\t\t\t\t\t<tr>\n",
       "\t\t\t\t\t\t\t\t\t\t\t\t\t\t\t<td style=\"font-weight:bold;vertical-align:top;width:93px;over-flow:overflow-wrap;word-break:break-all\">data</td>\n",
       "\t\t\t\t\t\t\t\t\t\t\t\t\t\t\t<td style=\"width:auto;text-align:left\">GROCERYINVOICE</td>\n",
       "\t\t\t\t\t\t\t\t\t\t\t\t\t\t</tr>\n",
       "\t\t\t\t\t\t\t\t\t\t\t\t\t\t<tr>\n",
       "\t\t\t\t\t\t\t\t\t\t\t\t\t\t\t<td style=\"font-weight:bold;vertical-align:top;width:93px;over-flow:overflow-wrap;word-break:break-all\">column_name</td>\n",
       "\t\t\t\t\t\t\t\t\t\t\t\t\t\t\t<td style=\"width:auto;text-align:left\">Amount</td>\n",
       "\t\t\t\t\t\t\t\t\t\t\t\t\t\t</tr>\n",
       "\t\t\t\t\t\t\t\t\t\t\t\t\t\t<tr>\n",
       "\t\t\t\t\t\t\t\t\t\t\t\t\t\t\t<td style=\"font-weight:bold;vertical-align:top;width:93px;over-flow:overflow-wrap;word-break:break-all\">semantic</td>\n",
       "\t\t\t\t\t\t\t\t\t\t\t\t\t\t\t<td style=\"width:auto;text-align:left\">None</td>\n",
       "\t\t\t\t\t\t\t\t\t\t\t\t\t\t</tr>\n",
       "\t\t\t\t\t\t\t\t\t\t\t\t\t</table>\n",
       "\t\t\t\t\t\t\t\t\t\t\t\t</div>\n",
       "\t\t\t\t\t\t\t\t\t\t\t</td>\n",
       "\t\t\t\t\t\t\t\t\t\t</tr>\n",
       "\t\t\t\t\t\t\t\t\t</table>\n",
       "\t\t\t\t\t\t\t\t</div>\n",
       "\t\t\t\t\t\t\t</td>\n",
       "\t\t\t\t\t\t</tr>\n",
       "\t\t\t\t\t\t<tr>\n",
       "\t\t\t\t\t\t\t<td style=\"font-weight:bold;vertical-align:top;width:133px;over-flow:overflow-wrap;word-break:break-all\">derived_columns</td>\n",
       "\t\t\t\t\t\t\t<td style=\"width:auto;text-align:left\">\n",
       "\t\t\t\t\t\t\t\t<div style=\"border:0;padding:0;margin:0\">\n",
       "\t\t\t\t\t\t\t\t\t<table style=\"table-layout:auto;width:100%;padding:0;margin:0\"/>\n",
       "\t\t\t\t\t\t\t\t</div>\n",
       "\t\t\t\t\t\t\t</td>\n",
       "\t\t\t\t\t\t</tr>\n",
       "\t\t\t\t\t\t<tr>\n",
       "\t\t\t\t\t\t\t<td style=\"font-weight:bold;vertical-align:top;width:133px;over-flow:overflow-wrap;word-break:break-all\">aggregations</td>\n",
       "\t\t\t\t\t\t\t<td style=\"width:auto;text-align:left\">\n",
       "\t\t\t\t\t\t\t\t<div style=\"border:0;padding:0;margin:0\">\n",
       "\t\t\t\t\t\t\t\t\t<table style=\"table-layout:auto;width:100%;padding:0;margin:0\">\n",
       "\t\t\t\t\t\t\t\t\t\t<tr>\n",
       "\t\t\t\t\t\t\t\t\t\t\t<td style=\"font-weight:bold;vertical-align:top;width:21px;over-flow:overflow-wrap;word-break:break-all\">F0</td>\n",
       "\t\t\t\t\t\t\t\t\t\t\t<td style=\"width:auto;text-align:left\">\n",
       "\t\t\t\t\t\t\t\t\t\t\t\t<div style=\"border:0;padding:0;margin:0\">\n",
       "\t\t\t\t\t\t\t\t\t\t\t\t\t<table style=\"table-layout:auto;width:100%;padding:0;margin:0\">\n",
       "\t\t\t\t\t\t\t\t\t\t\t\t\t\t<tr>\n",
       "\t\t\t\t\t\t\t\t\t\t\t\t\t\t\t<td style=\"font-weight:bold;vertical-align:top;width:69px;over-flow:overflow-wrap;word-break:break-all\">name</td>\n",
       "\t\t\t\t\t\t\t\t\t\t\t\t\t\t\t<td style=\"width:auto;text-align:left\">next_customer_sales_14d</td>\n",
       "\t\t\t\t\t\t\t\t\t\t\t\t\t\t</tr>\n",
       "\t\t\t\t\t\t\t\t\t\t\t\t\t\t<tr>\n",
       "\t\t\t\t\t\t\t\t\t\t\t\t\t\t\t<td style=\"font-weight:bold;vertical-align:top;width:69px;over-flow:overflow-wrap;word-break:break-all\">column</td>\n",
       "\t\t\t\t\t\t\t\t\t\t\t\t\t\t\t<td style=\"width:auto;text-align:left\">Input1</td>\n",
       "\t\t\t\t\t\t\t\t\t\t\t\t\t\t</tr>\n",
       "\t\t\t\t\t\t\t\t\t\t\t\t\t\t<tr>\n",
       "\t\t\t\t\t\t\t\t\t\t\t\t\t\t\t<td style=\"font-weight:bold;vertical-align:top;width:69px;over-flow:overflow-wrap;word-break:break-all\">function</td>\n",
       "\t\t\t\t\t\t\t\t\t\t\t\t\t\t\t<td style=\"width:auto;text-align:left\">sum</td>\n",
       "\t\t\t\t\t\t\t\t\t\t\t\t\t\t</tr>\n",
       "\t\t\t\t\t\t\t\t\t\t\t\t\t\t<tr>\n",
       "\t\t\t\t\t\t\t\t\t\t\t\t\t\t\t<td style=\"font-weight:bold;vertical-align:top;width:69px;over-flow:overflow-wrap;word-break:break-all\">keys</td>\n",
       "\t\t\t\t\t\t\t\t\t\t\t\t\t\t\t<td style=\"width:auto;text-align:left\">['GroceryCustomerGuid']</td>\n",
       "\t\t\t\t\t\t\t\t\t\t\t\t\t\t</tr>\n",
       "\t\t\t\t\t\t\t\t\t\t\t\t\t\t<tr>\n",
       "\t\t\t\t\t\t\t\t\t\t\t\t\t\t\t<td style=\"font-weight:bold;vertical-align:top;width:69px;over-flow:overflow-wrap;word-break:break-all\">window</td>\n",
       "\t\t\t\t\t\t\t\t\t\t\t\t\t\t\t<td style=\"width:auto;text-align:left\">14d</td>\n",
       "\t\t\t\t\t\t\t\t\t\t\t\t\t\t</tr>\n",
       "\t\t\t\t\t\t\t\t\t\t\t\t\t\t<tr>\n",
       "\t\t\t\t\t\t\t\t\t\t\t\t\t\t\t<td style=\"font-weight:bold;vertical-align:top;width:69px;over-flow:overflow-wrap;word-break:break-all\">category</td>\n",
       "\t\t\t\t\t\t\t\t\t\t\t\t\t\t\t<td style=\"width:auto;text-align:left\">None</td>\n",
       "\t\t\t\t\t\t\t\t\t\t\t\t\t\t</tr>\n",
       "\t\t\t\t\t\t\t\t\t\t\t\t\t\t<tr>\n",
       "\t\t\t\t\t\t\t\t\t\t\t\t\t\t\t<td style=\"font-weight:bold;vertical-align:top;width:69px;over-flow:overflow-wrap;word-break:break-all\">filter</td>\n",
       "\t\t\t\t\t\t\t\t\t\t\t\t\t\t\t<td style=\"width:auto;text-align:left\">False</td>\n",
       "\t\t\t\t\t\t\t\t\t\t\t\t\t\t</tr>\n",
       "\t\t\t\t\t\t\t\t\t\t\t\t\t</table>\n",
       "\t\t\t\t\t\t\t\t\t\t\t\t</div>\n",
       "\t\t\t\t\t\t\t\t\t\t\t</td>\n",
       "\t\t\t\t\t\t\t\t\t\t</tr>\n",
       "\t\t\t\t\t\t\t\t\t</table>\n",
       "\t\t\t\t\t\t\t\t</div>\n",
       "\t\t\t\t\t\t\t</td>\n",
       "\t\t\t\t\t\t</tr>\n",
       "\t\t\t\t\t\t<tr>\n",
       "\t\t\t\t\t\t\t<td style=\"font-weight:bold;vertical-align:top;width:133px;over-flow:overflow-wrap;word-break:break-all\">post_aggregation</td>\n",
       "\t\t\t\t\t\t\t<td style=\"width:auto;text-align:left\">\n",
       "\t\t\t\t\t\t\t\t<div style=\"border:0;padding:0;margin:0\">\n",
       "\t\t\t\t\t\t\t\t\t<table style=\"table-layout:auto;width:100%;padding:0;margin:0\">\n",
       "\t\t\t\t\t\t\t\t\t\t<tr>\n",
       "\t\t\t\t\t\t\t\t\t\t\t<td style=\"font-weight:bold;vertical-align:top;width:85px;over-flow:overflow-wrap;word-break:break-all\">name</td>\n",
       "\t\t\t\t\t\t\t\t\t\t\t<td style=\"width:auto;text-align:left\">next_customer_sales_14d</td>\n",
       "\t\t\t\t\t\t\t\t\t\t</tr>\n",
       "\t\t\t\t\t\t\t\t\t\t<tr>\n",
       "\t\t\t\t\t\t\t\t\t\t\t<td style=\"font-weight:bold;vertical-align:top;width:85px;over-flow:overflow-wrap;word-break:break-all\">inputs</td>\n",
       "\t\t\t\t\t\t\t\t\t\t\t<td style=\"width:auto;text-align:left\">['F0']</td>\n",
       "\t\t\t\t\t\t\t\t\t\t</tr>\n",
       "\t\t\t\t\t\t\t\t\t\t<tr>\n",
       "\t\t\t\t\t\t\t\t\t\t\t<td style=\"font-weight:bold;vertical-align:top;width:85px;over-flow:overflow-wrap;word-break:break-all\">transforms</td>\n",
       "\t\t\t\t\t\t\t\t\t\t\t<td style=\"width:auto;text-align:left\">['is_null', 'conditional']</td>\n",
       "\t\t\t\t\t\t\t\t\t\t</tr>\n",
       "\t\t\t\t\t\t\t\t\t</table>\n",
       "\t\t\t\t\t\t\t\t</div>\n",
       "\t\t\t\t\t\t\t</td>\n",
       "\t\t\t\t\t\t</tr>\n",
       "\t\t\t\t\t</table>\n",
       "\t\t\t\t</div>\n",
       "\t\t\t</td>\n",
       "\t\t</tr>\n",
       "\t\t<tr>\n",
       "\t\t\t<td style=\"font-weight:bold;vertical-align:top;width:173px;over-flow:overflow-wrap;word-break:break-all\">namespace_description</td>\n",
       "\t\t\t<td style=\"width:auto;text-align:left\">None</td>\n",
       "\t\t</tr>\n",
       "\t\t<tr>\n",
       "\t\t\t<td style=\"font-weight:bold;vertical-align:top;width:173px;over-flow:overflow-wrap;word-break:break-all\">description</td>\n",
       "\t\t\t<td style=\"width:auto;text-align:left\">None</td>\n",
       "\t\t</tr>\n",
       "\t</table>\n",
       "</html>\n"
      ],
      "text/plain": [
       "{\n",
       "  'id': '64ca53c9d4aa2740d2dab6a8',\n",
       "  'target_name': 'next_customer_sales_14d',\n",
       "  'entities': [\n",
       "    {\n",
       "      'name': 'grocerycustomer',\n",
       "      'serving_names': [\n",
       "        'GROCERYCUSTOMERGUID'\n",
       "      ],\n",
       "      'catalog_name': 'quick start model training 20230802:2100'\n",
       "    }\n",
       "  ],\n",
       "  'window': '14d',\n",
       "  'has_recipe': True,\n",
       "  'created_at': '2023-08-02T13:02:01.694000',\n",
       "  'updated_at': None,\n",
       "  'primary_table': [\n",
       "    {\n",
       "      'name': 'GROCERYINVOICE',\n",
       "      'status': 'PUBLIC_DRAFT',\n",
       "      'catalog_name': 'quick start model training 20230802:2100'\n",
       "    }\n",
       "  ],\n",
       "  'metadata': {\n",
       "    'input_columns': {\n",
       "      'Input0': {\n",
       "        'data': 'GROCERYINVOICE',\n",
       "        'column_name': 'Timestamp',\n",
       "        'semantic': 'event_timestamp'\n",
       "      },\n",
       "      'Input1': {\n",
       "        'data': 'GROCERYINVOICE',\n",
       "        'column_name': 'Amount',\n",
       "        'semantic': None\n",
       "      }\n",
       "    },\n",
       "    'derived_columns': {},\n",
       "    'aggregations': {\n",
       "      'F0': {\n",
       "        'name': 'next_customer_sales_14d',\n",
       "        'column': 'Input1',\n",
       "        'function': 'sum',\n",
       "        'keys': [\n",
       "          'GroceryCustomerGuid'\n",
       "        ],\n",
       "        'window': '14d',\n",
       "        'category': None,\n",
       "        'filter': False\n",
       "      }\n",
       "    },\n",
       "    'post_aggregation': {\n",
       "      'name': 'next_customer_sales_14d',\n",
       "      'inputs': [\n",
       "        'F0'\n",
       "      ],\n",
       "      'transforms': [\n",
       "        'is_null',\n",
       "        'conditional'\n",
       "      ]\n",
       "    }\n",
       "  },\n",
       "  'namespace_description': None,\n",
       "  'description': None\n",
       "}"
      ]
     },
     "metadata": {},
     "output_type": "display_data"
    }
   ],
   "source": [
    "# get the feature list for the target\n",
    "customer_target = catalog.get_target(\"next_customer_sales_14d\")\n",
    "\n",
    "# display details about the target\n",
    "display(customer_target.info())"
   ]
  },
  {
   "cell_type": "code",
   "execution_count": 5,
   "metadata": {},
   "outputs": [
    {
     "name": "stdout",
     "output_type": "stream",
     "text": [
      "Done! |████████████████████████████████████████| 100% in 21.5s (0.05%/s)        \n",
      "Downloading table |████████████████████████████████████████| 10000/10000 [100%] \n"
     ]
    },
    {
     "data": {
      "text/html": [
       "<div>\n",
       "<style scoped>\n",
       "    .dataframe tbody tr th:only-of-type {\n",
       "        vertical-align: middle;\n",
       "    }\n",
       "\n",
       "    .dataframe tbody tr th {\n",
       "        vertical-align: top;\n",
       "    }\n",
       "\n",
       "    .dataframe thead th {\n",
       "        text-align: right;\n",
       "    }\n",
       "</style>\n",
       "<table border=\"1\" class=\"dataframe\">\n",
       "  <thead>\n",
       "    <tr style=\"text-align: right;\">\n",
       "      <th></th>\n",
       "      <th>POINT_IN_TIME</th>\n",
       "      <th>GROCERYCUSTOMERGUID</th>\n",
       "    </tr>\n",
       "  </thead>\n",
       "  <tbody>\n",
       "    <tr>\n",
       "      <th>0</th>\n",
       "      <td>2022-04-05 06:51:50</td>\n",
       "      <td>5c96089d-95f7-4a12-ab13-e082836253f1</td>\n",
       "    </tr>\n",
       "    <tr>\n",
       "      <th>1</th>\n",
       "      <td>2022-04-05 18:55:03</td>\n",
       "      <td>5c96089d-95f7-4a12-ab13-e082836253f1</td>\n",
       "    </tr>\n",
       "    <tr>\n",
       "      <th>2</th>\n",
       "      <td>2022-04-08 13:10:00</td>\n",
       "      <td>5c96089d-95f7-4a12-ab13-e082836253f1</td>\n",
       "    </tr>\n",
       "    <tr>\n",
       "      <th>3</th>\n",
       "      <td>2022-04-11 11:49:05</td>\n",
       "      <td>5c96089d-95f7-4a12-ab13-e082836253f1</td>\n",
       "    </tr>\n",
       "    <tr>\n",
       "      <th>4</th>\n",
       "      <td>2022-05-20 13:03:26</td>\n",
       "      <td>5c96089d-95f7-4a12-ab13-e082836253f1</td>\n",
       "    </tr>\n",
       "    <tr>\n",
       "      <th>...</th>\n",
       "      <td>...</td>\n",
       "      <td>...</td>\n",
       "    </tr>\n",
       "    <tr>\n",
       "      <th>9995</th>\n",
       "      <td>2022-05-18 15:42:43</td>\n",
       "      <td>7a024068-3f99-4114-9d90-3a61f679be51</td>\n",
       "    </tr>\n",
       "    <tr>\n",
       "      <th>9996</th>\n",
       "      <td>2022-05-23 11:28:53</td>\n",
       "      <td>7a024068-3f99-4114-9d90-3a61f679be51</td>\n",
       "    </tr>\n",
       "    <tr>\n",
       "      <th>9997</th>\n",
       "      <td>2022-06-02 17:16:51</td>\n",
       "      <td>7a024068-3f99-4114-9d90-3a61f679be51</td>\n",
       "    </tr>\n",
       "    <tr>\n",
       "      <th>9998</th>\n",
       "      <td>2022-06-05 14:08:37</td>\n",
       "      <td>7a024068-3f99-4114-9d90-3a61f679be51</td>\n",
       "    </tr>\n",
       "    <tr>\n",
       "      <th>9999</th>\n",
       "      <td>2022-06-13 13:31:33</td>\n",
       "      <td>7a024068-3f99-4114-9d90-3a61f679be51</td>\n",
       "    </tr>\n",
       "  </tbody>\n",
       "</table>\n",
       "<p>10000 rows × 2 columns</p>\n",
       "</div>"
      ],
      "text/plain": [
       "           POINT_IN_TIME                   GROCERYCUSTOMERGUID\n",
       "0    2022-04-05 06:51:50  5c96089d-95f7-4a12-ab13-e082836253f1\n",
       "1    2022-04-05 18:55:03  5c96089d-95f7-4a12-ab13-e082836253f1\n",
       "2    2022-04-08 13:10:00  5c96089d-95f7-4a12-ab13-e082836253f1\n",
       "3    2022-04-11 11:49:05  5c96089d-95f7-4a12-ab13-e082836253f1\n",
       "4    2022-05-20 13:03:26  5c96089d-95f7-4a12-ab13-e082836253f1\n",
       "...                  ...                                   ...\n",
       "9995 2022-05-18 15:42:43  7a024068-3f99-4114-9d90-3a61f679be51\n",
       "9996 2022-05-23 11:28:53  7a024068-3f99-4114-9d90-3a61f679be51\n",
       "9997 2022-06-02 17:16:51  7a024068-3f99-4114-9d90-3a61f679be51\n",
       "9998 2022-06-05 14:08:37  7a024068-3f99-4114-9d90-3a61f679be51\n",
       "9999 2022-06-13 13:31:33  7a024068-3f99-4114-9d90-3a61f679be51\n",
       "\n",
       "[10000 rows x 2 columns]"
      ]
     },
     "metadata": {},
     "output_type": "display_data"
    }
   ],
   "source": [
    "# create a large observation table from a view\n",
    "\n",
    "# filter the view to exclude points in time that won't have data for historical windows\n",
    "filter = (grocery_invoice_view[\"Timestamp\"] >= pd.to_datetime(\"2022-04-01\")) & (\n",
    "    grocery_invoice_view[\"Timestamp\"] < pd.to_datetime(\"2023-04-01\")\n",
    ")\n",
    "observation_set_view = grocery_invoice_view[filter].copy()\n",
    "\n",
    "# create a new observation table\n",
    "observation_table = observation_set_view.create_observation_table(\n",
    "    name=\"10,000 Customers immediately after each purchase from May-22 to Mar-23\",\n",
    "    sample_rows=10000,\n",
    "    columns=[\"Timestamp\", \"GroceryCustomerGuid\"],\n",
    "    columns_rename_mapping={\n",
    "        \"Timestamp\": \"POINT_IN_TIME\",\n",
    "        \"GroceryCustomerGuid\": \"GROCERYCUSTOMERGUID\",\n",
    "    },\n",
    ")\n",
    "\n",
    "# if the observation table isn't too large, you can materialize it\n",
    "display(observation_table.to_pandas())"
   ]
  },
  {
   "cell_type": "markdown",
   "metadata": {},
   "source": [
    "## Materialize Training Data\n",
    "\n",
    "Learning Objectives\n",
    "\n",
    "In this section you will learn:\n",
    "* how to create a target observation table\n",
    "* how to create historical training data using the target observation table"
   ]
  },
  {
   "cell_type": "markdown",
   "metadata": {},
   "source": [
    "### Example: Get target values\n"
   ]
  },
  {
   "cell_type": "code",
   "execution_count": 6,
   "metadata": {},
   "outputs": [
    {
     "name": "stdout",
     "output_type": "stream",
     "text": [
      "Done! |████████████████████████████████████████| 100% in 25.1s (0.04%/s)        \n",
      "Downloading table |████████████████████████████████████████| 10000/10000 [100%] \n"
     ]
    },
    {
     "data": {
      "text/html": [
       "<div>\n",
       "<style scoped>\n",
       "    .dataframe tbody tr th:only-of-type {\n",
       "        vertical-align: middle;\n",
       "    }\n",
       "\n",
       "    .dataframe tbody tr th {\n",
       "        vertical-align: top;\n",
       "    }\n",
       "\n",
       "    .dataframe thead th {\n",
       "        text-align: right;\n",
       "    }\n",
       "</style>\n",
       "<table border=\"1\" class=\"dataframe\">\n",
       "  <thead>\n",
       "    <tr style=\"text-align: right;\">\n",
       "      <th></th>\n",
       "      <th>POINT_IN_TIME</th>\n",
       "      <th>GROCERYCUSTOMERGUID</th>\n",
       "      <th>next_customer_sales_14d</th>\n",
       "    </tr>\n",
       "  </thead>\n",
       "  <tbody>\n",
       "    <tr>\n",
       "      <th>0</th>\n",
       "      <td>2022-11-14 14:07:14</td>\n",
       "      <td>abdef773-ab72-43b6-8e77-050804c1c5fc</td>\n",
       "      <td>111.22</td>\n",
       "    </tr>\n",
       "    <tr>\n",
       "      <th>1</th>\n",
       "      <td>2022-11-05 19:48:29</td>\n",
       "      <td>776ed61f-ae99-40b4-989b-1195e4901090</td>\n",
       "      <td>15.42</td>\n",
       "    </tr>\n",
       "    <tr>\n",
       "      <th>2</th>\n",
       "      <td>2022-11-10 17:59:38</td>\n",
       "      <td>6bb41075-390e-43ba-b416-55d802ede820</td>\n",
       "      <td>35.34</td>\n",
       "    </tr>\n",
       "    <tr>\n",
       "      <th>3</th>\n",
       "      <td>2022-07-12 16:13:42</td>\n",
       "      <td>cc4220ec-16ab-4bb9-991d-deef994bf27a</td>\n",
       "      <td>115.54</td>\n",
       "    </tr>\n",
       "    <tr>\n",
       "      <th>4</th>\n",
       "      <td>2022-11-25 16:15:36</td>\n",
       "      <td>7bce4665-c8f7-4bc3-94f1-df88fb236ee8</td>\n",
       "      <td>166.49</td>\n",
       "    </tr>\n",
       "    <tr>\n",
       "      <th>...</th>\n",
       "      <td>...</td>\n",
       "      <td>...</td>\n",
       "      <td>...</td>\n",
       "    </tr>\n",
       "    <tr>\n",
       "      <th>9995</th>\n",
       "      <td>2022-10-23 09:37:54</td>\n",
       "      <td>df23dfe3-fede-46aa-b283-422458c11767</td>\n",
       "      <td>37.35</td>\n",
       "    </tr>\n",
       "    <tr>\n",
       "      <th>9996</th>\n",
       "      <td>2022-06-20 06:07:19</td>\n",
       "      <td>f56f0029-0cf3-4c28-bbec-2a8292722a32</td>\n",
       "      <td>4.07</td>\n",
       "    </tr>\n",
       "    <tr>\n",
       "      <th>9997</th>\n",
       "      <td>2022-08-15 15:46:59</td>\n",
       "      <td>f6a783f7-5091-46fa-8ebf-aa13ec868234</td>\n",
       "      <td>136.39</td>\n",
       "    </tr>\n",
       "    <tr>\n",
       "      <th>9998</th>\n",
       "      <td>2022-08-16 14:34:40</td>\n",
       "      <td>f6a783f7-5091-46fa-8ebf-aa13ec868234</td>\n",
       "      <td>136.88</td>\n",
       "    </tr>\n",
       "    <tr>\n",
       "      <th>9999</th>\n",
       "      <td>2022-12-30 08:00:14</td>\n",
       "      <td>ff38d86f-cd9a-4860-9b0a-eb387bfe0a10</td>\n",
       "      <td>40.55</td>\n",
       "    </tr>\n",
       "  </tbody>\n",
       "</table>\n",
       "<p>10000 rows × 3 columns</p>\n",
       "</div>"
      ],
      "text/plain": [
       "           POINT_IN_TIME                   GROCERYCUSTOMERGUID  \\\n",
       "0    2022-11-14 14:07:14  abdef773-ab72-43b6-8e77-050804c1c5fc   \n",
       "1    2022-11-05 19:48:29  776ed61f-ae99-40b4-989b-1195e4901090   \n",
       "2    2022-11-10 17:59:38  6bb41075-390e-43ba-b416-55d802ede820   \n",
       "3    2022-07-12 16:13:42  cc4220ec-16ab-4bb9-991d-deef994bf27a   \n",
       "4    2022-11-25 16:15:36  7bce4665-c8f7-4bc3-94f1-df88fb236ee8   \n",
       "...                  ...                                   ...   \n",
       "9995 2022-10-23 09:37:54  df23dfe3-fede-46aa-b283-422458c11767   \n",
       "9996 2022-06-20 06:07:19  f56f0029-0cf3-4c28-bbec-2a8292722a32   \n",
       "9997 2022-08-15 15:46:59  f6a783f7-5091-46fa-8ebf-aa13ec868234   \n",
       "9998 2022-08-16 14:34:40  f6a783f7-5091-46fa-8ebf-aa13ec868234   \n",
       "9999 2022-12-30 08:00:14  ff38d86f-cd9a-4860-9b0a-eb387bfe0a10   \n",
       "\n",
       "      next_customer_sales_14d  \n",
       "0                      111.22  \n",
       "1                       15.42  \n",
       "2                       35.34  \n",
       "3                      115.54  \n",
       "4                      166.49  \n",
       "...                       ...  \n",
       "9995                    37.35  \n",
       "9996                     4.07  \n",
       "9997                   136.39  \n",
       "9998                   136.88  \n",
       "9999                    40.55  \n",
       "\n",
       "[10000 rows x 3 columns]"
      ]
     },
     "metadata": {},
     "output_type": "display_data"
    }
   ],
   "source": [
    "# Materialize the target\n",
    "training_data_target_table = customer_target.compute_target_table(\n",
    "    observation_table, observation_table_name=\"target_observation_table\"\n",
    ")\n",
    "\n",
    "display(training_data_target_table.to_pandas())"
   ]
  },
  {
   "cell_type": "markdown",
   "metadata": {},
   "source": [
    "### Example: Get historical values with target"
   ]
  },
  {
   "cell_type": "code",
   "execution_count": 7,
   "metadata": {},
   "outputs": [
    {
     "data": {
      "text/html": [
       "<div>\n",
       "<style scoped>\n",
       "    .dataframe tbody tr th:only-of-type {\n",
       "        vertical-align: middle;\n",
       "    }\n",
       "\n",
       "    .dataframe tbody tr th {\n",
       "        vertical-align: top;\n",
       "    }\n",
       "\n",
       "    .dataframe thead th {\n",
       "        text-align: right;\n",
       "    }\n",
       "</style>\n",
       "<table border=\"1\" class=\"dataframe\">\n",
       "  <thead>\n",
       "    <tr style=\"text-align: right;\">\n",
       "      <th></th>\n",
       "      <th>id</th>\n",
       "      <th>name</th>\n",
       "      <th>num_feature</th>\n",
       "      <th>status</th>\n",
       "      <th>deployed</th>\n",
       "      <th>readiness_frac</th>\n",
       "      <th>online_frac</th>\n",
       "      <th>tables</th>\n",
       "      <th>entities</th>\n",
       "      <th>primary_entities</th>\n",
       "      <th>created_at</th>\n",
       "    </tr>\n",
       "  </thead>\n",
       "  <tbody>\n",
       "    <tr>\n",
       "      <th>0</th>\n",
       "      <td>64ca53c2d4aa2740d2dab6a4</td>\n",
       "      <td>Features</td>\n",
       "      <td>8</td>\n",
       "      <td>DRAFT</td>\n",
       "      <td>False</td>\n",
       "      <td>1.0</td>\n",
       "      <td>0.0</td>\n",
       "      <td>[GROCERYCUSTOMER, GROCERYINVOICE, INVOICEITEMS...</td>\n",
       "      <td>[grocerycustomer, frenchstate]</td>\n",
       "      <td>[grocerycustomer]</td>\n",
       "      <td>2023-08-02T13:01:55.266000</td>\n",
       "    </tr>\n",
       "  </tbody>\n",
       "</table>\n",
       "</div>"
      ],
      "text/plain": [
       "                         id      name  num_feature status  deployed  \\\n",
       "0  64ca53c2d4aa2740d2dab6a4  Features            8  DRAFT     False   \n",
       "\n",
       "   readiness_frac  online_frac  \\\n",
       "0             1.0          0.0   \n",
       "\n",
       "                                              tables  \\\n",
       "0  [GROCERYCUSTOMER, GROCERYINVOICE, INVOICEITEMS...   \n",
       "\n",
       "                         entities   primary_entities  \\\n",
       "0  [grocerycustomer, frenchstate]  [grocerycustomer]   \n",
       "\n",
       "                   created_at  \n",
       "0  2023-08-02T13:01:55.266000  "
      ]
     },
     "metadata": {},
     "output_type": "display_data"
    }
   ],
   "source": [
    "# list the feature lists\n",
    "display(catalog.list_feature_lists())"
   ]
  },
  {
   "cell_type": "code",
   "execution_count": 8,
   "metadata": {},
   "outputs": [
    {
     "name": "stdout",
     "output_type": "stream",
     "text": [
      "Loading Feature(s) |████████████████████████████████████████| 8/8 [100%] in 0.1s\n"
     ]
    }
   ],
   "source": [
    "# get the feature list\n",
    "feature_list = catalog.get_feature_list(\"Features\")"
   ]
  },
  {
   "cell_type": "code",
   "execution_count": null,
   "metadata": {},
   "outputs": [
    {
     "name": "stdout",
     "output_type": "stream",
     "text": [
      "Working... |████                                    | ▆▄▂ 10% in 32s (~4:39, 0.0"
     ]
    }
   ],
   "source": [
    "# Compute the historical feature table by passing in the observation table that contains the target values\n",
    "training_table_features = feature_list.compute_historical_feature_table(\n",
    "    training_data_target_table,\n",
    "    historical_feature_table_name=\"customer training table - invoices Apr-22 to Mar-23 - features only\",\n",
    ")\n",
    "\n",
    "# display the training data\n",
    "training_data = training_table_features.to_pandas()\n",
    "display(training_data)"
   ]
  },
  {
   "cell_type": "markdown",
   "metadata": {},
   "source": [
    "## Consuming training data\n",
    "\n",
    "Learning Objectives\n",
    "\n",
    "In this section you will learn:\n",
    "* how to save a training file\n",
    "* how to use a pandas data frame"
   ]
  },
  {
   "cell_type": "markdown",
   "metadata": {},
   "source": [
    "### Example: Save the training data to a file"
   ]
  },
  {
   "cell_type": "code",
   "execution_count": null,
   "metadata": {},
   "outputs": [],
   "source": [
    "# save training data as a csv file\n",
    "training_data.to_csv(\"training_data.csv\", index=False)"
   ]
  },
  {
   "cell_type": "code",
   "execution_count": null,
   "metadata": {},
   "outputs": [],
   "source": [
    "# save the training file as a parquet file\n",
    "training_data.to_parquet(\"training_data.parquet\")"
   ]
  },
  {
   "cell_type": "markdown",
   "metadata": {},
   "source": [
    "### Example: Training a scikit learn model\n",
    "\n",
    "Note that you will need to install scikit learn https://scikit-learn.org/stable/install.html"
   ]
  },
  {
   "cell_type": "code",
   "execution_count": null,
   "metadata": {},
   "outputs": [],
   "source": [
    "# EDA on the training data\n",
    "training_data.describe()"
   ]
  },
  {
   "cell_type": "code",
   "execution_count": null,
   "metadata": {},
   "outputs": [],
   "source": [
    "# do any columns in the training data contain missing values?\n",
    "training_data.isna().any()"
   ]
  },
  {
   "cell_type": "code",
   "execution_count": null,
   "metadata": {},
   "outputs": [],
   "source": [
    "! pip install scikit-learn"
   ]
  },
  {
   "cell_type": "code",
   "execution_count": null,
   "metadata": {},
   "outputs": [],
   "source": [
    "# use sklearn to train a random forest regression model on the training data\n",
    "from sklearn.ensemble import HistGradientBoostingRegressor\n",
    "from sklearn.model_selection import train_test_split\n",
    "from sklearn.metrics import mean_squared_error\n",
    "\n",
    "# split the data into training and test sets\n",
    "X_train, X_test, y_train, y_test = train_test_split(\n",
    "    training_data.drop(columns=[\"GROCERYCUSTOMERGUID\", \"POINT_IN_TIME\"]),\n",
    "    training_data[\"next_customer_sales_14d\"],\n",
    "    test_size=0.2,\n",
    "    random_state=42,\n",
    ")\n",
    "\n",
    "# train the model\n",
    "model = HistGradientBoostingRegressor()\n",
    "model.fit(X_train, y_train)\n",
    "\n",
    "# get predictions\n",
    "y_pred = model.predict(X_test)\n",
    "\n",
    "# calculate the mean squared error\n",
    "mse = mean_squared_error(y_test, y_pred)\n",
    "print(\"Mean squared error: \", mse)\n",
    "\n",
    "# save the model\n",
    "import joblib\n",
    "\n",
    "joblib.dump(model, \"model.pkl\")"
   ]
  },
  {
   "cell_type": "markdown",
   "metadata": {},
   "source": [
    "## Next Steps\n",
    "\n",
    "Now that you've completed the quick-start feature engineering tutorial, you can put your knowledge into practice or learn more:<br>\n",
    "1. Learn more about materializing features via the \"Deep Dive Materializing Features\" tutorial\n",
    "2. Put your knowledge into practice by creating features in the \"credit card dataset feature engineering playground\" or \"healthcare dataset feature engineering playground\" workspaces\n",
    "3. Learn more about feature governance via the \"Quick Start Feature Governance\" tutorial"
   ]
  }
 ],
 "metadata": {
  "kernelspec": {
   "display_name": "Python 3 (ipykernel)",
   "language": "python",
   "name": "python3"
  },
  "language_info": {
   "codemirror_mode": {
    "name": "ipython",
    "version": 3
   },
   "file_extension": ".py",
   "mimetype": "text/x-python",
   "name": "python",
   "nbconvert_exporter": "python",
   "pygments_lexer": "ipython3",
   "version": "3.10.12"
  }
 },
 "nbformat": 4,
 "nbformat_minor": 4
}
