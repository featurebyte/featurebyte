{
 "cells": [
  {
   "cell_type": "markdown",
   "metadata": {},
   "source": [
    "# Quick Start Tutorial: Feature Engineering"
   ]
  },
  {
   "cell_type": "markdown",
   "metadata": {},
   "source": [
    "## Learning Objectives\n",
    "\n",
    "In this tutorial you will learn:\n",
    "1. How to create and use views\n",
    "2. How features, entities, and observation sets are used together\n",
    "3. How to create a lookup feature\n",
    "4. How to create an aggregate feature\n",
    "5. How to save features\n",
    "6. How to reuse features\n",
    "7. How to create a feature list\n",
    "8. How to materialize feature values"
   ]
  },
  {
   "cell_type": "markdown",
   "metadata": {},
   "source": [
    "## Set up the prerequisites\n",
    "\n",
    "Learning Objectives\n",
    "\n",
    "In this section you will:\n",
    "* start your local featurebyte server\n",
    "* import libraries\n",
    "* learn about catalogs\n",
    "* activate a pre-built catalog"
   ]
  },
  {
   "cell_type": "markdown",
   "metadata": {},
   "source": [
    "### Load the featurebyte library and connect to the local instance of featurebyte"
   ]
  },
  {
   "cell_type": "code",
   "execution_count": 1,
   "metadata": {
    "tags": []
   },
   "outputs": [
    {
     "name": "stderr",
     "output_type": "stream",
     "text": [
      "\u001b[32;20m02:14:40\u001b[0m | \u001b[1m\u001b[38;20mINFO    \u001b[0m\u001b[0m | \u001b[1m\u001b[38;20mUsing configuration file at: /home/chester/.featurebyte/config.yaml\u001b[0m\u001b[0m\n",
      "\u001b[32;20m02:14:40\u001b[0m | \u001b[1m\u001b[38;20mINFO    \u001b[0m\u001b[0m | \u001b[1m\u001b[38;20mActive profile: local (http://127.0.0.1:8088)\u001b[0m\u001b[0m\n",
      "\u001b[32;20m02:14:40\u001b[0m | \u001b[1m\u001b[38;20mINFO    \u001b[0m\u001b[0m | \u001b[1m\u001b[38;20mSDK version: 0.2.2\u001b[0m\u001b[0m\n",
      "\u001b[32;20m02:14:40\u001b[0m | \u001b[1m\u001b[38;20mINFO    \u001b[0m\u001b[0m | \u001b[1m\u001b[38;20mActive catalog: default\u001b[0m\u001b[0m\n",
      "\u001b[32;20m02:14:40\u001b[0m | \u001b[1m\u001b[38;20mINFO    \u001b[0m\u001b[0m | \u001b[1m\u001b[38;20m0 feature list, 0 feature deployed\u001b[0m\u001b[0m\n",
      "\u001b[32;20m02:14:40\u001b[0m | \u001b[1m\u001b[38;20mINFO    \u001b[0m\u001b[0m | \u001b[1m\u001b[38;20m(1/4) Starting featurebyte services\u001b[0m\u001b[0m\n",
      " Container spark-thrift  Running\n",
      " Container redis  Running\n",
      " Container mongo-rs  Running\n",
      " Container featurebyte-worker  Running\n",
      " Container featurebyte-server  Running\n",
      " Container mongo-rs  Waiting\n",
      " Container redis  Waiting\n",
      " Container mongo-rs  Waiting\n",
      " Container redis  Healthy\n",
      " Container mongo-rs  Healthy\n",
      " Container mongo-rs  Healthy\n",
      "\u001b[32;20m02:14:41\u001b[0m | \u001b[1m\u001b[38;20mINFO    \u001b[0m\u001b[0m | \u001b[1m\u001b[38;20m(2/4) Creating local spark feature store\u001b[0m\u001b[0m\n",
      "\u001b[32;20m02:14:41\u001b[0m | \u001b[1m\u001b[38;20mINFO    \u001b[0m\u001b[0m | \u001b[1m\u001b[38;20m(3/4) Import datasets\u001b[0m\u001b[0m\n",
      "\u001b[32;20m02:14:42\u001b[0m | \u001b[1m\u001b[38;20mINFO    \u001b[0m\u001b[0m | \u001b[1m\u001b[38;20mDataset grocery already exists, skipping import\u001b[0m\u001b[0m\n",
      "\u001b[32;20m02:14:42\u001b[0m | \u001b[1m\u001b[38;20mINFO    \u001b[0m\u001b[0m | \u001b[1m\u001b[38;20mDataset healthcare already exists, skipping import\u001b[0m\u001b[0m\n",
      "\u001b[32;20m02:14:42\u001b[0m | \u001b[1m\u001b[38;20mINFO    \u001b[0m\u001b[0m | \u001b[1m\u001b[38;20mDataset creditcard already exists, skipping import\u001b[0m\u001b[0m\n",
      "\u001b[32;20m02:14:42\u001b[0m | \u001b[1m\u001b[38;20mINFO    \u001b[0m\u001b[0m | \u001b[1m\u001b[38;20m(4/4) Playground environment started successfully. Ready to go! 🚀\u001b[0m\u001b[0m\n"
     ]
    }
   ],
   "source": [
    "# library imports\n",
    "import pandas as pd\n",
    "import numpy as np\n",
    "\n",
    "# load the featurebyte SDK\n",
    "import featurebyte as fb\n",
    "\n",
    "# start the local server, then wait for it to be healthy before proceeding\n",
    "fb.playground()"
   ]
  },
  {
   "cell_type": "markdown",
   "metadata": {},
   "source": [
    "### Concept: Catalog\n",
    "\n",
    "A Catalog object operates as a centralized metadata repository for organizing tables, entities, features, and feature lists and other objects to facilitate feature serving for a specific domain.\n",
    "By employing a catalog, your team members can share, search, access, and reuse these assets."
   ]
  },
  {
   "cell_type": "markdown",
   "metadata": {},
   "source": [
    "### Create a pre-built catalog for this tutorial, with the data, metadata, and features already set up\n",
    "\n",
    "Note that creating a pre-built catalog is not a step you will do in real-life. This is a function specific to this quick-start tutorial to quickly skip over many of the preparatory steps and get you to a point where you can materialize features.\n",
    "\n",
    "In a real-life project you would do data modeling, declaring the tables, entities, and the associated metadata. This would not be a frequent task, but forms the basis for best-practice feature engineering."
   ]
  },
  {
   "cell_type": "code",
   "execution_count": 2,
   "metadata": {
    "tags": []
   },
   "outputs": [
    {
     "name": "stdout",
     "output_type": "stream",
     "text": [
      "Cleaning up existing tutorial catalogs\n"
     ]
    },
    {
     "name": "stderr",
     "output_type": "stream",
     "text": [
      "\u001b[32;20m02:14:43\u001b[0m | \u001b[1m\u001b[38;20mINFO    \u001b[0m\u001b[0m | \u001b[1m\u001b[38;20mCatalog activated: quick start feature engineering 20230511:0214\u001b[0m\u001b[0m\n"
     ]
    },
    {
     "name": "stdout",
     "output_type": "stream",
     "text": [
      "Building a quick start catalog for feature engineering named [quick start feature engineering 20230511:0214]\n",
      "Creating new catalog\n",
      "Catalog created\n",
      "Registering the source tables\n",
      "Registering the entities\n",
      "Tagging the entities to columns in the data tables\n",
      "Populating the feature store with example features\n",
      "Catalog created and pre-populated with data and features\n"
     ]
    }
   ],
   "source": [
    "# get the functions to create a pre-built catalog\n",
    "from prebuilt_catalogs import *\n",
    "\n",
    "# create a new catalog for this tutorial\n",
    "catalog = create_tutorial_catalog(PrebuiltCatalog.QuickStartFeatureEngineeering)"
   ]
  },
  {
   "cell_type": "markdown",
   "metadata": {},
   "source": [
    "## Create Views of Tables within the Catalog\n",
    "\n",
    "Learning Objectives\n",
    "\n",
    "In this section you will learn:\n",
    "* about tables and table types\n",
    "* about the dataset used in this tutorial\n",
    "* how to load tables\n",
    "* about views\n",
    "* how to create views"
   ]
  },
  {
   "cell_type": "markdown",
   "metadata": {},
   "source": [
    "### Concept: Catalog table\n",
    "\n",
    "A Catalog Table provides a centralized location for metadata about a source table. This metadata determines the type of operations that can be applied to the table's views and includes essential information for feature engineering."
   ]
  },
  {
   "cell_type": "markdown",
   "metadata": {},
   "source": [
    "### Concept: Table types\n",
    "\n",
    "Understanding the type of data contained in a table is crucial because it helps determine the appropriate feature engineering techniques that can be applied to the table.\n",
    "\n",
    "Featurebyte supports four of the most common types of data table.\n",
    "\n",
    "1. an <b>event</b> table represents a table in the data warehouse where each row indicates a unique business event occurring at a particular time. Event tables can take various forms, such as an Order table in E-commerce, Credit Card Transactions in Banking, Doctor Visits in Healthcare, and Clickstream on the Internet.  \n",
    "2. An <b>item</b> table represents a table in the data warehouse containing detailed information about a specific business event. For instance, an Item table can contain information about Product Items purchased in Customer Orders or Drug Prescriptions issued during Doctor Visits by Patients.\n",
    "3. A <b>dimension</b> table represents a table in the data warehouse containing static descriptive data. Using a Dimension table requires special attention. If the data in the table changes slowly, it is not advisable to use it because these changes can cause significant data leaks during model training and adversely affect the inference performance. In such cases, it is recommended to use a Slowly Changing Dimension table of Type 2 that maintains a history of changes. For example, dimension data could contain the product group of each grocery product.\n",
    "4. A <b>slowly changing dimension</b> (SCD) table represents a table in a data warehouse that contains data that changes slowly and unpredictably over time. There are two main types of SCDs: Type 1, which overwrites old data with new data, and Type 2, which maintains a history of changes by creating a new record for each change. FeatureByte only supports the use of Type 2 SCDs since SCDs of Type 1 may cause data leaks during model training and poor performance during inference. An SCD Table of Type 2 utilizes a natural key to distinguish each active row and facilitate tracking of changes over time. The SCD table employs effective and expiration date columns to determine the active status of a row. In certain instances, an active flag column may replace the expiration date column to indicate if a row is currently active. For example, slowly changing dimension data could contain customer data, which has attributes that need versioning, such as when a customer changes address."
   ]
  },
  {
   "attachments": {
    "BetaTesting-FrenchGrocery.png": {
     "image/png": "[encoded data removed]"
    }
   },
   "cell_type": "markdown",
   "metadata": {},
   "source": [
    "### Introduction to the French grocery dataset\n",
    "\n",
    "This tutorial uses the French grocery dataset that has been pre-installed in quick-start feature engineering catalog. It consists of 4 data tables recording grocery purchasing activity for each customer.<br>\n",
    "\n",
    "1. <b>GroceryCustomer</b> is a slowly changing dimension table containing customer attributes.\n",
    "2. <b>GroceryInvoice</b> is an event table containing grocery purchase transactions.\n",
    "3. <b>InvoiceItems</b> is an event items table containing details of the basket of grocery items purchased in each transaction.\n",
    "4. <b>GroceryProduct</b> is a dimension table containing the product attributes for each grocery item being sold.\n",
    "\n",
    "![BetaTesting-FrenchGrocery.png](attachment:BetaTesting-FrenchGrocery.png)"
   ]
  },
  {
   "cell_type": "markdown",
   "metadata": {},
   "source": [
    "### Example: Load featurebyte tables\n",
    "\n",
    "FeatureByte works on the principle of not moving data unnecessarily. So when you load a featurebyte table, you load its metadata, not the full contents of the table."
   ]
  },
  {
   "cell_type": "code",
   "execution_count": 3,
   "metadata": {
    "tags": []
   },
   "outputs": [],
   "source": [
    "# get the tables for this catalog\n",
    "grocery_customer_table = catalog.get_table(\"GROCERYCUSTOMER\")\n",
    "grocery_items_table = catalog.get_table(\"INVOICEITEMS\")\n",
    "grocery_invoice_table = catalog.get_table(\"GROCERYINVOICE\")"
   ]
  },
  {
   "cell_type": "markdown",
   "metadata": {},
   "source": [
    "### Concept: FeatureByte view\n",
    "\n",
    "A FeatureByte view is a local virtual table that can be modified and joined to other views to prepare data before feature definition. A view does not contain any data of its own, but instead retrieves data from the underlying tables each time it is queried. It doesn't modify the data in those tables either. The view object works similar to a SQL view."
   ]
  },
  {
   "cell_type": "markdown",
   "metadata": {},
   "source": [
    "### Example: Syntax for creating views"
   ]
  },
  {
   "cell_type": "code",
   "execution_count": 4,
   "metadata": {
    "tags": []
   },
   "outputs": [],
   "source": [
    "# create views from the tables\n",
    "grocery_customer_view = grocery_customer_table.get_view()\n",
    "grocery_invoice_view = grocery_invoice_table.get_view()\n",
    "grocery_items_view = grocery_items_table.get_view()"
   ]
  },
  {
   "cell_type": "markdown",
   "metadata": {},
   "source": [
    "## Features\n",
    "\n",
    "Learning Objectives\n",
    "\n",
    "In this section you will learn:\n",
    "* the definition of a feature\n",
    "* about entities and primary entities\n",
    "* how to list entities\n",
    "* what is an observation set, and how to create one"
   ]
  },
  {
   "cell_type": "markdown",
   "metadata": {},
   "source": [
    "### Concept: Feature\n",
    "\n",
    "A Feature object contains the logical plan to compute a feature which is usually used as input data to train or predict Machine Learning models.\n",
    "\n",
    "There are three ways to define the plan for Feature objects from views: either as a Lookup feature, as an Aggregate feature or as a Cross Aggregate feature.\n",
    "\n",
    "Additionally, Feature objects can be created as transformations of one or more existing features."
   ]
  },
  {
   "cell_type": "markdown",
   "metadata": {},
   "source": [
    "### Concept: Entity\n",
    "\n",
    "An Entity object contains metadata on a real-world object or concept represented or referenced by tables within your data warehouse.\n",
    "\n",
    "Entities facilitate automatic table join definitions, serve as the unit of analysis for feature engineering, and aid in organizing features, feature lists, and use cases.\n",
    "\n",
    "All features must relate to an entity (or entities) as their primary unit of analysis."
   ]
  },
  {
   "cell_type": "markdown",
   "metadata": {},
   "source": [
    "### Concept: Feature Primary Entity\n",
    "The primary entity of a feature defines the level of analysis for that feature.\n",
    "\n",
    "The primary entity is usually a single entity. However, in some instances, it may be a tuple of entities.\n",
    "\n",
    "When a feature is a result of an aggregation grouped by multiple entities, the primary entity is a tuple of those entities. For instance, if a feature quantifies the interaction between a customer entity and a merchant entity in the past, such as the sum of transaction amounts grouped by customer and merchant in the past 4 weeks, the primary entity is the tuple of customer and merchant.\n",
    "\n",
    "When a feature is derived from features with different primary entities, the primary entity is determined by the entity relationships. The lowest level entity in the hierarchy is selected as the primary entity. If the entities have no relationship, the primary entity becomes a tuple of those entities.\n",
    "\n",
    "For example, if a feature compares the basket of a customer with the average basket of customers in the same city, the primary entity is the customer since the customer entity is a child of the customer city entity. However, if the feature is the distance between the customer location and the merchant location, the primary entity becomes the tuple of customer and merchant since these entities do not have any parent-child relationship."
   ]
  },
  {
   "cell_type": "markdown",
   "metadata": {},
   "source": [
    "### Example: List entities\n",
    "\n",
    "Note that in this case study, all entities except French state are used for joining tables. \n",
    "\n",
    "All entities can be used as a unit of analysis for features. For example, the French state entity can be used for creating features that aggregate over the geography."
   ]
  },
  {
   "cell_type": "code",
   "execution_count": 5,
   "metadata": {
    "tags": []
   },
   "outputs": [
    {
     "data": {
      "text/html": [
       "<div>\n",
       "<style scoped>\n",
       "    .dataframe tbody tr th:only-of-type {\n",
       "        vertical-align: middle;\n",
       "    }\n",
       "\n",
       "    .dataframe tbody tr th {\n",
       "        vertical-align: top;\n",
       "    }\n",
       "\n",
       "    .dataframe thead th {\n",
       "        text-align: right;\n",
       "    }\n",
       "</style>\n",
       "<table border=\"1\" class=\"dataframe\">\n",
       "  <thead>\n",
       "    <tr style=\"text-align: right;\">\n",
       "      <th></th>\n",
       "      <th>id</th>\n",
       "      <th>name</th>\n",
       "      <th>serving_names</th>\n",
       "      <th>created_at</th>\n",
       "    </tr>\n",
       "  </thead>\n",
       "  <tbody>\n",
       "    <tr>\n",
       "      <th>0</th>\n",
       "      <td>645c4f9e1799f9191001536f</td>\n",
       "      <td>frenchstate</td>\n",
       "      <td>[FRENCHSTATE]</td>\n",
       "      <td>2023-05-11 02:14:54.367</td>\n",
       "    </tr>\n",
       "    <tr>\n",
       "      <th>1</th>\n",
       "      <td>645c4f9e1799f9191001536e</td>\n",
       "      <td>groceryproduct</td>\n",
       "      <td>[GROCERYPRODUCTGUID]</td>\n",
       "      <td>2023-05-11 02:14:54.303</td>\n",
       "    </tr>\n",
       "    <tr>\n",
       "      <th>2</th>\n",
       "      <td>645c4f9e1799f9191001536d</td>\n",
       "      <td>groceryinvoice</td>\n",
       "      <td>[GROCERYINVOICEGUID]</td>\n",
       "      <td>2023-05-11 02:14:54.238</td>\n",
       "    </tr>\n",
       "    <tr>\n",
       "      <th>3</th>\n",
       "      <td>645c4f9e1799f9191001536c</td>\n",
       "      <td>grocerycustomer</td>\n",
       "      <td>[GROCERYCUSTOMERGUID]</td>\n",
       "      <td>2023-05-11 02:14:54.176</td>\n",
       "    </tr>\n",
       "  </tbody>\n",
       "</table>\n",
       "</div>"
      ],
      "text/plain": [
       "                         id             name          serving_names  \\\n",
       "0  645c4f9e1799f9191001536f      frenchstate          [FRENCHSTATE]   \n",
       "1  645c4f9e1799f9191001536e   groceryproduct   [GROCERYPRODUCTGUID]   \n",
       "2  645c4f9e1799f9191001536d   groceryinvoice   [GROCERYINVOICEGUID]   \n",
       "3  645c4f9e1799f9191001536c  grocerycustomer  [GROCERYCUSTOMERGUID]   \n",
       "\n",
       "               created_at  \n",
       "0 2023-05-11 02:14:54.367  \n",
       "1 2023-05-11 02:14:54.303  \n",
       "2 2023-05-11 02:14:54.238  \n",
       "3 2023-05-11 02:14:54.176  "
      ]
     },
     "execution_count": 5,
     "metadata": {},
     "output_type": "execute_result"
    }
   ],
   "source": [
    "# list the entities in the dataset\n",
    "catalog.list_entities()"
   ]
  },
  {
   "cell_type": "markdown",
   "metadata": {},
   "source": [
    "### Concept: Observation set\n",
    "\n",
    "An observation set combines entity key values and historical points-in-time, for which you wish to materialize feature values.\n",
    "\n",
    "The observation set can be a Pandas DataFrame or an ObservationTable object representing an observation set in the feature store."
   ]
  },
  {
   "cell_type": "markdown",
   "metadata": {},
   "source": [
    "### Example: Creating an observation set\n",
    "\n",
    "Some use cases are about events, and require predictions to be triggered when a specified event occurs.\n",
    "\n",
    "For a use case requiring predictions about a grocery customer whenever an invoice event occurs, your observation set may be sampled from historical invoices."
   ]
  },
  {
   "cell_type": "code",
   "execution_count": 6,
   "metadata": {
    "tags": []
   },
   "outputs": [
    {
     "data": {
      "text/html": [
       "<div>\n",
       "<style scoped>\n",
       "    .dataframe tbody tr th:only-of-type {\n",
       "        vertical-align: middle;\n",
       "    }\n",
       "\n",
       "    .dataframe tbody tr th {\n",
       "        vertical-align: top;\n",
       "    }\n",
       "\n",
       "    .dataframe thead th {\n",
       "        text-align: right;\n",
       "    }\n",
       "</style>\n",
       "<table border=\"1\" class=\"dataframe\">\n",
       "  <thead>\n",
       "    <tr style=\"text-align: right;\">\n",
       "      <th></th>\n",
       "      <th>GROCERYCUSTOMERGUID</th>\n",
       "      <th>POINT_IN_TIME</th>\n",
       "    </tr>\n",
       "  </thead>\n",
       "  <tbody>\n",
       "    <tr>\n",
       "      <th>0</th>\n",
       "      <td>d2fc87d2-3584-4c8f-9359-b3ff10b5dc09</td>\n",
       "      <td>2022-12-26 16:29:21</td>\n",
       "    </tr>\n",
       "    <tr>\n",
       "      <th>1</th>\n",
       "      <td>c22fa3eb-55a5-4a4f-9301-38f6b6f0567e</td>\n",
       "      <td>2022-06-23 18:24:52</td>\n",
       "    </tr>\n",
       "    <tr>\n",
       "      <th>2</th>\n",
       "      <td>e034e01c-50de-42f0-a879-82c093af5f49</td>\n",
       "      <td>2022-12-19 15:49:29</td>\n",
       "    </tr>\n",
       "    <tr>\n",
       "      <th>3</th>\n",
       "      <td>7a1bc5dc-e198-419e-b972-0abbdf8903c1</td>\n",
       "      <td>2022-02-13 16:52:33</td>\n",
       "    </tr>\n",
       "    <tr>\n",
       "      <th>4</th>\n",
       "      <td>38244c7f-6cc5-42fb-a959-5877bb217455</td>\n",
       "      <td>2022-10-26 17:18:43</td>\n",
       "    </tr>\n",
       "  </tbody>\n",
       "</table>\n",
       "</div>"
      ],
      "text/plain": [
       "                    GROCERYCUSTOMERGUID       POINT_IN_TIME\n",
       "0  d2fc87d2-3584-4c8f-9359-b3ff10b5dc09 2022-12-26 16:29:21\n",
       "1  c22fa3eb-55a5-4a4f-9301-38f6b6f0567e 2022-06-23 18:24:52\n",
       "2  e034e01c-50de-42f0-a879-82c093af5f49 2022-12-19 15:49:29\n",
       "3  7a1bc5dc-e198-419e-b972-0abbdf8903c1 2022-02-13 16:52:33\n",
       "4  38244c7f-6cc5-42fb-a959-5877bb217455 2022-10-26 17:18:43"
      ]
     },
     "metadata": {},
     "output_type": "display_data"
    }
   ],
   "source": [
    "# get some invoice IDs and invoice event timestamps from 2022\n",
    "filter = grocery_invoice_view[\"Timestamp\"].dt.year == 2022\n",
    "observation_set = (\n",
    "    grocery_invoice_view[filter]\n",
    "    .sample(5)[[\"GroceryCustomerGuid\", \"Timestamp\"]]\n",
    "    .rename(\n",
    "        {\n",
    "            \"Timestamp\": \"POINT_IN_TIME\",\n",
    "            \"GroceryCustomerGuid\": \"GROCERYCUSTOMERGUID\",\n",
    "        },\n",
    "        axis=1,\n",
    "    )\n",
    ")\n",
    "display(observation_set)"
   ]
  },
  {
   "cell_type": "markdown",
   "metadata": {},
   "source": [
    "## Create a Lookup Feature\n",
    "\n",
    "Learning Objectives\n",
    "\n",
    "In this section you will learn:\n",
    "* how to transform data\n",
    "* what is a lookup feature\n",
    "* how to create a lookup feature"
   ]
  },
  {
   "cell_type": "markdown",
   "metadata": {},
   "source": [
    "### Concept: View Column Transforms\n",
    "\n",
    "View Column Transforms refer to the ability to apply transformation operations on columns within a view. These operations generate a new column that can either be assigned back to the view or used for subsequent transformations.\n",
    "\n",
    "The different types of transforms include generic transforms, numeric transforms, string transforms, datetime transforms, and lag transforms."
   ]
  },
  {
   "cell_type": "markdown",
   "metadata": {},
   "source": [
    "### Example: Transforming data in a view"
   ]
  },
  {
   "cell_type": "code",
   "execution_count": 7,
   "metadata": {
    "tags": []
   },
   "outputs": [
    {
     "data": {
      "text/html": [
       "<div>\n",
       "<style scoped>\n",
       "    .dataframe tbody tr th:only-of-type {\n",
       "        vertical-align: middle;\n",
       "    }\n",
       "\n",
       "    .dataframe tbody tr th {\n",
       "        vertical-align: top;\n",
       "    }\n",
       "\n",
       "    .dataframe thead th {\n",
       "        text-align: right;\n",
       "    }\n",
       "</style>\n",
       "<table border=\"1\" class=\"dataframe\">\n",
       "  <thead>\n",
       "    <tr style=\"text-align: right;\">\n",
       "      <th></th>\n",
       "      <th>GroceryCustomerGuid</th>\n",
       "      <th>ValidFrom</th>\n",
       "      <th>BrowserUserAgent</th>\n",
       "      <th>OperatingSystem</th>\n",
       "    </tr>\n",
       "  </thead>\n",
       "  <tbody>\n",
       "    <tr>\n",
       "      <th>0</th>\n",
       "      <td>a8cd7041-3f41-4a6b-9745-798e2300a717</td>\n",
       "      <td>2019-01-10 09:06:37</td>\n",
       "      <td>Mozilla/5.0 (Windows NT 10.0; Win64; x64) Appl...</td>\n",
       "      <td>Windows</td>\n",
       "    </tr>\n",
       "    <tr>\n",
       "      <th>1</th>\n",
       "      <td>bbaff8e5-44ab-4f61-a4e6-405f274bf429</td>\n",
       "      <td>2022-07-03 16:01:40</td>\n",
       "      <td>Mozilla/5.0 (Windows NT 10.0; Win64; x64) Appl...</td>\n",
       "      <td>Windows</td>\n",
       "    </tr>\n",
       "    <tr>\n",
       "      <th>2</th>\n",
       "      <td>9359ef7b-7fd8-4587-bc40-e89f6acc1218</td>\n",
       "      <td>2019-01-09 20:44:25</td>\n",
       "      <td>Mozilla/5.0 (Macintosh; Intel Mac OS X 10.14; ...</td>\n",
       "      <td>Mac</td>\n",
       "    </tr>\n",
       "    <tr>\n",
       "      <th>3</th>\n",
       "      <td>7ce7bcc5-9ded-4f9a-bd9a-5f85f8ea6cca</td>\n",
       "      <td>2020-10-16 11:39:05</td>\n",
       "      <td>Mozilla/5.0 (Windows NT 10.0; Win64; x64; rv:6...</td>\n",
       "      <td>Windows</td>\n",
       "    </tr>\n",
       "    <tr>\n",
       "      <th>4</th>\n",
       "      <td>fb39edea-9527-4a9b-a4f5-f9cf697a124f</td>\n",
       "      <td>2019-01-01 13:53:50</td>\n",
       "      <td>Mozilla/5.0 (Macintosh; Intel Mac OS X 10_14_5...</td>\n",
       "      <td>Mac</td>\n",
       "    </tr>\n",
       "    <tr>\n",
       "      <th>5</th>\n",
       "      <td>f15331f3-52ad-4f2a-acc2-bd71900823a7</td>\n",
       "      <td>2019-01-01 13:50:34</td>\n",
       "      <td>Mozilla/5.0 (Windows NT 10.0; Win64; x64) Appl...</td>\n",
       "      <td>Windows</td>\n",
       "    </tr>\n",
       "    <tr>\n",
       "      <th>6</th>\n",
       "      <td>9e88c6d9-7c42-4a00-96b0-0012d79a1e15</td>\n",
       "      <td>2019-01-05 17:46:28</td>\n",
       "      <td>Mozilla/5.0 (Windows NT 10.0; Win64; x64; rv:6...</td>\n",
       "      <td>Windows</td>\n",
       "    </tr>\n",
       "    <tr>\n",
       "      <th>7</th>\n",
       "      <td>dd1dcef9-26b3-4de6-95b0-36410c1ecf98</td>\n",
       "      <td>2022-05-10 10:16:54</td>\n",
       "      <td>Mozilla/5.0 (Windows NT 10.0; Win64; x64) Appl...</td>\n",
       "      <td>Windows</td>\n",
       "    </tr>\n",
       "    <tr>\n",
       "      <th>8</th>\n",
       "      <td>c87f9847-fa5a-4dd8-a62a-40565c8996d0</td>\n",
       "      <td>2019-01-15 13:19:54</td>\n",
       "      <td>Mozilla/5.0 (Macintosh; Intel Mac OS X 10_14_4...</td>\n",
       "      <td>Mac</td>\n",
       "    </tr>\n",
       "    <tr>\n",
       "      <th>9</th>\n",
       "      <td>db726554-ea0d-422d-b4de-39efa949f60c</td>\n",
       "      <td>2019-01-03 17:00:37</td>\n",
       "      <td>Mozilla/5.0 (Windows NT 6.1) AppleWebKit/537.3...</td>\n",
       "      <td>Windows</td>\n",
       "    </tr>\n",
       "  </tbody>\n",
       "</table>\n",
       "</div>"
      ],
      "text/plain": [
       "                    GroceryCustomerGuid           ValidFrom  \\\n",
       "0  a8cd7041-3f41-4a6b-9745-798e2300a717 2019-01-10 09:06:37   \n",
       "1  bbaff8e5-44ab-4f61-a4e6-405f274bf429 2022-07-03 16:01:40   \n",
       "2  9359ef7b-7fd8-4587-bc40-e89f6acc1218 2019-01-09 20:44:25   \n",
       "3  7ce7bcc5-9ded-4f9a-bd9a-5f85f8ea6cca 2020-10-16 11:39:05   \n",
       "4  fb39edea-9527-4a9b-a4f5-f9cf697a124f 2019-01-01 13:53:50   \n",
       "5  f15331f3-52ad-4f2a-acc2-bd71900823a7 2019-01-01 13:50:34   \n",
       "6  9e88c6d9-7c42-4a00-96b0-0012d79a1e15 2019-01-05 17:46:28   \n",
       "7  dd1dcef9-26b3-4de6-95b0-36410c1ecf98 2022-05-10 10:16:54   \n",
       "8  c87f9847-fa5a-4dd8-a62a-40565c8996d0 2019-01-15 13:19:54   \n",
       "9  db726554-ea0d-422d-b4de-39efa949f60c 2019-01-03 17:00:37   \n",
       "\n",
       "                                    BrowserUserAgent OperatingSystem  \n",
       "0  Mozilla/5.0 (Windows NT 10.0; Win64; x64) Appl...         Windows  \n",
       "1  Mozilla/5.0 (Windows NT 10.0; Win64; x64) Appl...         Windows  \n",
       "2  Mozilla/5.0 (Macintosh; Intel Mac OS X 10.14; ...             Mac  \n",
       "3  Mozilla/5.0 (Windows NT 10.0; Win64; x64; rv:6...         Windows  \n",
       "4  Mozilla/5.0 (Macintosh; Intel Mac OS X 10_14_5...             Mac  \n",
       "5  Mozilla/5.0 (Windows NT 10.0; Win64; x64) Appl...         Windows  \n",
       "6  Mozilla/5.0 (Windows NT 10.0; Win64; x64; rv:6...         Windows  \n",
       "7  Mozilla/5.0 (Windows NT 10.0; Win64; x64) Appl...         Windows  \n",
       "8  Mozilla/5.0 (Macintosh; Intel Mac OS X 10_14_4...             Mac  \n",
       "9  Mozilla/5.0 (Windows NT 6.1) AppleWebKit/537.3...         Windows  "
      ]
     },
     "metadata": {},
     "output_type": "display_data"
    }
   ],
   "source": [
    "# extract the operating system from the BrowserUserAgent column\n",
    "grocery_customer_view[\"OperatingSystem\"] = \"Unknown\"\n",
    "filter1 = grocery_customer_view.BrowserUserAgent.str.contains(\"Windows\")\n",
    "filter2 = grocery_customer_view.BrowserUserAgent.str.contains(\"Mac OS X\")\n",
    "grocery_customer_view.OperatingSystem[filter1] = \"Windows\"\n",
    "grocery_customer_view.OperatingSystem[filter2] = \"Mac\"\n",
    "\n",
    "# display a sample of the results\n",
    "display(\n",
    "    grocery_customer_view[[\"GroceryCustomerGuid\", \"BrowserUserAgent\", \"OperatingSystem\"]].sample()\n",
    ")"
   ]
  },
  {
   "cell_type": "markdown",
   "metadata": {},
   "source": [
    "### Concept: Natural key\n",
    "\n",
    "A Natural Key is a generally accepted identifier used to identify real-world objects uniquely. In a Slowly Changing Dimension (SCD) table, a natural key (also called alternate key) is a column or a group of columns that remain constant over time and uniquely identifies each active row in the table at any point-in-time.\n",
    "\n",
    "This key is crucial in maintaining and analyzing the historical changes made in the table.\n",
    "\n",
    "For example, consider a SCD table providing changing information on customers, such as their addresses. The customer ID column of this table can be considered a natural key since it remains constant and uniquely identifies each customer. A given customer ID is associated with at most one address at a particular point-in-time, while over time, multiple addresses can be associated with a given customer ID."
   ]
  },
  {
   "cell_type": "markdown",
   "metadata": {},
   "source": [
    "### Concept: Lookup feature\n",
    "\n",
    "A Lookup feature refers to an entity’s attribute in a View at a specific point-in-time. Lookup features do not involve any aggregation processes.\n",
    "\n",
    "When a FeatureByte view's primary key identifies an entity, it is simple to designate its attributes as features for that particular entity. Examples of Lookup features are a customer's birthplace retrieved from a Customer Dimension table or a transaction amount retrieved from a Transactions Event table.\n",
    "\n",
    "In situations where an entity serves as the natural key of an SCD view, it is also possible to assign one of its attributes as a feature for that entity. However, in those cases, the feature is materialized through point-in-time joins, and the resulting value corresponds to the active row at the specified point-in-time of the feature request. For instance, a customer feature could be the customer's street address at the request's point-in-time.\n",
    "\n",
    "When dealing with an SCD view, you can specify an offset if you want to get the feature value at a specific time before the request's point-in-time. For example, by setting the offset to 9 weeks, the feature would represent the customer's street address 9 weeks before the request's point-in-time."
   ]
  },
  {
   "cell_type": "markdown",
   "metadata": {},
   "source": [
    "### Example: Syntax for declaring a lookup feature"
   ]
  },
  {
   "cell_type": "code",
   "execution_count": 8,
   "metadata": {
    "tags": []
   },
   "outputs": [
    {
     "data": {
      "text/html": [
       "<div>\n",
       "<style scoped>\n",
       "    .dataframe tbody tr th:only-of-type {\n",
       "        vertical-align: middle;\n",
       "    }\n",
       "\n",
       "    .dataframe tbody tr th {\n",
       "        vertical-align: top;\n",
       "    }\n",
       "\n",
       "    .dataframe thead th {\n",
       "        text-align: right;\n",
       "    }\n",
       "</style>\n",
       "<table border=\"1\" class=\"dataframe\">\n",
       "  <thead>\n",
       "    <tr style=\"text-align: right;\">\n",
       "      <th></th>\n",
       "      <th>GROCERYCUSTOMERGUID</th>\n",
       "      <th>POINT_IN_TIME</th>\n",
       "      <th>OperatingSystem</th>\n",
       "    </tr>\n",
       "  </thead>\n",
       "  <tbody>\n",
       "    <tr>\n",
       "      <th>0</th>\n",
       "      <td>d2fc87d2-3584-4c8f-9359-b3ff10b5dc09</td>\n",
       "      <td>2022-12-26 16:29:21</td>\n",
       "      <td>Mac</td>\n",
       "    </tr>\n",
       "    <tr>\n",
       "      <th>1</th>\n",
       "      <td>c22fa3eb-55a5-4a4f-9301-38f6b6f0567e</td>\n",
       "      <td>2022-06-23 18:24:52</td>\n",
       "      <td>Windows</td>\n",
       "    </tr>\n",
       "    <tr>\n",
       "      <th>2</th>\n",
       "      <td>e034e01c-50de-42f0-a879-82c093af5f49</td>\n",
       "      <td>2022-12-19 15:49:29</td>\n",
       "      <td>Windows</td>\n",
       "    </tr>\n",
       "    <tr>\n",
       "      <th>3</th>\n",
       "      <td>7a1bc5dc-e198-419e-b972-0abbdf8903c1</td>\n",
       "      <td>2022-02-13 16:52:33</td>\n",
       "      <td>Unknown</td>\n",
       "    </tr>\n",
       "    <tr>\n",
       "      <th>4</th>\n",
       "      <td>38244c7f-6cc5-42fb-a959-5877bb217455</td>\n",
       "      <td>2022-10-26 17:18:43</td>\n",
       "      <td>Windows</td>\n",
       "    </tr>\n",
       "  </tbody>\n",
       "</table>\n",
       "</div>"
      ],
      "text/plain": [
       "                    GROCERYCUSTOMERGUID       POINT_IN_TIME OperatingSystem\n",
       "0  d2fc87d2-3584-4c8f-9359-b3ff10b5dc09 2022-12-26 16:29:21             Mac\n",
       "1  c22fa3eb-55a5-4a4f-9301-38f6b6f0567e 2022-06-23 18:24:52         Windows\n",
       "2  e034e01c-50de-42f0-a879-82c093af5f49 2022-12-19 15:49:29         Windows\n",
       "3  7a1bc5dc-e198-419e-b972-0abbdf8903c1 2022-02-13 16:52:33         Unknown\n",
       "4  38244c7f-6cc5-42fb-a959-5877bb217455 2022-10-26 17:18:43         Windows"
      ]
     },
     "metadata": {},
     "output_type": "display_data"
    }
   ],
   "source": [
    "# create a feature from the operating system column\n",
    "customer_operating_system = grocery_customer_view.OperatingSystem.as_feature(\"OperatingSystem\")\n",
    "\n",
    "# create a multi-row preview of the feature values\n",
    "display(customer_operating_system.preview(observation_set))"
   ]
  },
  {
   "cell_type": "markdown",
   "metadata": {},
   "source": [
    "## Create an Aggregate Feature\n",
    "\n",
    "Learning Objectives\n",
    "\n",
    "In this section you will learn:\n",
    "* what is an aggregate feature\n",
    "* how to create a aggregate feature over a time window"
   ]
  },
  {
   "cell_type": "markdown",
   "metadata": {},
   "source": [
    "### Concept: Aggregate feature\n",
    "\n",
    "Aggregate Features are an important type of feature engineering that involves applying various aggregation functions to a collection of data points grouped by an entity (or a tuple of entities). Supported aggregation functions include the latest, count, sum, average, minimum, maximum, and standard deviation. It is important to consider the temporal aspect when conducting these aggregation operations.\n",
    "\n",
    "There are three main types of aggregate features, including simple aggregates, aggregates over a window, and aggregates \"as at\" a point-in-time.\n",
    "\n",
    "If a feature is intended to capture patterns of interaction between two or more entities, these aggregations are grouped by the tuple of the entities. For instance, an aggregate feature can be created to show the amount spent by a customer with a merchant in the recent past."
   ]
  },
  {
   "cell_type": "markdown",
   "metadata": {},
   "source": [
    "### Concept: Aggregates over a window\n",
    "\n",
    "Aggregates over a window refer to features that are generated by aggregating data within a specific time frame. These types of features are commonly used for analyzing event and item data."
   ]
  },
  {
   "cell_type": "markdown",
   "metadata": {},
   "source": [
    "### Example: Syntax for creating an aggregate feature over a window"
   ]
  },
  {
   "cell_type": "code",
   "execution_count": 9,
   "metadata": {
    "tags": []
   },
   "outputs": [
    {
     "data": {
      "text/html": [
       "<div>\n",
       "<style scoped>\n",
       "    .dataframe tbody tr th:only-of-type {\n",
       "        vertical-align: middle;\n",
       "    }\n",
       "\n",
       "    .dataframe tbody tr th {\n",
       "        vertical-align: top;\n",
       "    }\n",
       "\n",
       "    .dataframe thead th {\n",
       "        text-align: right;\n",
       "    }\n",
       "</style>\n",
       "<table border=\"1\" class=\"dataframe\">\n",
       "  <thead>\n",
       "    <tr style=\"text-align: right;\">\n",
       "      <th></th>\n",
       "      <th>GroceryCustomerGuid</th>\n",
       "      <th>Discount</th>\n",
       "      <th>TotalCost</th>\n",
       "      <th>PercentageDiscount</th>\n",
       "    </tr>\n",
       "  </thead>\n",
       "  <tbody>\n",
       "    <tr>\n",
       "      <th>0</th>\n",
       "      <td>c6ef9073-3351-4f54-869a-4c926a479520</td>\n",
       "      <td>0.18</td>\n",
       "      <td>1.74</td>\n",
       "      <td>9.375000</td>\n",
       "    </tr>\n",
       "    <tr>\n",
       "      <th>1</th>\n",
       "      <td>09fbee0c-521e-40ee-a2ff-8ed4187dcbc4</td>\n",
       "      <td>0.39</td>\n",
       "      <td>2.50</td>\n",
       "      <td>13.494810</td>\n",
       "    </tr>\n",
       "    <tr>\n",
       "      <th>2</th>\n",
       "      <td>53cfd09f-9293-4d66-b876-0087e3a5f35b</td>\n",
       "      <td>0.00</td>\n",
       "      <td>0.75</td>\n",
       "      <td>0.000000</td>\n",
       "    </tr>\n",
       "    <tr>\n",
       "      <th>3</th>\n",
       "      <td>86a8a582-9cb8-4850-9de8-8e064f2111f2</td>\n",
       "      <td>0.00</td>\n",
       "      <td>1.98</td>\n",
       "      <td>0.000000</td>\n",
       "    </tr>\n",
       "    <tr>\n",
       "      <th>4</th>\n",
       "      <td>9c23c4e8-f0e8-4aa4-83e9-3d3525461a8f</td>\n",
       "      <td>0.00</td>\n",
       "      <td>1.29</td>\n",
       "      <td>0.000000</td>\n",
       "    </tr>\n",
       "    <tr>\n",
       "      <th>5</th>\n",
       "      <td>3cc23dcd-7238-4a92-bb01-61126d9ff825</td>\n",
       "      <td>0.05</td>\n",
       "      <td>1.00</td>\n",
       "      <td>4.761905</td>\n",
       "    </tr>\n",
       "    <tr>\n",
       "      <th>6</th>\n",
       "      <td>12c2d702-1b92-4375-8fd4-5b3bd18f7d87</td>\n",
       "      <td>0.00</td>\n",
       "      <td>8.99</td>\n",
       "      <td>0.000000</td>\n",
       "    </tr>\n",
       "    <tr>\n",
       "      <th>7</th>\n",
       "      <td>2328730d-9979-45de-8511-117697556fbc</td>\n",
       "      <td>2.09</td>\n",
       "      <td>2.50</td>\n",
       "      <td>45.533769</td>\n",
       "    </tr>\n",
       "    <tr>\n",
       "      <th>8</th>\n",
       "      <td>b21ae11c-83cf-4146-832e-1163413a3295</td>\n",
       "      <td>0.10</td>\n",
       "      <td>1.19</td>\n",
       "      <td>7.751938</td>\n",
       "    </tr>\n",
       "    <tr>\n",
       "      <th>9</th>\n",
       "      <td>db2d5721-8869-40f7-984c-a94d614fdf69</td>\n",
       "      <td>0.00</td>\n",
       "      <td>0.25</td>\n",
       "      <td>0.000000</td>\n",
       "    </tr>\n",
       "  </tbody>\n",
       "</table>\n",
       "</div>"
      ],
      "text/plain": [
       "                    GroceryCustomerGuid  Discount  TotalCost  \\\n",
       "0  c6ef9073-3351-4f54-869a-4c926a479520      0.18       1.74   \n",
       "1  09fbee0c-521e-40ee-a2ff-8ed4187dcbc4      0.39       2.50   \n",
       "2  53cfd09f-9293-4d66-b876-0087e3a5f35b      0.00       0.75   \n",
       "3  86a8a582-9cb8-4850-9de8-8e064f2111f2      0.00       1.98   \n",
       "4  9c23c4e8-f0e8-4aa4-83e9-3d3525461a8f      0.00       1.29   \n",
       "5  3cc23dcd-7238-4a92-bb01-61126d9ff825      0.05       1.00   \n",
       "6  12c2d702-1b92-4375-8fd4-5b3bd18f7d87      0.00       8.99   \n",
       "7  2328730d-9979-45de-8511-117697556fbc      2.09       2.50   \n",
       "8  b21ae11c-83cf-4146-832e-1163413a3295      0.10       1.19   \n",
       "9  db2d5721-8869-40f7-984c-a94d614fdf69      0.00       0.25   \n",
       "\n",
       "   PercentageDiscount  \n",
       "0            9.375000  \n",
       "1           13.494810  \n",
       "2            0.000000  \n",
       "3            0.000000  \n",
       "4            0.000000  \n",
       "5            4.761905  \n",
       "6            0.000000  \n",
       "7           45.533769  \n",
       "8            7.751938  \n",
       "9            0.000000  "
      ]
     },
     "metadata": {},
     "output_type": "display_data"
    }
   ],
   "source": [
    "# calculate the percentage discount for each grocery item\n",
    "grocery_items_view[\"PercentageDiscount\"] = (\n",
    "    grocery_items_view.Discount\n",
    "    / (grocery_items_view.TotalCost + grocery_items_view.Discount)\n",
    "    * 100.0\n",
    ")\n",
    "\n",
    "# display a sample of the results\n",
    "display(\n",
    "    grocery_items_view.sample()[\n",
    "        [\"GroceryCustomerGuid\", \"Discount\", \"TotalCost\", \"PercentageDiscount\"]\n",
    "    ]\n",
    ")"
   ]
  },
  {
   "cell_type": "code",
   "execution_count": 10,
   "metadata": {
    "tags": []
   },
   "outputs": [
    {
     "data": {
      "text/html": [
       "<div>\n",
       "<style scoped>\n",
       "    .dataframe tbody tr th:only-of-type {\n",
       "        vertical-align: middle;\n",
       "    }\n",
       "\n",
       "    .dataframe tbody tr th {\n",
       "        vertical-align: top;\n",
       "    }\n",
       "\n",
       "    .dataframe thead th {\n",
       "        text-align: right;\n",
       "    }\n",
       "</style>\n",
       "<table border=\"1\" class=\"dataframe\">\n",
       "  <thead>\n",
       "    <tr style=\"text-align: right;\">\n",
       "      <th></th>\n",
       "      <th>GROCERYCUSTOMERGUID</th>\n",
       "      <th>POINT_IN_TIME</th>\n",
       "      <th>MaxDiscount_30days</th>\n",
       "      <th>MaxDiscount_90days</th>\n",
       "    </tr>\n",
       "  </thead>\n",
       "  <tbody>\n",
       "    <tr>\n",
       "      <th>0</th>\n",
       "      <td>d2fc87d2-3584-4c8f-9359-b3ff10b5dc09</td>\n",
       "      <td>2022-12-26 16:29:21</td>\n",
       "      <td>0.000000</td>\n",
       "      <td>32.432432</td>\n",
       "    </tr>\n",
       "    <tr>\n",
       "      <th>1</th>\n",
       "      <td>c22fa3eb-55a5-4a4f-9301-38f6b6f0567e</td>\n",
       "      <td>2022-06-23 18:24:52</td>\n",
       "      <td>61.240310</td>\n",
       "      <td>61.240310</td>\n",
       "    </tr>\n",
       "    <tr>\n",
       "      <th>2</th>\n",
       "      <td>e034e01c-50de-42f0-a879-82c093af5f49</td>\n",
       "      <td>2022-12-19 15:49:29</td>\n",
       "      <td>48.586118</td>\n",
       "      <td>55.183946</td>\n",
       "    </tr>\n",
       "    <tr>\n",
       "      <th>3</th>\n",
       "      <td>7a1bc5dc-e198-419e-b972-0abbdf8903c1</td>\n",
       "      <td>2022-02-13 16:52:33</td>\n",
       "      <td>61.389961</td>\n",
       "      <td>61.389961</td>\n",
       "    </tr>\n",
       "    <tr>\n",
       "      <th>4</th>\n",
       "      <td>38244c7f-6cc5-42fb-a959-5877bb217455</td>\n",
       "      <td>2022-10-26 17:18:43</td>\n",
       "      <td>41.860465</td>\n",
       "      <td>41.860465</td>\n",
       "    </tr>\n",
       "  </tbody>\n",
       "</table>\n",
       "</div>"
      ],
      "text/plain": [
       "                    GROCERYCUSTOMERGUID       POINT_IN_TIME  \\\n",
       "0  d2fc87d2-3584-4c8f-9359-b3ff10b5dc09 2022-12-26 16:29:21   \n",
       "1  c22fa3eb-55a5-4a4f-9301-38f6b6f0567e 2022-06-23 18:24:52   \n",
       "2  e034e01c-50de-42f0-a879-82c093af5f49 2022-12-19 15:49:29   \n",
       "3  7a1bc5dc-e198-419e-b972-0abbdf8903c1 2022-02-13 16:52:33   \n",
       "4  38244c7f-6cc5-42fb-a959-5877bb217455 2022-10-26 17:18:43   \n",
       "\n",
       "   MaxDiscount_30days  MaxDiscount_90days  \n",
       "0            0.000000           32.432432  \n",
       "1           61.240310           61.240310  \n",
       "2           48.586118           55.183946  \n",
       "3           61.389961           61.389961  \n",
       "4           41.860465           41.860465  "
      ]
     },
     "metadata": {},
     "output_type": "display_data"
    }
   ],
   "source": [
    "# get the maximum percentage discount on a grocery item for each customer over 90 days and 180 days,\n",
    "# grouped by customer\n",
    "customer_max_percent_discount = grocery_items_view.groupby(\"GroceryCustomerGuid\").aggregate_over(\n",
    "    \"PercentageDiscount\",\n",
    "    method=fb.AggFunc.MAX,\n",
    "    feature_names=[\"MaxDiscount_30days\", \"MaxDiscount_90days\"],\n",
    "    fill_value=0,\n",
    "    windows=[\"30d\", \"90d\"],\n",
    ")\n",
    "\n",
    "# create a multi-row preview of the feature values\n",
    "display(customer_max_percent_discount.preview(observation_set))"
   ]
  },
  {
   "cell_type": "markdown",
   "metadata": {},
   "source": [
    "## Save features\n",
    "\n",
    "Learning Objectives\n",
    "\n",
    "In this section you will learn:\n",
    "* how to save features"
   ]
  },
  {
   "cell_type": "markdown",
   "metadata": {},
   "source": [
    "### Example: Saving features to the Catalog"
   ]
  },
  {
   "cell_type": "code",
   "execution_count": 11,
   "metadata": {
    "tags": []
   },
   "outputs": [],
   "source": [
    "# save features to the Catalog\n",
    "customer_operating_system.save()\n",
    "customer_max_percent_discount.save()"
   ]
  },
  {
   "cell_type": "markdown",
   "metadata": {},
   "source": [
    "## Reuse an Existing Feature\n",
    "\n",
    "Learning Objectives\n",
    "\n",
    "In this section you will learn:\n",
    "* how to load a feature from the catalog\n",
    "* how to view the feature lineage"
   ]
  },
  {
   "cell_type": "markdown",
   "metadata": {},
   "source": [
    "### Example: Reuse an existing feature"
   ]
  },
  {
   "cell_type": "code",
   "execution_count": 12,
   "metadata": {
    "tags": []
   },
   "outputs": [
    {
     "data": {
      "text/html": [
       "<div>\n",
       "<style scoped>\n",
       "    .dataframe tbody tr th:only-of-type {\n",
       "        vertical-align: middle;\n",
       "    }\n",
       "\n",
       "    .dataframe tbody tr th {\n",
       "        vertical-align: top;\n",
       "    }\n",
       "\n",
       "    .dataframe thead th {\n",
       "        text-align: right;\n",
       "    }\n",
       "</style>\n",
       "<table border=\"1\" class=\"dataframe\">\n",
       "  <thead>\n",
       "    <tr style=\"text-align: right;\">\n",
       "      <th></th>\n",
       "      <th>id</th>\n",
       "      <th>name</th>\n",
       "      <th>dtype</th>\n",
       "      <th>readiness</th>\n",
       "      <th>online_enabled</th>\n",
       "      <th>tables</th>\n",
       "      <th>primary_tables</th>\n",
       "      <th>entities</th>\n",
       "      <th>primary_entities</th>\n",
       "      <th>created_at</th>\n",
       "    </tr>\n",
       "  </thead>\n",
       "  <tbody>\n",
       "    <tr>\n",
       "      <th>0</th>\n",
       "      <td>645c4fb21799f9191001537f</td>\n",
       "      <td>MaxDiscount_90days</td>\n",
       "      <td>FLOAT</td>\n",
       "      <td>DRAFT</td>\n",
       "      <td>False</td>\n",
       "      <td>[GROCERYINVOICE, INVOICEITEMS]</td>\n",
       "      <td>[INVOICEITEMS]</td>\n",
       "      <td>[grocerycustomer]</td>\n",
       "      <td>[grocerycustomer]</td>\n",
       "      <td>2023-05-11 02:15:22.354</td>\n",
       "    </tr>\n",
       "    <tr>\n",
       "      <th>1</th>\n",
       "      <td>645c4fb11799f9191001537b</td>\n",
       "      <td>MaxDiscount_30days</td>\n",
       "      <td>FLOAT</td>\n",
       "      <td>DRAFT</td>\n",
       "      <td>False</td>\n",
       "      <td>[GROCERYINVOICE, INVOICEITEMS]</td>\n",
       "      <td>[INVOICEITEMS]</td>\n",
       "      <td>[grocerycustomer]</td>\n",
       "      <td>[grocerycustomer]</td>\n",
       "      <td>2023-05-11 02:15:20.623</td>\n",
       "    </tr>\n",
       "    <tr>\n",
       "      <th>2</th>\n",
       "      <td>645c4fac1799f91910015378</td>\n",
       "      <td>OperatingSystem</td>\n",
       "      <td>VARCHAR</td>\n",
       "      <td>DRAFT</td>\n",
       "      <td>False</td>\n",
       "      <td>[GROCERYCUSTOMER]</td>\n",
       "      <td>[GROCERYCUSTOMER]</td>\n",
       "      <td>[grocerycustomer]</td>\n",
       "      <td>[grocerycustomer]</td>\n",
       "      <td>2023-05-11 02:15:18.949</td>\n",
       "    </tr>\n",
       "    <tr>\n",
       "      <th>3</th>\n",
       "      <td>645c4fa21799f91910015376</td>\n",
       "      <td>CustomerPurchasedItemsEntropy_28d</td>\n",
       "      <td>FLOAT</td>\n",
       "      <td>DRAFT</td>\n",
       "      <td>False</td>\n",
       "      <td>[GROCERYINVOICE, INVOICEITEMS]</td>\n",
       "      <td>[INVOICEITEMS]</td>\n",
       "      <td>[grocerycustomer]</td>\n",
       "      <td>[grocerycustomer]</td>\n",
       "      <td>2023-05-11 02:14:59.658</td>\n",
       "    </tr>\n",
       "    <tr>\n",
       "      <th>4</th>\n",
       "      <td>645c4fa21799f91910015370</td>\n",
       "      <td>CustomerInvoiceCount_60days</td>\n",
       "      <td>FLOAT</td>\n",
       "      <td>DRAFT</td>\n",
       "      <td>False</td>\n",
       "      <td>[GROCERYINVOICE]</td>\n",
       "      <td>[GROCERYINVOICE]</td>\n",
       "      <td>[grocerycustomer]</td>\n",
       "      <td>[grocerycustomer]</td>\n",
       "      <td>2023-05-11 02:14:58.445</td>\n",
       "    </tr>\n",
       "  </tbody>\n",
       "</table>\n",
       "</div>"
      ],
      "text/plain": [
       "                         id                               name    dtype  \\\n",
       "0  645c4fb21799f9191001537f                 MaxDiscount_90days    FLOAT   \n",
       "1  645c4fb11799f9191001537b                 MaxDiscount_30days    FLOAT   \n",
       "2  645c4fac1799f91910015378                    OperatingSystem  VARCHAR   \n",
       "3  645c4fa21799f91910015376  CustomerPurchasedItemsEntropy_28d    FLOAT   \n",
       "4  645c4fa21799f91910015370        CustomerInvoiceCount_60days    FLOAT   \n",
       "\n",
       "  readiness  online_enabled                          tables  \\\n",
       "0     DRAFT           False  [GROCERYINVOICE, INVOICEITEMS]   \n",
       "1     DRAFT           False  [GROCERYINVOICE, INVOICEITEMS]   \n",
       "2     DRAFT           False               [GROCERYCUSTOMER]   \n",
       "3     DRAFT           False  [GROCERYINVOICE, INVOICEITEMS]   \n",
       "4     DRAFT           False                [GROCERYINVOICE]   \n",
       "\n",
       "      primary_tables           entities   primary_entities  \\\n",
       "0     [INVOICEITEMS]  [grocerycustomer]  [grocerycustomer]   \n",
       "1     [INVOICEITEMS]  [grocerycustomer]  [grocerycustomer]   \n",
       "2  [GROCERYCUSTOMER]  [grocerycustomer]  [grocerycustomer]   \n",
       "3     [INVOICEITEMS]  [grocerycustomer]  [grocerycustomer]   \n",
       "4   [GROCERYINVOICE]  [grocerycustomer]  [grocerycustomer]   \n",
       "\n",
       "               created_at  \n",
       "0 2023-05-11 02:15:22.354  \n",
       "1 2023-05-11 02:15:20.623  \n",
       "2 2023-05-11 02:15:18.949  \n",
       "3 2023-05-11 02:14:59.658  \n",
       "4 2023-05-11 02:14:58.445  "
      ]
     },
     "metadata": {},
     "output_type": "display_data"
    }
   ],
   "source": [
    "# show the existing features\n",
    "existing_features = catalog.list_features()\n",
    "\n",
    "display(existing_features)"
   ]
  },
  {
   "cell_type": "code",
   "execution_count": 13,
   "metadata": {
    "tags": []
   },
   "outputs": [
    {
     "data": {
      "text/html": [
       "<div>\n",
       "<style scoped>\n",
       "    .dataframe tbody tr th:only-of-type {\n",
       "        vertical-align: middle;\n",
       "    }\n",
       "\n",
       "    .dataframe tbody tr th {\n",
       "        vertical-align: top;\n",
       "    }\n",
       "\n",
       "    .dataframe thead th {\n",
       "        text-align: right;\n",
       "    }\n",
       "</style>\n",
       "<table border=\"1\" class=\"dataframe\">\n",
       "  <thead>\n",
       "    <tr style=\"text-align: right;\">\n",
       "      <th></th>\n",
       "      <th>GROCERYCUSTOMERGUID</th>\n",
       "      <th>POINT_IN_TIME</th>\n",
       "      <th>CustomerPurchasedItemsEntropy_28d</th>\n",
       "    </tr>\n",
       "  </thead>\n",
       "  <tbody>\n",
       "    <tr>\n",
       "      <th>0</th>\n",
       "      <td>d2fc87d2-3584-4c8f-9359-b3ff10b5dc09</td>\n",
       "      <td>2022-12-26 16:29:21</td>\n",
       "      <td>0.693147</td>\n",
       "    </tr>\n",
       "    <tr>\n",
       "      <th>1</th>\n",
       "      <td>c22fa3eb-55a5-4a4f-9301-38f6b6f0567e</td>\n",
       "      <td>2022-06-23 18:24:52</td>\n",
       "      <td>4.514529</td>\n",
       "    </tr>\n",
       "    <tr>\n",
       "      <th>2</th>\n",
       "      <td>e034e01c-50de-42f0-a879-82c093af5f49</td>\n",
       "      <td>2022-12-19 15:49:29</td>\n",
       "      <td>2.197225</td>\n",
       "    </tr>\n",
       "    <tr>\n",
       "      <th>3</th>\n",
       "      <td>7a1bc5dc-e198-419e-b972-0abbdf8903c1</td>\n",
       "      <td>2022-02-13 16:52:33</td>\n",
       "      <td>4.135951</td>\n",
       "    </tr>\n",
       "    <tr>\n",
       "      <th>4</th>\n",
       "      <td>38244c7f-6cc5-42fb-a959-5877bb217455</td>\n",
       "      <td>2022-10-26 17:18:43</td>\n",
       "      <td>3.485587</td>\n",
       "    </tr>\n",
       "  </tbody>\n",
       "</table>\n",
       "</div>"
      ],
      "text/plain": [
       "                    GROCERYCUSTOMERGUID       POINT_IN_TIME  \\\n",
       "0  d2fc87d2-3584-4c8f-9359-b3ff10b5dc09 2022-12-26 16:29:21   \n",
       "1  c22fa3eb-55a5-4a4f-9301-38f6b6f0567e 2022-06-23 18:24:52   \n",
       "2  e034e01c-50de-42f0-a879-82c093af5f49 2022-12-19 15:49:29   \n",
       "3  7a1bc5dc-e198-419e-b972-0abbdf8903c1 2022-02-13 16:52:33   \n",
       "4  38244c7f-6cc5-42fb-a959-5877bb217455 2022-10-26 17:18:43   \n",
       "\n",
       "   CustomerPurchasedItemsEntropy_28d  \n",
       "0                           0.693147  \n",
       "1                           4.514529  \n",
       "2                           2.197225  \n",
       "3                           4.135951  \n",
       "4                           3.485587  "
      ]
     },
     "metadata": {},
     "output_type": "display_data"
    }
   ],
   "source": [
    "# load a feature from the Catalog\n",
    "customer_purchased_items_entropy_28days = catalog.get_feature(\"CustomerPurchasedItemsEntropy_28d\")\n",
    "\n",
    "# create a multi-row preview of the feature values\n",
    "display(customer_purchased_items_entropy_28days.preview(observation_set))"
   ]
  },
  {
   "cell_type": "markdown",
   "metadata": {},
   "source": [
    "### Concept: Feature Definition File\n",
    "\n",
    "The feature definition file is the single source of truth for a feature version. This file is automatically generated when a feature is declared in the SDK or a new version is derived.\n",
    "\n",
    "The syntax used in the SDK is also used in the feature definition file. The file provides an explicit outline of the intended operations of the feature declaration, including those inherited but not explicitly declared by you. For example, these operations may include feature job settings and cleaning operations inherited from tables metadata.\n",
    "\n",
    "The feature definition file is the basis for generating the final logical execution graph, which is then transpiled into platform-specific SQL (e.g. SnowSQL, SparkSQL) for feature materialization."
   ]
  },
  {
   "cell_type": "markdown",
   "metadata": {},
   "source": [
    "### Example: Show Feature Definition File"
   ]
  },
  {
   "cell_type": "code",
   "execution_count": 14,
   "metadata": {
    "tags": []
   },
   "outputs": [
    {
     "data": {
      "text/html": [
       "<div style=\"margin:30px; padding: 20px; border:1px solid #aaa\"><div class=\"highlight\"><pre style=\"line-height: 125%;\"><span></span><span style=\"color: #3D7B7B; font-style: italic\"># Generated by SDK version: 0.2.2</span>\n",
       "<span style=\"color: #008000; font-weight: bold\">from</span> <span style=\"color: #0000FF; font-weight: bold\">bson</span> <span style=\"color: #008000; font-weight: bold\">import</span> ObjectId\n",
       "<span style=\"color: #008000; font-weight: bold\">from</span> <span style=\"color: #0000FF; font-weight: bold\">featurebyte</span> <span style=\"color: #008000; font-weight: bold\">import</span> FeatureJobSetting\n",
       "<span style=\"color: #008000; font-weight: bold\">from</span> <span style=\"color: #0000FF; font-weight: bold\">featurebyte</span> <span style=\"color: #008000; font-weight: bold\">import</span> ItemTable\n",
       "\n",
       "\n",
       "<span style=\"color: #3D7B7B; font-style: italic\"># item_table name: &quot;INVOICEITEMS&quot;, event_table name: &quot;GROCERYINVOICE&quot;</span>\n",
       "item_table <span style=\"color: #666666\">=</span> ItemTable<span style=\"color: #666666\">.</span>get_by_id(ObjectId(<span style=\"color: #BA2121\">&quot;645c4f991799f9191001536a&quot;</span>))\n",
       "item_view <span style=\"color: #666666\">=</span> item_table<span style=\"color: #666666\">.</span>get_view(\n",
       "    event_suffix<span style=\"color: #666666\">=</span><span style=\"color: #008000; font-weight: bold\">None</span>,\n",
       "    view_mode<span style=\"color: #666666\">=</span><span style=\"color: #BA2121\">&quot;manual&quot;</span>,\n",
       "    drop_column_names<span style=\"color: #666666\">=</span>[],\n",
       "    column_cleaning_operations<span style=\"color: #666666\">=</span>[],\n",
       "    event_drop_column_names<span style=\"color: #666666\">=</span>[<span style=\"color: #BA2121\">&quot;record_available_at&quot;</span>],\n",
       "    event_column_cleaning_operations<span style=\"color: #666666\">=</span>[],\n",
       "    event_join_column_names<span style=\"color: #666666\">=</span>[\n",
       "        <span style=\"color: #BA2121\">&quot;Timestamp&quot;</span>,\n",
       "        <span style=\"color: #BA2121\">&quot;GroceryInvoiceGuid&quot;</span>,\n",
       "        <span style=\"color: #BA2121\">&quot;GroceryCustomerGuid&quot;</span>,\n",
       "        <span style=\"color: #BA2121\">&quot;tz_offset&quot;</span>,\n",
       "    ],\n",
       ")\n",
       "grouped <span style=\"color: #666666\">=</span> item_view<span style=\"color: #666666\">.</span>groupby(\n",
       "    by_keys<span style=\"color: #666666\">=</span>[<span style=\"color: #BA2121\">&quot;GroceryCustomerGuid&quot;</span>], category<span style=\"color: #666666\">=</span><span style=\"color: #BA2121\">&quot;GroceryProductGuid&quot;</span>\n",
       ")<span style=\"color: #666666\">.</span>aggregate_over(\n",
       "    value_column<span style=\"color: #666666\">=</span><span style=\"color: #008000; font-weight: bold\">None</span>,\n",
       "    method<span style=\"color: #666666\">=</span><span style=\"color: #BA2121\">&quot;count&quot;</span>,\n",
       "    windows<span style=\"color: #666666\">=</span>[<span style=\"color: #BA2121\">&quot;28d&quot;</span>],\n",
       "    feature_names<span style=\"color: #666666\">=</span>[<span style=\"color: #BA2121\">&quot;CustomerInventory_28d&quot;</span>],\n",
       "    feature_job_setting<span style=\"color: #666666\">=</span>FeatureJobSetting(\n",
       "        blind_spot<span style=\"color: #666666\">=</span><span style=\"color: #BA2121\">&quot;0s&quot;</span>, frequency<span style=\"color: #666666\">=</span><span style=\"color: #BA2121\">&quot;3600s&quot;</span>, time_modulo_frequency<span style=\"color: #666666\">=</span><span style=\"color: #BA2121\">&quot;90s&quot;</span>\n",
       "    ),\n",
       "    skip_fill_na<span style=\"color: #666666\">=</span><span style=\"color: #008000; font-weight: bold\">True</span>,\n",
       ")\n",
       "feat <span style=\"color: #666666\">=</span> grouped[<span style=\"color: #BA2121\">&quot;CustomerInventory_28d&quot;</span>]\n",
       "feat_1 <span style=\"color: #666666\">=</span> feat<span style=\"color: #666666\">.</span>cd<span style=\"color: #666666\">.</span>entropy()\n",
       "feat_1<span style=\"color: #666666\">.</span>name <span style=\"color: #666666\">=</span> <span style=\"color: #BA2121\">&quot;CustomerPurchasedItemsEntropy_28d&quot;</span>\n",
       "output <span style=\"color: #666666\">=</span> feat_1\n",
       "</pre></div>\n",
       "</div>"
      ],
      "text/plain": [
       "'# Generated by SDK version: 0.2.2\\nfrom bson import ObjectId\\nfrom featurebyte import FeatureJobSetting\\nfrom featurebyte import ItemTable\\n\\n\\n# item_table name: \"INVOICEITEMS\", event_table name: \"GROCERYINVOICE\"\\nitem_table = ItemTable.get_by_id(ObjectId(\"645c4f991799f9191001536a\"))\\nitem_view = item_table.get_view(\\n    event_suffix=None,\\n    view_mode=\"manual\",\\n    drop_column_names=[],\\n    column_cleaning_operations=[],\\n    event_drop_column_names=[\"record_available_at\"],\\n    event_column_cleaning_operations=[],\\n    event_join_column_names=[\\n        \"Timestamp\",\\n        \"GroceryInvoiceGuid\",\\n        \"GroceryCustomerGuid\",\\n        \"tz_offset\",\\n    ],\\n)\\ngrouped = item_view.groupby(\\n    by_keys=[\"GroceryCustomerGuid\"], category=\"GroceryProductGuid\"\\n).aggregate_over(\\n    value_column=None,\\n    method=\"count\",\\n    windows=[\"28d\"],\\n    feature_names=[\"CustomerInventory_28d\"],\\n    feature_job_setting=FeatureJobSetting(\\n        blind_spot=\"0s\", frequency=\"3600s\", time_modulo_frequency=\"90s\"\\n    ),\\n    skip_fill_na=True,\\n)\\nfeat = grouped[\"CustomerInventory_28d\"]\\nfeat_1 = feat.cd.entropy()\\nfeat_1.name = \"CustomerPurchasedItemsEntropy_28d\"\\noutput = feat_1\\n'"
      ]
     },
     "metadata": {},
     "output_type": "display_data"
    }
   ],
   "source": [
    "# display the feature lineage for the feature we just loaded from the Catalog\n",
    "display(customer_purchased_items_entropy_28days.definition)"
   ]
  },
  {
   "cell_type": "markdown",
   "metadata": {},
   "source": [
    "## Create a Feature List\n",
    "\n",
    "Learning Objectives\n",
    "\n",
    "In this section you will learn:\n",
    "* how to create a feature list\n",
    "* how to save a feature list"
   ]
  },
  {
   "cell_type": "markdown",
   "metadata": {},
   "source": [
    "### Concept: Feature list\n",
    "\n",
    "A FeatureList object is a collection of Feature objects that is tailored to meet the needs of a particular use case. It is commonly used in generating feature values for Machine Learning training and inference.\n",
    "\n",
    "The primary entity of a feature list determines the entities that can be used to serve the feature list, which typically corresponds to the primary entity of the Use Case that the feature list was created for. Nevertheless, if there is a mismatch, the serving entities of the Feature List are utilized to evaluate its compatibility with the Use Case."
   ]
  },
  {
   "cell_type": "markdown",
   "metadata": {},
   "source": [
    "### Example: Create a feature list"
   ]
  },
  {
   "cell_type": "code",
   "execution_count": 15,
   "metadata": {
    "tags": []
   },
   "outputs": [
    {
     "data": {
      "text/html": [
       "<div>\n",
       "<style scoped>\n",
       "    .dataframe tbody tr th:only-of-type {\n",
       "        vertical-align: middle;\n",
       "    }\n",
       "\n",
       "    .dataframe tbody tr th {\n",
       "        vertical-align: top;\n",
       "    }\n",
       "\n",
       "    .dataframe thead th {\n",
       "        text-align: right;\n",
       "    }\n",
       "</style>\n",
       "<table border=\"1\" class=\"dataframe\">\n",
       "  <thead>\n",
       "    <tr style=\"text-align: right;\">\n",
       "      <th></th>\n",
       "      <th>GROCERYCUSTOMERGUID</th>\n",
       "      <th>POINT_IN_TIME</th>\n",
       "      <th>OperatingSystem</th>\n",
       "      <th>MaxDiscount_30days</th>\n",
       "      <th>MaxDiscount_90days</th>\n",
       "      <th>CustomerPurchasedItemsEntropy_28d</th>\n",
       "    </tr>\n",
       "  </thead>\n",
       "  <tbody>\n",
       "    <tr>\n",
       "      <th>0</th>\n",
       "      <td>d2fc87d2-3584-4c8f-9359-b3ff10b5dc09</td>\n",
       "      <td>2022-12-26 16:29:21</td>\n",
       "      <td>Mac</td>\n",
       "      <td>0.000000</td>\n",
       "      <td>32.432432</td>\n",
       "      <td>0.693147</td>\n",
       "    </tr>\n",
       "    <tr>\n",
       "      <th>1</th>\n",
       "      <td>c22fa3eb-55a5-4a4f-9301-38f6b6f0567e</td>\n",
       "      <td>2022-06-23 18:24:52</td>\n",
       "      <td>Windows</td>\n",
       "      <td>61.240310</td>\n",
       "      <td>61.240310</td>\n",
       "      <td>4.514529</td>\n",
       "    </tr>\n",
       "    <tr>\n",
       "      <th>2</th>\n",
       "      <td>e034e01c-50de-42f0-a879-82c093af5f49</td>\n",
       "      <td>2022-12-19 15:49:29</td>\n",
       "      <td>Windows</td>\n",
       "      <td>48.586118</td>\n",
       "      <td>55.183946</td>\n",
       "      <td>2.197225</td>\n",
       "    </tr>\n",
       "    <tr>\n",
       "      <th>3</th>\n",
       "      <td>7a1bc5dc-e198-419e-b972-0abbdf8903c1</td>\n",
       "      <td>2022-02-13 16:52:33</td>\n",
       "      <td>Unknown</td>\n",
       "      <td>61.389961</td>\n",
       "      <td>61.389961</td>\n",
       "      <td>4.135951</td>\n",
       "    </tr>\n",
       "    <tr>\n",
       "      <th>4</th>\n",
       "      <td>38244c7f-6cc5-42fb-a959-5877bb217455</td>\n",
       "      <td>2022-10-26 17:18:43</td>\n",
       "      <td>Windows</td>\n",
       "      <td>41.860465</td>\n",
       "      <td>41.860465</td>\n",
       "      <td>3.485587</td>\n",
       "    </tr>\n",
       "  </tbody>\n",
       "</table>\n",
       "</div>"
      ],
      "text/plain": [
       "                    GROCERYCUSTOMERGUID       POINT_IN_TIME OperatingSystem  \\\n",
       "0  d2fc87d2-3584-4c8f-9359-b3ff10b5dc09 2022-12-26 16:29:21             Mac   \n",
       "1  c22fa3eb-55a5-4a4f-9301-38f6b6f0567e 2022-06-23 18:24:52         Windows   \n",
       "2  e034e01c-50de-42f0-a879-82c093af5f49 2022-12-19 15:49:29         Windows   \n",
       "3  7a1bc5dc-e198-419e-b972-0abbdf8903c1 2022-02-13 16:52:33         Unknown   \n",
       "4  38244c7f-6cc5-42fb-a959-5877bb217455 2022-10-26 17:18:43         Windows   \n",
       "\n",
       "   MaxDiscount_30days  MaxDiscount_90days  CustomerPurchasedItemsEntropy_28d  \n",
       "0            0.000000           32.432432                           0.693147  \n",
       "1           61.240310           61.240310                           4.514529  \n",
       "2           48.586118           55.183946                           2.197225  \n",
       "3           61.389961           61.389961                           4.135951  \n",
       "4           41.860465           41.860465                           3.485587  "
      ]
     },
     "metadata": {},
     "output_type": "display_data"
    }
   ],
   "source": [
    "# feature list can be constructed from both features and feature groups\n",
    "grocery_features = fb.FeatureList(\n",
    "    [\n",
    "        customer_operating_system,\n",
    "        customer_max_percent_discount,\n",
    "        customer_purchased_items_entropy_28days,\n",
    "    ],\n",
    "    name=\"quick_start_grocery_features\",\n",
    ")\n",
    "\n",
    "# materialize the feature values for this feature list\n",
    "display(grocery_features.preview(observation_set))"
   ]
  },
  {
   "cell_type": "markdown",
   "metadata": {},
   "source": [
    "### Example: Save a feature list"
   ]
  },
  {
   "cell_type": "code",
   "execution_count": 16,
   "metadata": {
    "tags": []
   },
   "outputs": [
    {
     "name": "stdout",
     "output_type": "stream",
     "text": [
      "Saving Feature(s) |████████████████████████████████████████| 4/4 [100%] in 2.7s \n",
      "Loading Feature(s) |████████████████████████████████████████| 4/4 [100%] in 1.3s\n"
     ]
    },
    {
     "data": {
      "text/html": [
       "<div>\n",
       "<style scoped>\n",
       "    .dataframe tbody tr th:only-of-type {\n",
       "        vertical-align: middle;\n",
       "    }\n",
       "\n",
       "    .dataframe tbody tr th {\n",
       "        vertical-align: top;\n",
       "    }\n",
       "\n",
       "    .dataframe thead th {\n",
       "        text-align: right;\n",
       "    }\n",
       "</style>\n",
       "<table border=\"1\" class=\"dataframe\">\n",
       "  <thead>\n",
       "    <tr style=\"text-align: right;\">\n",
       "      <th></th>\n",
       "      <th>id</th>\n",
       "      <th>name</th>\n",
       "      <th>num_feature</th>\n",
       "      <th>status</th>\n",
       "      <th>deployed</th>\n",
       "      <th>readiness_frac</th>\n",
       "      <th>online_frac</th>\n",
       "      <th>tables</th>\n",
       "      <th>entities</th>\n",
       "      <th>created_at</th>\n",
       "    </tr>\n",
       "  </thead>\n",
       "  <tbody>\n",
       "    <tr>\n",
       "      <th>0</th>\n",
       "      <td>645c4fc01799f91910015384</td>\n",
       "      <td>quick_start_grocery_features</td>\n",
       "      <td>4</td>\n",
       "      <td>DRAFT</td>\n",
       "      <td>False</td>\n",
       "      <td>0.0</td>\n",
       "      <td>0.0</td>\n",
       "      <td>[GROCERYCUSTOMER, GROCERYINVOICE, INVOICEITEMS]</td>\n",
       "      <td>[grocerycustomer]</td>\n",
       "      <td>2023-05-11 02:15:38.523</td>\n",
       "    </tr>\n",
       "  </tbody>\n",
       "</table>\n",
       "</div>"
      ],
      "text/plain": [
       "                         id                          name  num_feature status  \\\n",
       "0  645c4fc01799f91910015384  quick_start_grocery_features            4  DRAFT   \n",
       "\n",
       "   deployed  readiness_frac  online_frac  \\\n",
       "0     False             0.0          0.0   \n",
       "\n",
       "                                            tables           entities  \\\n",
       "0  [GROCERYCUSTOMER, GROCERYINVOICE, INVOICEITEMS]  [grocerycustomer]   \n",
       "\n",
       "               created_at  \n",
       "0 2023-05-11 02:15:38.523  "
      ]
     },
     "metadata": {},
     "output_type": "display_data"
    }
   ],
   "source": [
    "# save the feature list to the Catalog\n",
    "grocery_features.save()\n",
    "\n",
    "display(catalog.list_feature_lists())"
   ]
  },
  {
   "cell_type": "code",
   "execution_count": 17,
   "metadata": {
    "tags": []
   },
   "outputs": [
    {
     "data": {
      "text/html": [
       "<div>\n",
       "<style scoped>\n",
       "    .dataframe tbody tr th:only-of-type {\n",
       "        vertical-align: middle;\n",
       "    }\n",
       "\n",
       "    .dataframe tbody tr th {\n",
       "        vertical-align: top;\n",
       "    }\n",
       "\n",
       "    .dataframe thead th {\n",
       "        text-align: right;\n",
       "    }\n",
       "</style>\n",
       "<table border=\"1\" class=\"dataframe\">\n",
       "  <thead>\n",
       "    <tr style=\"text-align: right;\">\n",
       "      <th></th>\n",
       "      <th>id</th>\n",
       "      <th>name</th>\n",
       "      <th>num_feature</th>\n",
       "      <th>status</th>\n",
       "      <th>deployed</th>\n",
       "      <th>readiness_frac</th>\n",
       "      <th>online_frac</th>\n",
       "      <th>tables</th>\n",
       "      <th>entities</th>\n",
       "      <th>created_at</th>\n",
       "    </tr>\n",
       "  </thead>\n",
       "  <tbody>\n",
       "    <tr>\n",
       "      <th>0</th>\n",
       "      <td>645c4fc01799f91910015384</td>\n",
       "      <td>quick_start_grocery_features</td>\n",
       "      <td>4</td>\n",
       "      <td>DRAFT</td>\n",
       "      <td>False</td>\n",
       "      <td>0.0</td>\n",
       "      <td>0.0</td>\n",
       "      <td>[GROCERYCUSTOMER, GROCERYINVOICE, INVOICEITEMS]</td>\n",
       "      <td>[grocerycustomer]</td>\n",
       "      <td>2023-05-11 02:15:38.523</td>\n",
       "    </tr>\n",
       "  </tbody>\n",
       "</table>\n",
       "</div>"
      ],
      "text/plain": [
       "                         id                          name  num_feature status  \\\n",
       "0  645c4fc01799f91910015384  quick_start_grocery_features            4  DRAFT   \n",
       "\n",
       "   deployed  readiness_frac  online_frac  \\\n",
       "0     False             0.0          0.0   \n",
       "\n",
       "                                            tables           entities  \\\n",
       "0  [GROCERYCUSTOMER, GROCERYINVOICE, INVOICEITEMS]  [grocerycustomer]   \n",
       "\n",
       "               created_at  \n",
       "0 2023-05-11 02:15:38.523  "
      ]
     },
     "metadata": {},
     "output_type": "display_data"
    }
   ],
   "source": [
    "# show the feature list in the Catalog\n",
    "\n",
    "# get all feature lists\n",
    "all_feature_lists = catalog.list_feature_lists()\n",
    "\n",
    "# display the metadata for the feature list we just saved\n",
    "# display only the matching feature list\n",
    "display(all_feature_lists[all_feature_lists.name == grocery_features.name])"
   ]
  },
  {
   "cell_type": "markdown",
   "metadata": {},
   "source": [
    "## Materialize Feature Values\n",
    "\n",
    "Learning Objectives\n",
    "\n",
    "In this section you will learn:\n",
    "* how to get historical values for a feature list\n",
    "* how to deploy a feature list\n",
    "* how to consume features via the API\n",
    "* how to disable a deployed feature list"
   ]
  },
  {
   "cell_type": "markdown",
   "metadata": {},
   "source": [
    "### Example: Get historical features\n",
    "\n",
    "While the preview function materializes feature values when prototyping, the scalable approach to materialize features for training data is to use the get_historical_features function, which accesses cached feature values from the feature store."
   ]
  },
  {
   "cell_type": "code",
   "execution_count": 18,
   "metadata": {
    "tags": []
   },
   "outputs": [
    {
     "name": "stdout",
     "output_type": "stream",
     "text": [
      "Retrieving Historical Feature(s) |████████████████████████████████████████| 1/1 \n"
     ]
    },
    {
     "data": {
      "text/html": [
       "<div>\n",
       "<style scoped>\n",
       "    .dataframe tbody tr th:only-of-type {\n",
       "        vertical-align: middle;\n",
       "    }\n",
       "\n",
       "    .dataframe tbody tr th {\n",
       "        vertical-align: top;\n",
       "    }\n",
       "\n",
       "    .dataframe thead th {\n",
       "        text-align: right;\n",
       "    }\n",
       "</style>\n",
       "<table border=\"1\" class=\"dataframe\">\n",
       "  <thead>\n",
       "    <tr style=\"text-align: right;\">\n",
       "      <th></th>\n",
       "      <th>GROCERYCUSTOMERGUID</th>\n",
       "      <th>POINT_IN_TIME</th>\n",
       "      <th>MaxDiscount_90days</th>\n",
       "      <th>MaxDiscount_30days</th>\n",
       "      <th>OperatingSystem</th>\n",
       "      <th>CustomerPurchasedItemsEntropy_28d</th>\n",
       "    </tr>\n",
       "  </thead>\n",
       "  <tbody>\n",
       "    <tr>\n",
       "      <th>0</th>\n",
       "      <td>d2fc87d2-3584-4c8f-9359-b3ff10b5dc09</td>\n",
       "      <td>2022-12-26 16:29:21</td>\n",
       "      <td>32.432432</td>\n",
       "      <td>-0.000000</td>\n",
       "      <td>Mac</td>\n",
       "      <td>0.693147</td>\n",
       "    </tr>\n",
       "    <tr>\n",
       "      <th>1</th>\n",
       "      <td>c22fa3eb-55a5-4a4f-9301-38f6b6f0567e</td>\n",
       "      <td>2022-06-23 18:24:52</td>\n",
       "      <td>61.240310</td>\n",
       "      <td>61.240310</td>\n",
       "      <td>Windows</td>\n",
       "      <td>4.514529</td>\n",
       "    </tr>\n",
       "    <tr>\n",
       "      <th>2</th>\n",
       "      <td>e034e01c-50de-42f0-a879-82c093af5f49</td>\n",
       "      <td>2022-12-19 15:49:29</td>\n",
       "      <td>55.183946</td>\n",
       "      <td>48.586118</td>\n",
       "      <td>Windows</td>\n",
       "      <td>2.197225</td>\n",
       "    </tr>\n",
       "    <tr>\n",
       "      <th>3</th>\n",
       "      <td>7a1bc5dc-e198-419e-b972-0abbdf8903c1</td>\n",
       "      <td>2022-02-13 16:52:33</td>\n",
       "      <td>61.389961</td>\n",
       "      <td>61.389961</td>\n",
       "      <td>Unknown</td>\n",
       "      <td>4.135951</td>\n",
       "    </tr>\n",
       "    <tr>\n",
       "      <th>4</th>\n",
       "      <td>38244c7f-6cc5-42fb-a959-5877bb217455</td>\n",
       "      <td>2022-10-26 17:18:43</td>\n",
       "      <td>41.860465</td>\n",
       "      <td>41.860465</td>\n",
       "      <td>Windows</td>\n",
       "      <td>3.485587</td>\n",
       "    </tr>\n",
       "  </tbody>\n",
       "</table>\n",
       "</div>"
      ],
      "text/plain": [
       "                    GROCERYCUSTOMERGUID       POINT_IN_TIME  \\\n",
       "0  d2fc87d2-3584-4c8f-9359-b3ff10b5dc09 2022-12-26 16:29:21   \n",
       "1  c22fa3eb-55a5-4a4f-9301-38f6b6f0567e 2022-06-23 18:24:52   \n",
       "2  e034e01c-50de-42f0-a879-82c093af5f49 2022-12-19 15:49:29   \n",
       "3  7a1bc5dc-e198-419e-b972-0abbdf8903c1 2022-02-13 16:52:33   \n",
       "4  38244c7f-6cc5-42fb-a959-5877bb217455 2022-10-26 17:18:43   \n",
       "\n",
       "   MaxDiscount_90days  MaxDiscount_30days OperatingSystem  \\\n",
       "0           32.432432           -0.000000             Mac   \n",
       "1           61.240310           61.240310         Windows   \n",
       "2           55.183946           48.586118         Windows   \n",
       "3           61.389961           61.389961         Unknown   \n",
       "4           41.860465           41.860465         Windows   \n",
       "\n",
       "   CustomerPurchasedItemsEntropy_28d  \n",
       "0                           0.693147  \n",
       "1                           4.514529  \n",
       "2                           2.197225  \n",
       "3                           4.135951  \n",
       "4                           3.485587  "
      ]
     },
     "metadata": {},
     "output_type": "display_data"
    }
   ],
   "source": [
    "# materialize the values\n",
    "historical_data = grocery_features.compute_historical_features(observation_set)\n",
    "\n",
    "# display the historical data\n",
    "display(historical_data)"
   ]
  },
  {
   "cell_type": "markdown",
   "metadata": {},
   "source": [
    "### Example: Deploy a feature list\n",
    "\n",
    "A Feature List is deployed to support online serving. This triggers the orchestration of the feature materialization into the online feature store"
   ]
  },
  {
   "cell_type": "code",
   "execution_count": 19,
   "metadata": {
    "tags": []
   },
   "outputs": [
    {
     "name": "stdout",
     "output_type": "stream",
     "text": [
      "Loading Feature(s) |████████████████████████████████████████| 4/4 [100%] in 1.3s\n",
      "Done! |████████████████████████████████████████| 100% in 6.0s (0.17%/s)         \n",
      "Done! |████████████████████████████████████████| 100% in 1:30.5 (0.01%/s)       \n"
     ]
    }
   ],
   "source": [
    "# deploy the new feature list, setting all the features to be production ready\n",
    "deployment = grocery_features.deploy(make_production_ready=True)\n",
    "deployment.enable()"
   ]
  },
  {
   "cell_type": "markdown",
   "metadata": {},
   "source": [
    "### Example: Consume features via API\n",
    "\n",
    "Once a feature list has been deployed, you can consume it via the feature serving API.\n",
    "\n",
    "You can either use a python template or a shell script where the generated code will use the curl command to send the request.\n",
    "\n",
    "For the python template, set the language parameter value as 'python'.\n",
    "For the shell script, set the language parameter value as 'sh'."
   ]
  },
  {
   "cell_type": "code",
   "execution_count": 20,
   "metadata": {
    "tags": []
   },
   "outputs": [
    {
     "name": "stdout",
     "output_type": "stream",
     "text": [
      "Loading Feature(s) |████████████████████████████████████████| 4/4 [100%] in 1.3s\n"
     ]
    },
    {
     "data": {
      "text/html": [
       "<div style=\"margin:30px; padding: 20px; border:1px solid #aaa\"><div class=\"highlight\"><pre style=\"line-height: 125%;\"><span></span><span style=\"color: #008000; font-weight: bold\">from</span> <span style=\"color: #0000FF; font-weight: bold\">typing</span> <span style=\"color: #008000; font-weight: bold\">import</span> Any, Dict\n",
       "\n",
       "<span style=\"color: #008000; font-weight: bold\">import</span> <span style=\"color: #0000FF; font-weight: bold\">pandas</span> <span style=\"color: #008000; font-weight: bold\">as</span> <span style=\"color: #0000FF; font-weight: bold\">pd</span>\n",
       "<span style=\"color: #008000; font-weight: bold\">import</span> <span style=\"color: #0000FF; font-weight: bold\">requests</span>\n",
       "\n",
       "\n",
       "<span style=\"color: #008000; font-weight: bold\">def</span> <span style=\"color: #0000FF\">request_features</span>(entity_serving_names: Dict[<span style=\"color: #008000\">str</span>, Any]) <span style=\"color: #666666\">-&gt;</span> pd<span style=\"color: #666666\">.</span>DataFrame:\n",
       "<span style=\"color: #bbbbbb\">    </span><span style=\"color: #BA2121; font-style: italic\">&quot;&quot;&quot;</span>\n",
       "<span style=\"color: #BA2121; font-style: italic\">    Send POST request to online serving endpoint</span>\n",
       "\n",
       "<span style=\"color: #BA2121; font-style: italic\">    Parameters</span>\n",
       "<span style=\"color: #BA2121; font-style: italic\">    ----------</span>\n",
       "<span style=\"color: #BA2121; font-style: italic\">    entity_serving_names: Dict[str, Any]</span>\n",
       "<span style=\"color: #BA2121; font-style: italic\">        Entity serving name values to used for serving request</span>\n",
       "\n",
       "<span style=\"color: #BA2121; font-style: italic\">    Returns</span>\n",
       "<span style=\"color: #BA2121; font-style: italic\">    -------</span>\n",
       "<span style=\"color: #BA2121; font-style: italic\">    pd.DataFrame</span>\n",
       "<span style=\"color: #BA2121; font-style: italic\">    &quot;&quot;&quot;</span>\n",
       "    response <span style=\"color: #666666\">=</span> requests<span style=\"color: #666666\">.</span>post(\n",
       "        url<span style=\"color: #666666\">=</span><span style=\"color: #BA2121\">&quot;http://127.0.0.1:8088/deployment/645c4fe91799f91910015388/online_features&quot;</span>,\n",
       "        headers<span style=\"color: #666666\">=</span>{<span style=\"color: #BA2121\">&quot;Content-Type&quot;</span>: <span style=\"color: #BA2121\">&quot;application/json&quot;</span>, <span style=\"color: #BA2121\">&quot;active-catalog-id&quot;</span>: <span style=\"color: #BA2121\">&quot;645c4f931799f91910015367&quot;</span>},\n",
       "        json<span style=\"color: #666666\">=</span>{<span style=\"color: #BA2121\">&quot;entity_serving_names&quot;</span>: entity_serving_names},\n",
       "    )\n",
       "    <span style=\"color: #008000; font-weight: bold\">assert</span> response<span style=\"color: #666666\">.</span>status_code <span style=\"color: #666666\">==</span> <span style=\"color: #666666\">200</span>, response<span style=\"color: #666666\">.</span>json()\n",
       "    <span style=\"color: #008000; font-weight: bold\">return</span> pd<span style=\"color: #666666\">.</span>DataFrame<span style=\"color: #666666\">.</span>from_dict(response<span style=\"color: #666666\">.</span>json()[<span style=\"color: #BA2121\">&quot;features&quot;</span>])\n",
       "\n",
       "\n",
       "request_features([{<span style=\"color: #BA2121\">&quot;GROCERYCUSTOMERGUID&quot;</span>: <span style=\"color: #BA2121\">&quot;0041bdff-4917-42d5-bd6d-5a555ac616c5&quot;</span>}])\n",
       "</pre></div>\n",
       "</div>"
      ],
      "text/plain": [
       "'from typing import Any, Dict\\n\\nimport pandas as pd\\nimport requests\\n\\n\\ndef request_features(entity_serving_names: Dict[str, Any]) -> pd.DataFrame:\\n    \"\"\"\\n    Send POST request to online serving endpoint\\n\\n    Parameters\\n    ----------\\n    entity_serving_names: Dict[str, Any]\\n        Entity serving name values to used for serving request\\n\\n    Returns\\n    -------\\n    pd.DataFrame\\n    \"\"\"\\n    response = requests.post(\\n        url=\"http://127.0.0.1:8088/deployment/645c4fe91799f91910015388/online_features\",\\n        headers={\"Content-Type\": \"application/json\", \"active-catalog-id\": \"645c4f931799f91910015367\"},\\n        json={\"entity_serving_names\": entity_serving_names},\\n    )\\n    assert response.status_code == 200, response.json()\\n    return pd.DataFrame.from_dict(response.json()[\"features\"])\\n\\n\\nrequest_features([{\"GROCERYCUSTOMERGUID\": \"0041bdff-4917-42d5-bd6d-5a555ac616c5\"}])'"
      ]
     },
     "execution_count": 20,
     "metadata": {},
     "output_type": "execute_result"
    }
   ],
   "source": [
    "# get a python template for consuming the feature serving API\n",
    "deployment.get_online_serving_code(language=\"python\")"
   ]
  },
  {
   "cell_type": "markdown",
   "metadata": {},
   "source": [
    "Paste the output from the previous notebook cell into the following Python cell and run it. Note that in production there is no historical point_in_time parameter for materializing features."
   ]
  },
  {
   "cell_type": "code",
   "execution_count": 21,
   "metadata": {
    "tags": []
   },
   "outputs": [],
   "source": [
    "# paste generated Python code here"
   ]
  },
  {
   "cell_type": "markdown",
   "metadata": {},
   "source": [
    "### Example: Disable a deployment"
   ]
  },
  {
   "cell_type": "code",
   "execution_count": 22,
   "metadata": {
    "tags": []
   },
   "outputs": [
    {
     "name": "stdout",
     "output_type": "stream",
     "text": [
      "Done! |████████████████████████████████████████| 100% in 21.1s (0.05%/s)        \n"
     ]
    },
    {
     "data": {
      "text/html": [
       "<div>\n",
       "<style scoped>\n",
       "    .dataframe tbody tr th:only-of-type {\n",
       "        vertical-align: middle;\n",
       "    }\n",
       "\n",
       "    .dataframe tbody tr th {\n",
       "        vertical-align: top;\n",
       "    }\n",
       "\n",
       "    .dataframe thead th {\n",
       "        text-align: right;\n",
       "    }\n",
       "</style>\n",
       "<table border=\"1\" class=\"dataframe\">\n",
       "  <thead>\n",
       "    <tr style=\"text-align: right;\">\n",
       "      <th></th>\n",
       "      <th>id</th>\n",
       "      <th>name</th>\n",
       "      <th>num_feature</th>\n",
       "      <th>status</th>\n",
       "      <th>deployed</th>\n",
       "      <th>readiness_frac</th>\n",
       "      <th>online_frac</th>\n",
       "      <th>tables</th>\n",
       "      <th>entities</th>\n",
       "      <th>created_at</th>\n",
       "    </tr>\n",
       "  </thead>\n",
       "  <tbody>\n",
       "  </tbody>\n",
       "</table>\n",
       "</div>"
      ],
      "text/plain": [
       "Empty DataFrame\n",
       "Columns: [id, name, num_feature, status, deployed, readiness_frac, online_frac, tables, entities, created_at]\n",
       "Index: []"
      ]
     },
     "metadata": {},
     "output_type": "display_data"
    }
   ],
   "source": [
    "# disable the feature list deployment\n",
    "deployment.disable()\n",
    "\n",
    "# show the deployed feature lists\n",
    "feature_lists = catalog.list_feature_lists()\n",
    "feature_lists = feature_lists[feature_lists.deployed == True]\n",
    "display(feature_lists)"
   ]
  },
  {
   "cell_type": "markdown",
   "metadata": {},
   "source": [
    "## Next Steps\n",
    "\n",
    "Now that you've completed the quick-start feature engineering tutorial, you can put your knowledge into practice or learn more:<br>\n",
    "1. Put your knowledge into practice by creating features in the \"credit card dataset feature engineering playground\" or \"healthcare dataset feature engineering playground\" catalogs\n",
    "2. Learn more about feature engineering via the \"Deep Dive Feature Engineering\" tutorial\n",
    "3. Learn about data modeling via the \"Deep Dive Data Modeling\" tutorial"
   ]
  }
 ],
 "metadata": {
  "kernelspec": {
   "display_name": "Python 3 (ipykernel)",
   "language": "python",
   "name": "python3"
  },
  "language_info": {
   "codemirror_mode": {
    "name": "ipython",
    "version": 3
   },
   "file_extension": ".py",
   "mimetype": "text/x-python",
   "name": "python",
   "nbconvert_exporter": "python",
   "pygments_lexer": "ipython3",
   "version": "3.10.6"
  }
 },
 "nbformat": 4,
 "nbformat_minor": 4
}
