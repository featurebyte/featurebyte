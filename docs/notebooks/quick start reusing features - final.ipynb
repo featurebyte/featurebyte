{
 "cells": [
  {
   "cell_type": "markdown",
   "metadata": {},
   "source": [
    "# Quick Start Tutorial: Reusing Features"
   ]
  },
  {
   "cell_type": "markdown",
   "metadata": {},
   "source": [
    "## Learning Objectives\n",
    "\n",
    "In this tutorial you will learn:\n",
    "1. How to access catalogs of data, entities, features, and feature lists\n",
    "2. How to search for features suitable for the unit of analysis\n",
    "3. How to understand an existing feature\n",
    "4. How to create new features from existing features\n",
    "5. How to create a new feature list from existing features"
   ]
  },
  {
   "cell_type": "markdown",
   "metadata": {},
   "source": [
    "## Set up the prerequisites\n",
    "\n",
    "Learning Objectives\n",
    "\n",
    "In this section you will:\n",
    "* start your local featurebyte server\n",
    "* import libraries\n",
    "* learn the about catalogs\n",
    "* activate a pre-built catalog"
   ]
  },
  {
   "cell_type": "markdown",
   "metadata": {},
   "source": [
    "### Load the featurebyte library and connect to the local instance of featurebyte"
   ]
  },
  {
   "cell_type": "code",
   "execution_count": 1,
   "metadata": {
    "scrolled": true,
    "tags": []
   },
   "source": [
    "# library imports\n",
    "import pandas as pd\n",
    "import numpy as np\n",
    "import random\n",
    "\n",
    "# load the featurebyte SDK\n",
    "import featurebyte as fb\n",
    "\n",
    "# start the local server, then wait for it to be healthy before proceeding\n",
    "fb.playground()"
   ],
   "outputs": []
  },
  {
   "cell_type": "markdown",
   "metadata": {},
   "source": [
    "### Create a pre-built catalog for this tutorial, with the data, metadata, and features already set up\n",
    "\n",
    "Note that creating a pre-built catalog is not a step you will do in real-life. This is a function specific to this quick-start tutorial to quickly skip over many of the preparatory steps and get you to a point where you can materialize features.\n",
    "\n",
    "In a real-life project you would do data modeling, declaring the tables, entities, and the associated metadata. This would not be a frequent task, but forms the basis for best-practice feature engineering."
   ]
  },
  {
   "cell_type": "code",
   "execution_count": 2,
   "metadata": {},
   "source": [
    "# get the functions to create a pre-built catalog\n",
    "from prebuilt_catalogs import *\n",
    "\n",
    "# create a new catalog for this tutorial\n",
    "catalog = create_tutorial_catalog(PrebuiltCatalog.QuickStartReusingFeatures)"
   ],
   "outputs": []
  },
  {
   "cell_type": "markdown",
   "metadata": {},
   "source": [
    "### Example: Load the tables and views"
   ]
  },
  {
   "cell_type": "code",
   "execution_count": 3,
   "metadata": {},
   "source": [
    "# get the tables for this workspace\n",
    "grocery_customer_table = catalog.get_table(\"GROCERYCUSTOMER\")\n",
    "grocery_items_table = catalog.get_table(\"INVOICEITEMS\")\n",
    "grocery_invoice_table = catalog.get_table(\"GROCERYINVOICE\")\n",
    "grocery_product_table = catalog.get_table(\"GROCERYPRODUCT\")\n",
    "\n",
    "# create the views\n",
    "grocery_customer_view = grocery_customer_table.get_view()\n",
    "grocery_invoice_view = grocery_invoice_table.get_view()\n",
    "grocery_items_view = grocery_items_table.get_view()\n",
    "grocery_product_view = grocery_product_table.get_view()"
   ],
   "outputs": []
  },
  {
   "cell_type": "markdown",
   "metadata": {},
   "source": [
    "## Accessing Catalogs\n",
    "\n",
    "Learning Objectives:\n",
    "\n",
    "In this section you will learn how to display catalogs of:\n",
    "* tables\n",
    "* entities\n",
    "* features\n",
    "* feature lists"
   ]
  },
  {
   "cell_type": "markdown",
   "metadata": {},
   "source": [
    "### Example: A catalog of tables"
   ]
  },
  {
   "cell_type": "code",
   "execution_count": 4,
   "metadata": {},
   "source": [
    "# list the tables in the catalog\n",
    "catalog.list_tables()"
   ],
   "outputs": []
  },
  {
   "cell_type": "code",
   "execution_count": 5,
   "metadata": {},
   "source": [
    "# load a table\n",
    "grocery_customer_table = catalog.get_table(\"GROCERYCUSTOMER\")\n",
    "\n",
    "# show the metadata\n",
    "grocery_customer_table.info()"
   ],
   "outputs": []
  },
  {
   "cell_type": "markdown",
   "metadata": {},
   "source": [
    "### Example: A catalog of entities"
   ]
  },
  {
   "cell_type": "code",
   "execution_count": 6,
   "metadata": {},
   "source": [
    "# list the entities in the catalog\n",
    "catalog.list_entities()"
   ],
   "outputs": []
  },
  {
   "cell_type": "code",
   "execution_count": 7,
   "metadata": {},
   "source": [
    "# list the entity relationships in the catalog\n",
    "catalog.list_relationships()"
   ],
   "outputs": []
  },
  {
   "cell_type": "code",
   "execution_count": 8,
   "metadata": {},
   "source": [
    "# load an entity\n",
    "customer_entity = catalog.get_entity(\"grocerycustomer\")\n",
    "\n",
    "# show the metadata\n",
    "customer_entity.info()"
   ],
   "outputs": []
  },
  {
   "cell_type": "markdown",
   "metadata": {},
   "source": [
    "### Example: A catalog of features"
   ]
  },
  {
   "cell_type": "code",
   "execution_count": 9,
   "metadata": {},
   "source": [
    "# list the features in the catalog\n",
    "catalog.list_features()"
   ],
   "outputs": []
  },
  {
   "cell_type": "code",
   "execution_count": 10,
   "metadata": {},
   "source": [
    "# load a feature\n",
    "state_population = catalog.get_feature(\"StatePopulation\")\n",
    "\n",
    "# show the metadata\n",
    "state_population.info()"
   ],
   "outputs": []
  },
  {
   "cell_type": "code",
   "execution_count": 11,
   "metadata": {},
   "source": [
    "# show the feature lineage for the state population feature\n",
    "display(state_population.definition)"
   ],
   "outputs": []
  },
  {
   "cell_type": "markdown",
   "metadata": {},
   "source": [
    "### Example: A catalog of feature lists"
   ]
  },
  {
   "cell_type": "code",
   "execution_count": 12,
   "metadata": {},
   "source": [
    "# list the feature lists in the catalog\n",
    "catalog.list_feature_lists()"
   ],
   "outputs": []
  },
  {
   "cell_type": "code",
   "execution_count": 13,
   "metadata": {},
   "source": [
    "# load the feature list\n",
    "state_features = catalog.get_feature_list(\"StateFeatureList\")\n",
    "\n",
    "# show the metadata\n",
    "state_features.info()"
   ],
   "outputs": []
  },
  {
   "cell_type": "code",
   "execution_count": 14,
   "metadata": {},
   "source": [
    "# list the features in the feature list\n",
    "state_features.list_features()"
   ],
   "outputs": []
  },
  {
   "cell_type": "markdown",
   "metadata": {},
   "source": [
    "## Search for Features\n",
    "\n",
    "Learning Objectives\n",
    "\n",
    "In this section, you will learn:\n",
    "* what a primary entity is\n",
    "* how to search for suitable features"
   ]
  },
  {
   "cell_type": "markdown",
   "metadata": {},
   "source": [
    "### Concept: Primary entity\n",
    "\n",
    "<b>Feature primary entity:</b> The primary entity of a feature defines the level of analysis for that feature. \n",
    "When a feature is a result of an aggregation grouped by multiple entities, the primary entity is a tuple of those entities. For instance, if a feature quantifies the interaction between a customer entity and a merchant entity in the past, such as the sum of transaction amounts grouped by customer and merchant in the past 4 weeks, the primary entity is the tuple of customer and merchant.\n",
    "\n",
    "When a feature is derived for features with different primary entities, the primary entity is determined by the entity relationships, and the lowest level entity is selected as the primary entity. If the underlying entities have no relationship, the primary entity becomes a tuple of those entities. For example, if a feature compares the basket of a customer with the average basket of customers in the same city, the primary entity is the customer since the customer entity is a child of the customer city entity. However, if the feature is the distance between the customer location and the merchant location, the primary entity becomes the tuple of customer and merchant since these entities do not have any child-parent relationship.\n",
    "\n",
    "<b>Feature List primary entity:</b> The main focus of a feature list is determined by its primary entity, which typically corresponds to the primary entity of the Use Case that the feature list was created for.\n",
    "\n",
    "If the features within the list pertain to different primary entities, the primary entity of the feature list is selected based on the entities relationships, with the lowest level entity chosen as the primary entity. In cases where there are no relationships between entities, the primary entity may become a tuple comprising those entities.\n",
    "To illustrate, consider a feature list comprising features related to card, customer, and customer city. In this case, the primary entity is the card entity since it is a child of both the customer and customer city entities. However, if the feature list also contains features for merchant and merchant city, the primary entity is a tuple of card and merchant.\n",
    "\n",
    "<b>Use Case primary entity:</b> In a Use Case, the primary entity is the object or concept that defines its problem statement. Usually, this entity is singular, but in cases such as the recommendation engine use case, it can be a tuple of entities that interact with each other."
   ]
  },
  {
   "cell_type": "markdown",
   "metadata": {},
   "source": [
    "### Case study: Predicting customer spend\n",
    "\n",
    "Consider a use case to predict customer spend. The unit of analysis and primary entity is grocery customer. You can use features with primary entities of grocery customer or french state (because state is a parent entity of customer)."
   ]
  },
  {
   "cell_type": "markdown",
   "metadata": {},
   "source": [
    "### Example: Search for suitable features"
   ]
  },
  {
   "cell_type": "code",
   "execution_count": 15,
   "metadata": {
    "tags": []
   },
   "source": [
    "# get a list of all the features in the catalog\n",
    "all_features = catalog.list_features()\n",
    "\n",
    "# filter to retain only those with grocery customer or state as their primary entity\n",
    "child_entity = \"groceryinvoice\"\n",
    "suitable_features = all_features.loc[[child_entity not in x for x in all_features.entities.values]]\n",
    "product_entity = \"groceryproduct\"\n",
    "suitable_features = suitable_features.loc[\n",
    "    [product_entity not in x for x in suitable_features.entities.values]\n",
    "]\n",
    "\n",
    "# show the features\n",
    "display(suitable_features)"
   ],
   "outputs": []
  },
  {
   "cell_type": "code",
   "execution_count": 16,
   "metadata": {},
   "source": [
    "# find suitable features that use the grocery invoice items table\n",
    "grocery_items_features = suitable_features.loc[\n",
    "    [\"INVOICEITEMS\" in x for x in suitable_features.tables.values]\n",
    "]\n",
    "\n",
    "# show the features\n",
    "display(grocery_items_features)"
   ],
   "outputs": []
  },
  {
   "cell_type": "markdown",
   "metadata": {},
   "source": [
    "## Understand an Existing feature\n",
    "\n",
    "Learning Objectives\n",
    "\n",
    "In this section you will learn how to:\n",
    "* load a feature from the catalog\n",
    "* view the metadata of a feature\n",
    "* materialize feature values\n",
    "* view feature lineage as a definition file"
   ]
  },
  {
   "cell_type": "markdown",
   "metadata": {},
   "source": [
    "### Example: Load a feature from the catalog"
   ]
  },
  {
   "cell_type": "code",
   "execution_count": 17,
   "metadata": {},
   "source": [
    "# get the CustomerInventory_28d feature\n",
    "customer_inventory_28d = catalog.get_feature(\"CustomerInventory_28d\")"
   ],
   "outputs": []
  },
  {
   "cell_type": "markdown",
   "metadata": {},
   "source": [
    "### Example: View the metadata of a feature"
   ]
  },
  {
   "cell_type": "code",
   "execution_count": 18,
   "metadata": {},
   "source": [
    "# get a list of all the features in the catalog\n",
    "all_features = catalog.list_features()\n",
    "\n",
    "# display the current feature\n",
    "display(all_features.loc[all_features.name == customer_inventory_28d.name])"
   ],
   "outputs": []
  },
  {
   "cell_type": "code",
   "execution_count": 19,
   "metadata": {},
   "source": [
    "# view the detailed metadata\n",
    "customer_inventory_28d.info()"
   ],
   "outputs": []
  },
  {
   "cell_type": "markdown",
   "metadata": {},
   "source": [
    "### Example: Materialize sample values"
   ]
  },
  {
   "cell_type": "code",
   "execution_count": 20,
   "metadata": {},
   "source": [
    "# get some invoice IDs and invoice event timestamps from Q4 2022\n",
    "filter = (grocery_invoice_view[\"Timestamp\"].dt.year == 2022) & (\n",
    "    grocery_invoice_view[\"Timestamp\"].dt.month >= 10\n",
    ")\n",
    "\n",
    "observation_set = (\n",
    "    grocery_invoice_view[filter]\n",
    "    .sample(10)[[\"GroceryCustomerGuid\", \"Timestamp\"]]\n",
    "    .rename(\n",
    "        {\n",
    "            \"Timestamp\": \"POINT_IN_TIME\",\n",
    "            \"GroceryCustomerGuid\": \"GROCERYCUSTOMERGUID\",\n",
    "        },\n",
    "        axis=1,\n",
    "    )\n",
    ")\n",
    "display(observation_set)"
   ],
   "outputs": []
  },
  {
   "cell_type": "code",
   "execution_count": 21,
   "metadata": {},
   "source": [
    "# display the feature values\n",
    "display(customer_inventory_28d.preview(observation_set))"
   ],
   "outputs": []
  },
  {
   "cell_type": "markdown",
   "metadata": {},
   "source": [
    "### Example: View the feature lineage"
   ]
  },
  {
   "cell_type": "code",
   "execution_count": 22,
   "metadata": {},
   "source": [
    "# display the feature lineage for the feature we just loaded from the feature store\n",
    "display(customer_inventory_28d.definition)"
   ],
   "outputs": []
  },
  {
   "cell_type": "markdown",
   "metadata": {},
   "source": [
    "## Create New Features from Existing Features\n",
    "\n",
    "You can use existing features as inputs to new features.\n",
    "\n",
    "Learning objectives\n",
    "\n",
    "In this section you wil learn how to:\n",
    "* create a new feature from two existing features"
   ]
  },
  {
   "cell_type": "markdown",
   "metadata": {},
   "source": [
    "### Example: Create a new similarity feature from two existing features"
   ]
  },
  {
   "cell_type": "code",
   "execution_count": 23,
   "metadata": {},
   "source": [
    "# get the StateInventory_28d feature\n",
    "state_inventory_28d = catalog.get_feature(\"StateInventory_28d\")\n",
    "\n",
    "# get the CustomerInventory_28d feature\n",
    "customer_inventory_28d = catalog.get_feature(\"CustomerInventory_28d\")\n",
    "\n",
    "# create a new feature that is the cosine similarity of the two features\n",
    "customer_state_items_similarity_28d = customer_inventory_28d.cd.cosine_similarity(\n",
    "    state_inventory_28d\n",
    ")\n",
    "customer_state_items_similarity_28d.name = \"CustomerStateItemsSimilarity_28d\"\n",
    "customer_state_items_similarity_28d.save()\n",
    "\n",
    "# display the feature lineage for the feature we just created\n",
    "display(customer_state_items_similarity_28d.definition)"
   ],
   "outputs": []
  },
  {
   "cell_type": "markdown",
   "metadata": {},
   "source": [
    "## Create a New Feature List From Existing Features\n",
    "\n",
    "Learning objectives\n",
    "\n",
    "In this section you will learn how to:\n",
    "* create a feature list with a primary entity suited to your use case"
   ]
  },
  {
   "cell_type": "markdown",
   "metadata": {},
   "source": [
    "### Example: Create a customer level feature list"
   ]
  },
  {
   "cell_type": "code",
   "execution_count": 24,
   "metadata": {},
   "source": [
    "# get a list of all the features in the catalog\n",
    "all_features = catalog.list_features()\n",
    "\n",
    "# filter to retain only those with grocery customer or state as their primary entity\n",
    "child_entity = \"groceryinvoice\"\n",
    "suitable_features = all_features.loc[[child_entity not in x for x in all_features.entities.values]]\n",
    "product_entity = \"groceryproduct\"\n",
    "suitable_features = suitable_features.loc[\n",
    "    [product_entity not in x for x in suitable_features.entities.values]\n",
    "]\n",
    "\n",
    "# show the features\n",
    "display(suitable_features)"
   ],
   "outputs": []
  },
  {
   "cell_type": "code",
   "execution_count": 25,
   "metadata": {},
   "source": [
    "# create a new feature list from the 12 features we just searched for\n",
    "customer_features = fb.FeatureList(\n",
    "    [catalog.get_feature(x) for x in suitable_features.name.values], name=\"CustomerFeatures\"\n",
    ")\n",
    "customer_features.save()\n",
    "\n",
    "# display a sample of the feature list values\n",
    "display(customer_features.preview(observation_set))"
   ],
   "outputs": []
  },
  {
   "cell_type": "code",
   "execution_count": 26,
   "metadata": {},
   "source": [
    "# list the feature lists in the catalog\n",
    "catalog.list_feature_lists()"
   ],
   "outputs": []
  },
  {
   "cell_type": "markdown",
   "metadata": {},
   "source": [
    "## Next Steps\n",
    "\n",
    "Now that you've completed the quick-start reusing features tutorial, you can put your knowledge into practice or learn more:<br>\n",
    "1. Learn more about materializing features via the \"Deep Dive Materializing Features\" tutorial\n",
    "2. Learn more about feature engineering via the \"Deep Dive Feature Engineering\" tutorial\n",
    "3. Learn about data modeling via the \"Deep Dive Data Modeling\" tutorial"
   ]
  }
 ],
 "metadata": {
  "kernelspec": {
   "display_name": "Python 3 (ipykernel)",
   "language": "python",
   "name": "python3"
  },
  "language_info": {
   "codemirror_mode": {
    "name": "ipython",
    "version": 3
   },
   "file_extension": ".py",
   "mimetype": "text/x-python",
   "name": "python",
   "nbconvert_exporter": "python",
   "pygments_lexer": "ipython3",
   "version": "3.10.6"
  }
 },
 "nbformat": 4,
 "nbformat_minor": 4
}
