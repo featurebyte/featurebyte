{
 "cells": [
  {
   "cell_type": "markdown",
   "metadata": {},
   "source": [
    "# Deep Dive Tutorial: Materializing Features"
   ]
  },
  {
   "cell_type": "markdown",
   "metadata": {},
   "source": [
    "## Learning Objectives\n",
    "\n",
    "In this tutorial you will learn:\n",
    "1. How to construct an observation set\n",
    "2. How features, entities, and observation sets are used together\n",
    "3. How to preview features\n",
    "4. How to get historical values\n",
    "5. How and why to deploy features\n",
    "6. How to serve and consume deployed features"
   ]
  },
  {
   "cell_type": "markdown",
   "metadata": {},
   "source": [
    "## Set up the prerequisites\n",
    "\n",
    "Learning Objectives\n",
    "\n",
    "In this section you will:\n",
    "* start your local featurebyte server\n",
    "* import libraries\n",
    "* learn the about catalogs\n",
    "* activate a pre-built catalogs"
   ]
  },
  {
   "cell_type": "markdown",
   "metadata": {},
   "source": [
    "### Load the featurebyte library and connect to the local instance of featurebyte"
   ]
  },
  {
   "cell_type": "code",
   "execution_count": 1,
   "metadata": {
    "tags": []
   },
   "source": [
    "# library imports\n",
    "import pandas as pd\n",
    "import numpy as np\n",
    "\n",
    "# load the featurebyte SDK\n",
    "import featurebyte as fb\n",
    "\n",
    "# start the local server, then wait for it to be healthy before proceeding\n",
    "fb.playground()"
   ],
   "outputs": []
  },
  {
   "cell_type": "markdown",
   "metadata": {},
   "source": [
    "### Create a pre-built catalog for this tutorial, with the data, metadata, and features already set up\n",
    "\n",
    "Note that creating a pre-built catalog is not a step you will do in real-life. This is a function specific to this quick-start tutorial to quickly skip over many of the preparatory steps and get you to a point where you can materialize features.\n",
    "\n",
    "In a real-life project you would do data modeling, declaring the tables, entities, and the associated metadata. This would not be a frequent task, but forms the basis for best-practice feature engineering."
   ]
  },
  {
   "cell_type": "code",
   "execution_count": 2,
   "metadata": {
    "tags": []
   },
   "source": [
    "# get the functions to create a pre-built catalog\n",
    "from prebuilt_catalogs import *\n",
    "\n",
    "# create a new catalog for this tutorial\n",
    "catalog = create_tutorial_catalog(PrebuiltCatalog.DeepDiveMaterializingFeatures)"
   ],
   "outputs": []
  },
  {
   "cell_type": "markdown",
   "metadata": {},
   "source": [
    "### Load the tables for this catalog"
   ]
  },
  {
   "cell_type": "code",
   "execution_count": 3,
   "metadata": {
    "tags": []
   },
   "source": [
    "# get the tables for this catalog\n",
    "grocery_customer_table = catalog.get_table(\"GROCERYCUSTOMER\")\n",
    "grocery_items_table = catalog.get_table(\"INVOICEITEMS\")\n",
    "grocery_invoice_table = catalog.get_table(\"GROCERYINVOICE\")\n",
    "grocery_product_table = catalog.get_table(\"GROCERYPRODUCT\")"
   ],
   "outputs": []
  },
  {
   "cell_type": "markdown",
   "metadata": {},
   "source": [
    "### Create views for the tables in this catalog"
   ]
  },
  {
   "cell_type": "code",
   "execution_count": 4,
   "metadata": {
    "tags": []
   },
   "source": [
    "# create the views\n",
    "grocery_customer_view = grocery_customer_table.get_view()\n",
    "grocery_invoice_view = grocery_invoice_table.get_view()\n",
    "grocery_items_view = grocery_items_table.get_view()\n",
    "grocery_product_view = grocery_product_table.get_view()"
   ],
   "outputs": []
  },
  {
   "cell_type": "markdown",
   "metadata": {},
   "source": [
    "## How to construct an observation set\n",
    "\n",
    "Learning Objectives\n",
    "\n",
    "In this section you will learn:\n",
    "* the purpose of observation sets\n",
    "* the relationship between entities, point in time, and observation sets\n",
    "* how to construct an observation set"
   ]
  },
  {
   "cell_type": "markdown",
   "metadata": {},
   "source": [
    "### Concept: Materialization\n",
    "\n",
    "A feature in FeatureByte is defined by the logical plan for its computation. The act of computing the feature is known as Feature Materialization.\n",
    "\n",
    "The materialization of features is made on demand to fulfill historical requests, whereas for prediction purposes, feature values are generated through a batch process called a \"Feature Job\". The Feature Job is scheduled based on the defined settings associated with each feature."
   ]
  },
  {
   "cell_type": "markdown",
   "metadata": {},
   "source": [
    "### Concept: Observation set\n",
    "\n",
    "An observation set combines entity key values and historical points-in-time, for which you wish to materialize feature values.\n",
    "\n",
    "The observation set can be a Pandas DataFrame or an ObservationTable object representing an observation set in the feature store."
   ]
  },
  {
   "cell_type": "markdown",
   "metadata": {},
   "source": [
    "### Concept: Point in time\n",
    "\n",
    "A point-in-time for a feature refers to a specific moment in the past with which the feature's values are associated.\n",
    "\n",
    "It is a crucial aspect of historical feature serving, which allows machine learning models to make predictions based on historical data. By providing a point-in-time, a feature can be used to train and test models on past data, enabling them to make accurate predictions for similar situations in the future."
   ]
  },
  {
   "cell_type": "markdown",
   "metadata": {},
   "source": [
    "An observation set is created as a Pandas DataFrame containing the keys for the primary entity, and points in time. The column name for the primary entity must be its serving name, and the column name for the point in time must be \"POINT_IN_TIME\"."
   ]
  },
  {
   "cell_type": "markdown",
   "metadata": {},
   "source": [
    "### Example: Create an observation set based upon events"
   ]
  },
  {
   "cell_type": "markdown",
   "metadata": {},
   "source": [
    "Some use cases are about events, and require predictions to be triggered when a specified event occurs.\n",
    "\n",
    "A use case requiring predictions about a grocery customer whenever an invoice event occurs, your observation set may be sampled from historical invoices."
   ]
  },
  {
   "cell_type": "code",
   "execution_count": 5,
   "metadata": {
    "tags": []
   },
   "source": [
    "# show the serving name for grocery customer\n",
    "entity_list = catalog.list_entities()\n",
    "display(entity_list[entity_list.name == \"grocerycustomer\"])"
   ],
   "outputs": []
  },
  {
   "cell_type": "code",
   "execution_count": 6,
   "metadata": {
    "tags": []
   },
   "source": [
    "# get a sample of 200 customer IDs and invoice event timestamps from 01-Apr-2022 to 31-Mar-2023\n",
    "filter = (grocery_invoice_view[\"Timestamp\"] >= pd.to_datetime(\"2022-04-01\")) & (\n",
    "    grocery_invoice_view[\"Timestamp\"] <= pd.to_datetime(\"2023-03-31\")\n",
    ")\n",
    "observation_set = (\n",
    "    grocery_invoice_view[filter]\n",
    "    .sample(200)[[\"GroceryCustomerGuid\", \"Timestamp\"]]\n",
    "    .rename(\n",
    "        {\n",
    "            \"Timestamp\": \"POINT_IN_TIME\",\n",
    "            \"GroceryCustomerGuid\": \"GROCERYCUSTOMERGUID\",\n",
    "        },\n",
    "        axis=1,\n",
    "    )\n",
    ")\n",
    "display(observation_set)"
   ],
   "outputs": []
  },
  {
   "cell_type": "markdown",
   "metadata": {
    "tags": []
   },
   "source": [
    "### Concept: Observation table\n",
    "\n",
    "An ObservationTable object is a representation of an observation set in the feature store. Unlike a local Pandas DataFrame, the ObservationTable is part of the catalog and can be shared or reused.\n",
    "\n",
    "ObservationTable objects can be created from a source table or from a view after subsampling."
   ]
  },
  {
   "cell_type": "markdown",
   "metadata": {},
   "source": [
    "### Example: Create an observation table based upon events"
   ]
  },
  {
   "cell_type": "code",
   "execution_count": 7,
   "metadata": {},
   "source": [
    "# create a large observation table from a view\n",
    "# observation tables are the recommended workflow for training data\n",
    "\n",
    "# filter the view to exclude points in time that won't have data for historical windows\n",
    "filter = (grocery_invoice_view[\"Timestamp\"] >= pd.to_datetime(\"2022-04-01\")) & (\n",
    "    grocery_invoice_view[\"Timestamp\"] < pd.to_datetime(\"2023-04-01\")\n",
    ")\n",
    "observation_set_view = grocery_invoice_view[filter].copy()\n",
    "\n",
    "# create a new observation table\n",
    "observation_table = observation_set_view.create_observation_table(\n",
    "    name=\"10000 customers who were active between 01-Apr-2022 and 31-Mar-2023\",\n",
    "    sample_rows=10000,\n",
    "    columns=[\"Timestamp\", \"GroceryCustomerGuid\"],\n",
    "    columns_rename_mapping={\n",
    "        \"Timestamp\": \"POINT_IN_TIME\",\n",
    "        \"GroceryCustomerGuid\": \"GROCERYCUSTOMERGUID\",\n",
    "    },\n",
    ")\n",
    "\n",
    "# if the observation table isn't too large, you can materialize it\n",
    "display(observation_table.to_pandas())"
   ],
   "outputs": []
  },
  {
   "cell_type": "markdown",
   "metadata": {},
   "source": [
    "### Example: Create an observation set based upon regularly scheduled batch predictions"
   ]
  },
  {
   "cell_type": "markdown",
   "metadata": {},
   "source": [
    "Some use cases require predictions to be triggered at regular time periods. Some use cases have conditions for which only a subset of entities require predictions.\n",
    "\n",
    "A use case requiring monthly predictions for recently active customers may use an observation set containing sample customer IDs combined with predefined timestamps."
   ]
  },
  {
   "cell_type": "code",
   "execution_count": 8,
   "metadata": {
    "tags": []
   },
   "source": [
    "# define a function to list a sample of the customers who were active in a given month\n",
    "def get_recently_active_customers(month_number):\n",
    "    # filter the invoices by month\n",
    "    filter = (grocery_invoice_view[\"Timestamp\"].dt.month == month_number) & (\n",
    "        grocery_invoice_view[\"Timestamp\"].dt.year == 2022\n",
    "    )\n",
    "    # get a list of customers who made an invoice in the month\n",
    "    recently_active_customers = (\n",
    "        grocery_invoice_view[filter].sample(200)[\"GroceryCustomerGuid\"].unique()\n",
    "    )\n",
    "    # get the start of the month\n",
    "    point_in_time = pd.Timestamp(f\"2022-{month_number}-01\")\n",
    "    # get the end of the month\n",
    "    end_of_month = point_in_time + pd.DateOffset(months=1)\n",
    "    # get the point in time by subtracting 0.001 second from the end of the month\n",
    "    point_in_time = end_of_month - pd.Timedelta(seconds=0.001)\n",
    "    # combine the point in time with the customer IDs\n",
    "    recently_active_customers = pd.DataFrame(\n",
    "        {\n",
    "            \"GROCERYCUSTOMERGUID\": recently_active_customers,\n",
    "            \"POINT_IN_TIME\": point_in_time,\n",
    "        }\n",
    "    )\n",
    "    return recently_active_customers\n",
    "\n",
    "\n",
    "# create an observation set comprised of up to 200 customers per month who were active in that month in the second half of 2022\n",
    "observation_set = pd.concat(\n",
    "    [get_recently_active_customers(month_number) for month_number in range(7, 13)],\n",
    "    ignore_index=True,\n",
    ")\n",
    "display(observation_set)"
   ],
   "outputs": []
  },
  {
   "cell_type": "markdown",
   "metadata": {},
   "source": [
    "## Previewing features\n",
    "\n",
    "Learning Objectives\n",
    "\n",
    "In this section you will learn:\n",
    "* how to preview features\n",
    "* the limitations of previews"
   ]
  },
  {
   "cell_type": "markdown",
   "metadata": {},
   "source": [
    "### Example: Preview features\n",
    "\n",
    "During feature prototyping, new features may not have been saved to the catalog. A data scientist will want to preview sample features to sensibility check their feature declaration."
   ]
  },
  {
   "cell_type": "code",
   "execution_count": 9,
   "metadata": {
    "tags": []
   },
   "source": [
    "# create a lookup feature that is the city in which the customer resides\n",
    "french_state_lookup = grocery_customer_view.City.as_feature(\"CustomerCity\")\n",
    "\n",
    "# preview materialized values for the unsaved feature\n",
    "display(french_state_lookup.preview(observation_set.sample(5)))"
   ],
   "outputs": []
  },
  {
   "cell_type": "markdown",
   "metadata": {},
   "source": [
    "Feature previews are not suited to creating training files or feature serving. Previews have a limitation of 50 rows and do not create an audit trail."
   ]
  },
  {
   "cell_type": "markdown",
   "metadata": {},
   "source": [
    "## Create training data\n",
    "\n",
    "Learning Objectives\n",
    "\n",
    "In this section you will learn:\n",
    "* how to design an observation set suitable for training data\n",
    "* how to get historical values for the target\n",
    "* how to get historical values for a feature list, and create training data"
   ]
  },
  {
   "cell_type": "markdown",
   "metadata": {},
   "source": [
    "### Design an Observation Set for Training\n",
    "\n",
    "Observation Training Design: A training data observation set should typically meet the following criteria:\n",
    "* be collected from a time period that does not start until after the earliest data availability timestamp plus longest time window in the features\n",
    "* be collected from a time period that ends before the latest data timestamp less the time window of the target value\n",
    "* uses points in time that align with the anticipated timing of the use case inference, whether it's based on a regular schedule, triggered by an event, or any other timing mechanism.\n",
    "* does not have duplicate rows\n",
    "* has a column containing the primary entity of the use case, using its serving name\n",
    "* has a column, named \"POINT_IN_TIME\", containing the points in time\n",
    "* has for the same entity key points in time that have time intervals greater than the horizon of the target to avoid leakage"
   ]
  },
  {
   "cell_type": "markdown",
   "metadata": {},
   "source": [
    "### Case Study: Predicting Customer Spend\n",
    "\n",
    "Your chain of grocery stores wants to target market customers immediately after each purchase. As one step in this marketing campaign, they want to predict future customer spend in the 14 days after a purchase."
   ]
  },
  {
   "cell_type": "markdown",
   "metadata": {},
   "source": [
    "### Example: Create an observation table for training data"
   ]
  },
  {
   "cell_type": "code",
   "execution_count": 10,
   "metadata": {},
   "source": [
    "# describe the customer view\n",
    "display(grocery_customer_view.describe())"
   ],
   "outputs": []
  },
  {
   "cell_type": "markdown",
   "metadata": {},
   "source": [
    "Note that there are 471 unique customers"
   ]
  },
  {
   "cell_type": "code",
   "execution_count": 11,
   "metadata": {},
   "source": [
    "# describe the invoice view\n",
    "display(grocery_invoice_view.describe())"
   ],
   "outputs": []
  },
  {
   "cell_type": "markdown",
   "metadata": {},
   "source": [
    "Note that the earliest data timestamp is at the beginning of 2022, and the timestamps end in the present."
   ]
  },
  {
   "cell_type": "code",
   "execution_count": 12,
   "metadata": {},
   "source": [
    "# get the customer feature list\n",
    "customer_feature_list = catalog.get_feature_list(\"CustomerFeatures\")\n",
    "\n",
    "# display details about the features in the customer feature list\n",
    "display(customer_feature_list.list_features())"
   ],
   "outputs": []
  },
  {
   "cell_type": "markdown",
   "metadata": {},
   "source": [
    "Note that the longest time window in the features is 4 weeks."
   ]
  },
  {
   "cell_type": "code",
   "execution_count": 13,
   "metadata": {},
   "source": [
    "# get the feature list for the target\n",
    "import json\n",
    "\n",
    "next_customer_sales_14d_target = catalog.get_target(\"next_customer_sales_14d\")\n",
    "\n",
    "# display details about the target\n",
    "info = next_customer_sales_14d_target.info()\n",
    "display_info = {\n",
    "    key: info[key] for key in (\"id\", \"target_name\", \"entities\", \"window\", \"primary_table\")\n",
    "}\n",
    "print(json.dumps(display_info, indent=4))"
   ],
   "outputs": []
  },
  {
   "cell_type": "markdown",
   "metadata": {},
   "source": [
    "Note that the time window for the target is 14 days"
   ]
  },
  {
   "cell_type": "markdown",
   "metadata": {},
   "source": [
    "We can conclude that it would be safe for the training data observation set's points in time to commence on 29-Jan-2022 and end 14 days before the present.<br>\n",
    "\n",
    "We will create an observation set for invoice dates from Feb-22 to Dec-22."
   ]
  },
  {
   "cell_type": "code",
   "execution_count": 14,
   "metadata": {},
   "source": [
    "# create a large observation table from a view\n",
    "\n",
    "# filter to get Feb-22 to Jan-23\n",
    "filter = (grocery_invoice_view[\"Timestamp\"] >= pd.to_datetime(\"2022-02-01\")) & (\n",
    "    grocery_invoice_view[\"Timestamp\"] < pd.to_datetime(\"2023-04-01\")\n",
    ")\n",
    "observation_set_view = grocery_invoice_view[filter].copy()\n",
    "\n",
    "# create a new observation table\n",
    "observation_table_large = observation_set_view.create_observation_table(\n",
    "    name=\"1000 customers who were active between 01-Feb-2022 and 31-Jan-2023\",\n",
    "    sample_rows=1000,\n",
    "    columns=[\"Timestamp\", \"GroceryCustomerGuid\"],\n",
    "    columns_rename_mapping={\n",
    "        \"Timestamp\": \"POINT_IN_TIME\",\n",
    "        \"GroceryCustomerGuid\": \"GROCERYCUSTOMERGUID\",\n",
    "    },\n",
    ")\n",
    "\n",
    "# if the observation table isn't too large, you can materialize it\n",
    "display(observation_table_large.to_pandas())"
   ],
   "outputs": []
  },
  {
   "cell_type": "markdown",
   "metadata": {},
   "source": [
    "### Example: Get historical values"
   ]
  },
  {
   "cell_type": "code",
   "execution_count": 15,
   "metadata": {},
   "source": [
    "# use the get historical features function to get the feature values for the observation set\n",
    "training_data_features = customer_feature_list.compute_historical_features(observation_set)\n",
    "display(training_data_features)"
   ],
   "outputs": []
  },
  {
   "cell_type": "markdown",
   "metadata": {},
   "source": [
    "### Example: Get target values\n",
    "\n",
    "We can materialize the Target values by calling `compute_target`, or `compute_target_table`."
   ]
  },
  {
   "cell_type": "code",
   "execution_count": 16,
   "metadata": {},
   "source": [
    "# Materialize the target feature using get historical features\n",
    "training_data_target_table = next_customer_sales_14d_target.compute_target_table(\n",
    "    observation_table_large, observation_table_name=\"next_customer_sales_14d_target_table\"\n",
    ")\n",
    "training_data_target = training_data_target_table.to_pandas()\n",
    "display(training_data_target)"
   ],
   "outputs": []
  },
  {
   "cell_type": "markdown",
   "metadata": {},
   "source": [
    "### Concept: Historical feature table\n",
    "\n",
    "A HistoricalFeatureTable object represents a table in the feature store containing historical feature values from a historical feature request. The historical feature values can also be obtained as a Pandas DataFrame, but using a HistoricalFeatureTable object has some benefits such as handling large tables, storing the data in the feature store for reuse, and offering full lineage of the training and test data."
   ]
  },
  {
   "cell_type": "code",
   "execution_count": 17,
   "metadata": {},
   "source": [
    "# the syntax is different when using an observation table to create a historical feature table\n",
    "\n",
    "# Compute the historical feature table\n",
    "training_table = customer_feature_list.compute_historical_feature_table(\n",
    "    training_data_target_table,\n",
    "    historical_feature_table_name=\"customer training table on 1000 customers who were active between 01-Feb-2022 and 31-Jan-2023\",\n",
    ")\n",
    "training_data = training_table.to_pandas()\n",
    "# display the training data\n",
    "display(training_data)"
   ],
   "outputs": []
  },
  {
   "cell_type": "markdown",
   "metadata": {},
   "source": [
    "## Deploying features\n",
    "\n",
    "Learning Objectives\n",
    "\n",
    "In this section you will learn:\n",
    "* feature readiness\n",
    "* feature list status\n",
    "* how to deploy a feature list"
   ]
  },
  {
   "cell_type": "markdown",
   "metadata": {},
   "source": [
    "### Feature readiness\n",
    "\n",
    "To help differentiate features that are in the prototype stage and features that are ready for production, a feature version can have one of four readiness levels:\n",
    "\n",
    "PRODUCTION_READY: ready for deployment in production environments.<br>\n",
    "PUBLIC_DRAFT: shared for feedback purposes.<br>\n",
    "DRAFT: in the prototype stage.<br>\n",
    "DEPRECATED`: not advised for use in either training or prediction."
   ]
  },
  {
   "cell_type": "code",
   "execution_count": 18,
   "metadata": {},
   "source": [
    "# view the readiness of the features\n",
    "catalog.list_features()"
   ],
   "outputs": []
  },
  {
   "cell_type": "markdown",
   "metadata": {},
   "source": [
    "When a feature has been reviewed and is ready for production, its readiness can be upgraded."
   ]
  },
  {
   "cell_type": "code",
   "execution_count": 19,
   "metadata": {},
   "source": [
    "# get CustomerInventoryEntropy_4w\n",
    "customer_inventory_entropy_4w = catalog.get_feature(\"CustomerInventoryEntropy_4w\")"
   ],
   "outputs": []
  },
  {
   "cell_type": "code",
   "execution_count": 20,
   "metadata": {
    "tags": []
   },
   "source": [
    "# check feature definition file\n",
    "customer_inventory_entropy_4w.definition"
   ],
   "outputs": []
  },
  {
   "cell_type": "code",
   "execution_count": 21,
   "metadata": {
    "tags": []
   },
   "source": [
    "# change the readiness to public\n",
    "customer_inventory_entropy_4w.update_readiness(\"PRODUCTION_READY\")\n",
    "\n",
    "# view the readiness of the features\n",
    "catalog.list_features()"
   ],
   "outputs": []
  },
  {
   "cell_type": "markdown",
   "metadata": {},
   "source": [
    "### Feature list status\n",
    "\n",
    "Feature lists can be assigned one of five status levels to differentiate between experimental feature lists and those suitable for deployment or already deployed.\n",
    "\n",
    "- DEPLOYED: Assigned to feature list with at least one deployed version.\n",
    "- TEMPLATE: For feature lists as reference templates or safe starting points.\n",
    "- PUBLIC_DRAFT: For feature lists shared for feedback purposes.\n",
    "- DRAFT: For feature lists in the prototype stage.\n",
    "- DEPRECATED: For outdated or unnecessary feature lists."
   ]
  },
  {
   "cell_type": "code",
   "execution_count": 22,
   "metadata": {},
   "source": [
    "# view the status of the feature lists\n",
    "display(catalog.list_feature_lists())"
   ],
   "outputs": []
  },
  {
   "cell_type": "markdown",
   "metadata": {},
   "source": [
    "When a feature list is ready for review, its status can be updated."
   ]
  },
  {
   "cell_type": "code",
   "execution_count": 23,
   "metadata": {},
   "source": [
    "# get the CustomerFeatures feature list\n",
    "customer_feature_list = catalog.get_feature_list(\"CustomerFeatures\")\n",
    "\n",
    "# update the status to PUBLIC_DRAFT\n",
    "customer_feature_list.update_status(\"PUBLIC_DRAFT\")\n",
    "\n",
    "# view the status of the feature lists\n",
    "display(catalog.list_feature_lists())"
   ],
   "outputs": []
  },
  {
   "cell_type": "markdown",
   "metadata": {},
   "source": [
    "### Deploying a feature list"
   ]
  },
  {
   "cell_type": "code",
   "execution_count": 24,
   "metadata": {},
   "source": [
    "# deploy the customer feature list\n",
    "deployment = customer_feature_list.deploy(make_production_ready=True)\n",
    "deployment.enable()\n",
    "\n",
    "# view the status of the feature lists\n",
    "display(catalog.list_feature_lists())"
   ],
   "outputs": []
  },
  {
   "cell_type": "markdown",
   "metadata": {},
   "source": [
    "### Why deploy?\n",
    "\n",
    "When you deploy a feature list, behind the scenes the Feature Store starts regularly pre-calculating and caching feature values. This can significantly reduce the latency of feature serving."
   ]
  },
  {
   "cell_type": "markdown",
   "metadata": {},
   "source": [
    "## Serving and consuming features\n",
    "\n",
    "Learning Objectives\n",
    "\n",
    "In this section you will learn:\n",
    "* the point in time used for production serving\n",
    "* how to create a Python function to consume a feature list\n",
    "* how to consume a feature list"
   ]
  },
  {
   "cell_type": "markdown",
   "metadata": {},
   "source": [
    "### Point in time for deployment\n",
    "\n",
    "The production feature serving API uses the current time as its point in time. To consume the feature list, send only the primary entity via the serving name."
   ]
  },
  {
   "cell_type": "markdown",
   "metadata": {},
   "source": [
    "### Automatically create a Python function for consuming the API\n",
    "\n",
    "You can either use a python template or a shell script where the generated code will use the curl command to send the request.\n",
    "\n",
    "For the python template, set the language parameter value as 'python'.\n",
    "For the shell script, set the language parameter value as 'sh'."
   ]
  },
  {
   "cell_type": "code",
   "execution_count": 25,
   "metadata": {},
   "source": [
    "# get a python template for consuming the feature serving API\n",
    "deployment.get_online_serving_code(language=\"python\")"
   ],
   "outputs": []
  },
  {
   "cell_type": "markdown",
   "metadata": {},
   "source": [
    "Copy the online serving code that was generated above, paste it into the cell below, then run it"
   ]
  },
  {
   "cell_type": "code",
   "execution_count": 26,
   "metadata": {},
   "source": [
    "# replace the contents of this Python code cell with the output from to_be_deployed.get_online_serving_code(language=\"python\")"
   ],
   "outputs": []
  },
  {
   "cell_type": "markdown",
   "metadata": {},
   "source": [
    "### Concept: Batch request table\n",
    "\n",
    "A BatchRequestTable object is a representation of a table in the feature store that specifies entity values for batch serving."
   ]
  },
  {
   "cell_type": "code",
   "execution_count": 27,
   "metadata": {},
   "source": [
    "# this is a new use case, a daily batch run for customers who were active in the latest 24 hours\n",
    "\n",
    "# filter the invoice view to get customers who had an invoice in the latest 24 hours\n",
    "batch_request_timestamp = pd.Timestamp.now(tz=\"utc\")\n",
    "filter = grocery_invoice_view[\"Timestamp\"] > batch_request_timestamp - pd.to_timedelta(\n",
    "    24, unit=\"hour\"\n",
    ")\n",
    "recently_active_view = grocery_invoice_view[filter].copy()\n",
    "\n",
    "display(recently_active_view.preview())"
   ],
   "outputs": []
  },
  {
   "cell_type": "code",
   "execution_count": 28,
   "metadata": {},
   "source": [
    "# create a batch request table from the filtered view\n",
    "# note that the table does not contain a prediction point in time\n",
    "# batch requests use the batch run time as the point in time\n",
    "batch_request_table = recently_active_view.create_batch_request_table(\n",
    "    \"customer batch request for customers active in the latest 24 hours as at \"\n",
    "    + str(batch_request_timestamp),\n",
    "    columns=[\"GroceryCustomerGuid\"],\n",
    "    columns_rename_mapping={\"GroceryCustomerGuid\": \"GROCERYCUSTOMERGUID\"},\n",
    ")"
   ],
   "outputs": []
  },
  {
   "cell_type": "markdown",
   "metadata": {},
   "source": [
    "### Concept: Batch feature table\n",
    "\n",
    "A BatchFeatureTable object is a representation of a table in the feature store that contains feature values from batch serving. The object includes metadata on the Deployment and the BatchRequestTable used to create it."
   ]
  },
  {
   "cell_type": "code",
   "execution_count": 29,
   "metadata": {},
   "source": [
    "# enable the deployment - this is a pre-requisite\n",
    "if not deployment.enabled:\n",
    "    deployment.enable()"
   ],
   "outputs": []
  },
  {
   "cell_type": "code",
   "execution_count": 30,
   "metadata": {},
   "source": [
    "# request batch features\n",
    "batch_features = deployment.compute_batch_feature_table(\n",
    "    batch_request_table=batch_request_table,\n",
    "    batch_feature_table_name=\"customer batch feature data for customers active in the latest 24 hours as at \"\n",
    "    + str(batch_request_timestamp),\n",
    ")"
   ],
   "outputs": []
  },
  {
   "cell_type": "code",
   "execution_count": 31,
   "metadata": {},
   "source": [
    "# display the contents of the batch feature table\n",
    "display(batch_features.to_pandas())"
   ],
   "outputs": []
  },
  {
   "cell_type": "code",
   "execution_count": 32,
   "metadata": {},
   "source": [
    "# display the batch feature table metadata\n",
    "batch_features.info()"
   ],
   "outputs": []
  },
  {
   "cell_type": "markdown",
   "metadata": {},
   "source": [
    "### Disable a deployment"
   ]
  },
  {
   "cell_type": "code",
   "execution_count": null,
   "metadata": {},
   "source": [
    "# disable the feature list deployment\n",
    "deployment.disable()"
   ],
   "outputs": []
  },
  {
   "cell_type": "markdown",
   "metadata": {},
   "source": [
    "## Next Steps\n",
    "\n",
    "Now that you've completed the deep dive materializing features tutorial, you can put your knowledge into practice or learn more:<br>\n",
    "1. Put your knowledge into practice by creating features in the \"credit card dataset feature engineering playground\" or \"healthcare dataset feature engineering playground\" catalogs\n",
    "2. Learn more about feature governance via the \"Quick Start Feature Governance\" tutorial\n",
    "3. Learn about data modeling via the \"Deep Dive Data Modeling\" tutorial"
   ]
  }
 ],
 "metadata": {
  "kernelspec": {
   "display_name": "Python 3 (ipykernel)",
   "language": "python",
   "name": "python3"
  },
  "language_info": {
   "codemirror_mode": {
    "name": "ipython",
    "version": 3
   },
   "file_extension": ".py",
   "mimetype": "text/x-python",
   "name": "python",
   "nbconvert_exporter": "python",
   "pygments_lexer": "ipython3",
   "version": "3.10.12"
  }
 },
 "nbformat": 4,
 "nbformat_minor": 4
}
