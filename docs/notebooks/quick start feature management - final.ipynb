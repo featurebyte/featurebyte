{
 "cells": [
  {
   "attachments": {},
   "cell_type": "markdown",
   "metadata": {},
   "source": [
    "# Quick Start Tutorial: Feature Management"
   ]
  },
  {
   "attachments": {},
   "cell_type": "markdown",
   "metadata": {},
   "source": [
    "## Learning Objectives\n",
    "\n",
    "In this tutorial you will learn:\n",
    "1. How to view the lineage of a feature\n",
    "2. How to manage the readiness of a feature\n",
    "3. How to be informed of the readiness of a feature list\n",
    "4. How to manage the status of a feature list\n",
    "5. How FeatureByte deployment guardrails work\n",
    "6. How to check the feature job status\n",
    "7. How to manage versioning\n",
    "8. How to disable deployment"
   ]
  },
  {
   "attachments": {},
   "cell_type": "markdown",
   "metadata": {},
   "source": [
    "## Set up the prerequisites\n",
    "\n",
    "Learning Objectives\n",
    "\n",
    "In this section you will:\n",
    "* start your local featurebyte server\n",
    "* import libraries\n",
    "* learn about catalogs\n",
    "* activate a pre-built catalog"
   ]
  },
  {
   "cell_type": "code",
   "execution_count": 1,
   "metadata": {
    "tags": []
   },
   "source": [
    "# library imports\n",
    "import pandas as pd\n",
    "import numpy as np\n",
    "import random\n",
    "\n",
    "# load the featurebyte SDK\n",
    "import featurebyte as fb\n",
    "\n",
    "# start the local server, then wait for it to be healthy before proceeding\n",
    "fb.playground()"
   ],
   "outputs": []
  },
  {
   "attachments": {},
   "cell_type": "markdown",
   "metadata": {},
   "source": [
    "### Create a pre-built catalog for this tutorial, with the data, metadata, and features already set up\n",
    "\n",
    "Note that creating a pre-built catalog is not a step you will do in real-life. This is a function specific to this quick-start tutorial to quickly skip over many of the preparatory steps and get you to a point where you can materialize features.\n",
    "\n",
    "In a real-life project you would do data modeling, declaring the tables, entities, and the associated metadata. This would not be a frequent task, but forms the basis for best-practice feature engineering."
   ]
  },
  {
   "cell_type": "code",
   "execution_count": 2,
   "metadata": {
    "tags": []
   },
   "source": [
    "# get the functions to create a pre-built catalog\n",
    "from prebuilt_catalogs import *\n",
    "\n",
    "# create a new catalog for this tutorial\n",
    "catalog = create_tutorial_catalog(PrebuiltCatalog.QuickStartFeatureManagement)"
   ],
   "outputs": []
  },
  {
   "attachments": {},
   "cell_type": "markdown",
   "metadata": {},
   "source": [
    "## Manage Feature Readiness\n",
    "\n",
    "Learning Objectives\n",
    "\n",
    "In this section you will learn:\n",
    "* how to change the readiness of a feature\n",
    "* the meaning of each readiness value"
   ]
  },
  {
   "attachments": {},
   "cell_type": "markdown",
   "metadata": {},
   "source": [
    "### Feature readiness\n",
    "\n",
    "To help differentiate features that are in the prototype stage and features that are ready for production, a feature version can have one of four readiness levels:\n",
    "\n",
    "PRODUCTION_READY: ready for deployment in production environments.<br>\n",
    "PUBLIC_DRAFT: shared for feedback purposes.<br>\n",
    "DRAFT: in the prototype stage.<br>\n",
    "DEPRECATED`: not advised for use in either training or prediction."
   ]
  },
  {
   "cell_type": "code",
   "execution_count": 3,
   "metadata": {},
   "source": [
    "# list the features in the catalog - note the readiness of each\n",
    "catalog.list_features()"
   ],
   "outputs": []
  },
  {
   "attachments": {},
   "cell_type": "markdown",
   "metadata": {},
   "source": [
    "### Example: Set features to production ready"
   ]
  },
  {
   "cell_type": "code",
   "execution_count": 4,
   "metadata": {},
   "source": [
    "# change the state features to be production ready\n",
    "for feature_name in catalog.list_features().name:\n",
    "    feature = catalog.get_feature(feature_name)\n",
    "\n",
    "    # does the feature name contain the word \"state\"?\n",
    "    if \"State\" in feature.name:\n",
    "        feature.update_readiness(\"PRODUCTION_READY\")"
   ],
   "outputs": []
  },
  {
   "cell_type": "code",
   "execution_count": 5,
   "metadata": {},
   "source": [
    "# list the features in the catalog - note the readiness of each\n",
    "catalog.list_features()"
   ],
   "outputs": []
  },
  {
   "attachments": {},
   "cell_type": "markdown",
   "metadata": {},
   "source": [
    "## List Unsaved Features\n",
    "\n",
    "Features that have not been saved will not persist once you close your Notebook. It is helpful to check that you have saved each feature that you wished to keep."
   ]
  },
  {
   "cell_type": "code",
   "execution_count": 6,
   "metadata": {},
   "source": [
    "# create a feature without saving it\n",
    "grocery_items_table = catalog.get_table(\"INVOICEITEMS\")\n",
    "grocery_items_view = grocery_items_table.get_view()\n",
    "invoice_unique_product_ids = grocery_items_view.groupby(\n",
    "    \"GroceryInvoiceGuid\", category=\"GroceryProductGuid\"\n",
    ").aggregate(None, method=fb.AggFunc.COUNT, feature_name=\"InvoiceUniqueProductIds\")\n",
    "invoice_unique_product_count = invoice_unique_product_ids.cd.unique_count()"
   ],
   "outputs": []
  },
  {
   "cell_type": "code",
   "execution_count": 7,
   "metadata": {},
   "source": [
    "# list unsaved features\n",
    "fb.list_unsaved_features()\n",
    "\n",
    "# note that the feature we just created hasn't been named, so cannot be saved"
   ],
   "outputs": []
  },
  {
   "attachments": {},
   "cell_type": "markdown",
   "metadata": {},
   "source": [
    "## Manage Feature List Status\n",
    "\n",
    "Learning Objectives\n",
    "\n",
    "In this section you will learn:\n",
    "* how to change the status of a feature list\n",
    "* the meaning of each status value\n",
    "* how to deploy a feature list"
   ]
  },
  {
   "attachments": {},
   "cell_type": "markdown",
   "metadata": {},
   "source": [
    "### Feature list status\n",
    "\n",
    "Feature lists can be assigned one of five status levels to differentiate between experimental feature lists and those suitable for deployment or already deployed.\n",
    "\n",
    "- DEPLOYED: Assigned to feature list with at least one deployed version.\n",
    "- TEMPLATE: For feature lists as reference templates or safe starting points.\n",
    "- PUBLIC_DRAFT: For feature lists shared for feedback purposes.\n",
    "- DRAFT: For feature lists in the prototype stage.\n",
    "- DEPRECATED: For outdated or unnecessary feature lists."
   ]
  },
  {
   "cell_type": "code",
   "execution_count": 8,
   "metadata": {},
   "source": [
    "# list the feature lists in the catalog - note the status of each\n",
    "# Note the readiness fraction which represents the proportion of features that are production ready\n",
    "# Note the online fraction which represents the proportion of features that are being used in production\n",
    "catalog.list_feature_lists()"
   ],
   "outputs": []
  },
  {
   "attachments": {},
   "cell_type": "markdown",
   "metadata": {},
   "source": [
    "### Example: Make a feature list public\n",
    "\n",
    "When a feature list is reviewed and ready for sharing with other users, change its status to PUBLIC_DRAFT"
   ]
  },
  {
   "cell_type": "code",
   "execution_count": 9,
   "metadata": {},
   "source": [
    "# get the state feature list\n",
    "state_feature_list = catalog.get_feature_list(\"StateFeatureList\")\n",
    "\n",
    "# update the status to public draft\n",
    "state_feature_list.update_status(\"PUBLIC_DRAFT\")"
   ],
   "outputs": []
  },
  {
   "cell_type": "code",
   "execution_count": 10,
   "metadata": {},
   "source": [
    "# list the feature lists in the catalog - note the status of each\n",
    "catalog.list_feature_lists()"
   ],
   "outputs": []
  },
  {
   "attachments": {},
   "cell_type": "markdown",
   "metadata": {},
   "source": [
    "### Example: Deploy a feature list\n",
    "\n",
    "Deploying a feature list changes its status to published"
   ]
  },
  {
   "cell_type": "code",
   "execution_count": 11,
   "metadata": {},
   "source": [
    "# deploy the state feature list\n",
    "deployment = state_feature_list.deploy(make_production_ready=True)\n",
    "deployment.enable()"
   ],
   "outputs": []
  },
  {
   "cell_type": "code",
   "execution_count": 12,
   "metadata": {},
   "source": [
    "# list the feature lists in the catalog - note the status of each\n",
    "catalog.list_feature_lists()"
   ],
   "outputs": []
  },
  {
   "attachments": {},
   "cell_type": "markdown",
   "metadata": {},
   "source": [
    "## Versioning\n",
    "\n",
    "Learning Objectives\n",
    "\n",
    "In this section you will learn:\n",
    "* about feature versions and feature list versions\n",
    "* how to change the table cleaning operations for a feature\n",
    "* how to change the feature job settings for a feature\n",
    "* how to manage the default versions for a feature or a feature list\n",
    "* how to create new versions of features and feature lists"
   ]
  },
  {
   "attachments": {},
   "cell_type": "markdown",
   "metadata": {},
   "source": [
    "### Concept: Feature version\n",
    "A Feature Version enables the reuse of a Feature with varying feature job settings or distinct cleaning operations.\n",
    "\n",
    "If the availability or freshness of the data source change, new versions of the feature can be generated with a new feature job setting. On the other hand, if changes occur in the data quality of the data sources, new versions of the feature can be created with new cleaning operations that address the new quality issues.\n",
    "\n",
    "To ensure the seamless inference of Machine Learning tasks that depend on the feature, old versions of the feature can still be served without any disruption."
   ]
  },
  {
   "attachments": {},
   "cell_type": "markdown",
   "metadata": {},
   "source": [
    "### Example: Get table cleaning operations for a feature"
   ]
  },
  {
   "cell_type": "code",
   "execution_count": 13,
   "metadata": {},
   "source": [
    "# get the InvoiceDiscountAmount feature\n",
    "invoice_discount_amount = catalog.get_feature(\"InvoiceDiscountAmount\")\n",
    "\n",
    "# list the feature versions\n",
    "display(invoice_discount_amount.list_versions())"
   ],
   "outputs": []
  },
  {
   "cell_type": "code",
   "execution_count": 14,
   "metadata": {
    "tags": []
   },
   "source": [
    "# No cleaning has been operated on this feature\n",
    "invoice_discount_amount.info()[\"table_cleaning_operation\"]"
   ],
   "outputs": []
  },
  {
   "attachments": {},
   "cell_type": "markdown",
   "metadata": {},
   "source": [
    "### Example: Updating table cleaning operations for a feature"
   ]
  },
  {
   "cell_type": "code",
   "execution_count": 15,
   "metadata": {},
   "source": [
    "# update the data cleaning operations in the InvoiceDiscountAmount feature\n",
    "new_version = invoice_discount_amount.create_new_version(\n",
    "    table_cleaning_operations=[\n",
    "        fb.TableCleaningOperation(\n",
    "            table_name=\"INVOICEITEMS\",\n",
    "            column_cleaning_operations=[\n",
    "                fb.ColumnCleaningOperation(\n",
    "                    column_name=\"Discount\",\n",
    "                    cleaning_operations=[\n",
    "                        fb.MissingValueImputation(imputed_value=0.0),\n",
    "                        fb.ValueBeyondEndpointImputation(\n",
    "                            type=\"less_than\", end_point=0, imputed_value=None\n",
    "                        ),\n",
    "                    ],\n",
    "                )\n",
    "            ],\n",
    "        )\n",
    "    ]\n",
    ")"
   ],
   "outputs": []
  },
  {
   "cell_type": "code",
   "execution_count": 16,
   "metadata": {},
   "source": [
    "# list the feature versions\n",
    "feature_versions = invoice_discount_amount.list_versions()\n",
    "\n",
    "# sort by created_at ascending\n",
    "feature_versions.sort_values(by=\"created_at\", ascending=True, inplace=True)\n",
    "\n",
    "# display only the InvoiceUniqueProductGroups feature - note the new version that has been created\n",
    "display(feature_versions)"
   ],
   "outputs": []
  },
  {
   "cell_type": "code",
   "execution_count": 17,
   "metadata": {
    "tags": []
   },
   "source": [
    "# Check new cleaning info\n",
    "new_version.info()[\"table_cleaning_operation\"][\"this\"]"
   ],
   "outputs": []
  },
  {
   "cell_type": "code",
   "execution_count": 18,
   "metadata": {
    "tags": []
   },
   "source": [
    "# Check feature definition file\n",
    "new_version.definition"
   ],
   "outputs": []
  },
  {
   "attachments": {},
   "cell_type": "markdown",
   "metadata": {},
   "source": [
    "### Concept: Default feature version\n",
    "    \n",
    "The default version of a feature streamlines the process of reusing features by providing the most appropriate version. Additionally, it simplifies the creation of new versions of feature lists.\n",
    "\n",
    "By default, the feature's version with the highest level of readiness is considered, unless the user overrides this selection. In cases where multiple versions share the highest level of readiness, the most recent version is automatically chosen as the default.\n",
    "\n",
    "When a feature is accessed without specifying a version ID but only by its name, the default version is automatically retrieved."
   ]
  },
  {
   "attachments": {},
   "cell_type": "markdown",
   "metadata": {},
   "source": [
    "### Example: The version we just created should be the default as no other version has a higher readiness and it is the latest version."
   ]
  },
  {
   "cell_type": "code",
   "execution_count": 19,
   "metadata": {
    "tags": []
   },
   "source": [
    "new_version.is_default"
   ],
   "outputs": []
  },
  {
   "attachments": {},
   "cell_type": "markdown",
   "metadata": {},
   "source": [
    "### Example: Get the feature job settings for a feature\n",
    "\n",
    "Note that changing feature job settings will only affect time-aware features e.g. features created using aggregate_over. It will not affect features based upon simple aggregation."
   ]
  },
  {
   "cell_type": "code",
   "execution_count": 20,
   "metadata": {},
   "source": [
    "# get the CustomerInventory_28d feature\n",
    "customer_inventory_28d_feature = catalog.get_feature(\"CustomerInventory_28d\")\n",
    "\n",
    "# list the feature versions\n",
    "display(customer_inventory_28d_feature.list_versions())"
   ],
   "outputs": []
  },
  {
   "cell_type": "code",
   "execution_count": 21,
   "metadata": {
    "tags": []
   },
   "source": [
    "# Get the feature job settings for CustomerInventory_28d\n",
    "customer_inventory_28d_feature.info()[\"table_feature_job_setting\"][\"this\"]"
   ],
   "outputs": []
  },
  {
   "attachments": {},
   "cell_type": "markdown",
   "metadata": {},
   "source": [
    "Note that the table name here is the event table associated with the item table as the timestamp originates from this table."
   ]
  },
  {
   "cell_type": "code",
   "execution_count": 22,
   "metadata": {
    "tags": []
   },
   "source": [
    "# show the feature job settings for the grocery invoice table\n",
    "grocery_invoice_table = catalog.get_table(\"GROCERYINVOICE\")\n",
    "grocery_invoice_table.default_feature_job_setting"
   ],
   "outputs": []
  },
  {
   "attachments": {},
   "cell_type": "markdown",
   "metadata": {},
   "source": [
    "### Example: Change the feature job settings for a feature\n",
    "\n",
    "Note that changing feature job settings will only affect time-aware features e.g. features created using aggregate_over. It will not affect features based upon simple aggregation."
   ]
  },
  {
   "cell_type": "code",
   "execution_count": 23,
   "metadata": {},
   "source": [
    "# update the data cleaning operations for the InvoiceDiscountAmount feature to be more conservative\n",
    "new_version = customer_inventory_28d_feature.create_new_version(\n",
    "    table_feature_job_settings=[\n",
    "        fb.TableFeatureJobSetting(\n",
    "            table_name=\"GROCERYINVOICE\",\n",
    "            feature_job_setting=fb.FeatureJobSetting(\n",
    "                blind_spot=\"160s\",\n",
    "                frequency=\"60m\",\n",
    "                time_modulo_frequency=\"90s\",\n",
    "            ),\n",
    "        ),\n",
    "    ]\n",
    ")"
   ],
   "outputs": []
  },
  {
   "cell_type": "code",
   "execution_count": 24,
   "metadata": {},
   "source": [
    "# list the feature versions\n",
    "feature_versions = customer_inventory_28d_feature.list_versions()\n",
    "\n",
    "# sort by created_at ascending\n",
    "feature_versions.sort_values(by=\"created_at\", ascending=True, inplace=True)\n",
    "\n",
    "# note that the new version is a draft, and that the old version remains production ready\n",
    "display(feature_versions)"
   ],
   "outputs": []
  },
  {
   "cell_type": "code",
   "execution_count": 25,
   "metadata": {
    "tags": []
   },
   "source": [
    "# Get the feature job settings for the new version\n",
    "new_version.info()[\"table_feature_job_setting\"][\"this\"]"
   ],
   "outputs": []
  },
  {
   "cell_type": "code",
   "execution_count": 26,
   "metadata": {
    "tags": []
   },
   "source": [
    "# Check feature definition file\n",
    "new_version.definition"
   ],
   "outputs": []
  },
  {
   "attachments": {},
   "cell_type": "markdown",
   "metadata": {},
   "source": [
    "### Example: Change default feature version mode"
   ]
  },
  {
   "attachments": {},
   "cell_type": "markdown",
   "metadata": {},
   "source": [
    "The new version of CustomerInventory_28d is not the default as this version is a draft and the prior version is production ready."
   ]
  },
  {
   "cell_type": "code",
   "execution_count": 27,
   "metadata": {
    "tags": []
   },
   "source": [
    "new_version.is_default"
   ],
   "outputs": []
  },
  {
   "attachments": {},
   "cell_type": "markdown",
   "metadata": {},
   "source": [
    "The default can be changed only if the default version mode is set as manual."
   ]
  },
  {
   "cell_type": "code",
   "execution_count": 28,
   "metadata": {
    "tags": []
   },
   "source": [
    "# guardrail if default version mode is not MANUAL\n",
    "# the new version cannot be set as the default\n",
    "try:\n",
    "    new_version.as_default_version()\n",
    "except Exception as ex:\n",
    "    print(ex)"
   ],
   "outputs": []
  },
  {
   "cell_type": "code",
   "execution_count": 29,
   "metadata": {
    "tags": []
   },
   "source": [
    "# downgrade current feature readiness to public draft first\n",
    "customer_inventory_28d_feature.update_readiness(\"PUBLIC_DRAFT\")\n",
    "\n",
    "# upgrade new version readiness to public draft, new version becomes default\n",
    "new_version.update_readiness(\"PUBLIC_DRAFT\")\n",
    "print(new_version.is_default, customer_inventory_28d_feature.is_default)"
   ],
   "outputs": []
  },
  {
   "cell_type": "code",
   "execution_count": null,
   "metadata": {},
   "source": [
    "# change mode to manual and set the original version as default\n",
    "customer_inventory_28d_feature.update_default_version_mode(\"MANUAL\")\n",
    "customer_inventory_28d_feature.as_default_version()\n",
    "print(customer_inventory_28d_feature.is_default)"
   ],
   "outputs": []
  },
  {
   "cell_type": "code",
   "execution_count": 30,
   "metadata": {
    "tags": []
   },
   "source": [
    "# change new version as default\n",
    "new_version.as_default_version()\n",
    "print(new_version.is_default)"
   ],
   "outputs": []
  },
  {
   "cell_type": "code",
   "execution_count": null,
   "metadata": {},
   "source": [
    "# upgrade new version readiness to production ready\n",
    "new_version.update_readiness(\"PRODUCTION_READY\", ignore_guardrails=True)"
   ],
   "outputs": []
  },
  {
   "attachments": {},
   "cell_type": "markdown",
   "metadata": {},
   "source": [
    "### Example: Cannot have more than one production ready version of a feature"
   ]
  },
  {
   "cell_type": "code",
   "execution_count": 32,
   "metadata": {
    "tags": []
   },
   "source": [
    "# change the readiness of the original version of CustomerInventory_28d to production ready\n",
    "try:\n",
    "    customer_inventory_28d_feature.update_readiness(\"PRODUCTION_READY\")\n",
    "except Exception as ex:\n",
    "    print(\"Error changing the readiness of the new version to production ready\")\n",
    "    print(ex)"
   ],
   "outputs": []
  },
  {
   "attachments": {},
   "cell_type": "markdown",
   "metadata": {},
   "source": [
    "### Example: Create version of a Feature List\n",
    "\n",
    "The Feature List Version allows the use of the latest version of each feature. Upon creation of a new feature list version, the latest default versions of features are employed, unless particular feature versions are specified."
   ]
  },
  {
   "cell_type": "code",
   "execution_count": 33,
   "metadata": {
    "tags": []
   },
   "source": [
    "# the current default of the feature list has all feature versions production ready\n",
    "customer_feature_list = catalog.get_feature_list(\"CustomerFeatureList\")\n",
    "customer_feature_list.list_features()"
   ],
   "outputs": []
  },
  {
   "cell_type": "code",
   "execution_count": 34,
   "metadata": {
    "tags": []
   },
   "source": [
    "# create new version with the new default of CustomerInventory_28d\n",
    "new_feature_list_version = customer_feature_list.create_new_version()"
   ],
   "outputs": []
  },
  {
   "cell_type": "code",
   "execution_count": 35,
   "metadata": {
    "tags": []
   },
   "source": [
    "new_feature_list_version.list_features()"
   ],
   "outputs": []
  },
  {
   "cell_type": "code",
   "execution_count": 36,
   "metadata": {
    "tags": []
   },
   "source": [
    "# check readiness\n",
    "new_feature_list_version.info()[\"production_ready_fraction\"]"
   ],
   "outputs": []
  },
  {
   "attachments": {},
   "cell_type": "markdown",
   "metadata": {},
   "source": [
    "### Default version of a Feature List\n",
    "\n",
    "The default version of a feature list is the version with the highest fraction of production ready features."
   ]
  },
  {
   "attachments": {},
   "cell_type": "markdown",
   "metadata": {},
   "source": [
    "The new version is not the default as its production_ready_fraction is lower than the prior version for CustomerInventory_28d."
   ]
  },
  {
   "cell_type": "code",
   "execution_count": 37,
   "metadata": {
    "tags": []
   },
   "source": [
    "# the new version is not the default as it is production_ready_fraction is lower than the current default\n",
    "new_feature_list_version.is_default"
   ],
   "outputs": []
  },
  {
   "attachments": {},
   "cell_type": "markdown",
   "metadata": {},
   "source": [
    "## Deleting Drafts\n",
    "\n",
    "While prototyping, you may create and experiment with many features and feature lists. To avoid feature explosions you should do regular cleanups of unused features and feature lists. Note that you cannot delete features or feature lists that have ever been deployed."
   ]
  },
  {
   "attachments": {},
   "cell_type": "markdown",
   "metadata": {},
   "source": [
    "### Example: Deleting a feature"
   ]
  },
  {
   "cell_type": "code",
   "execution_count": 38,
   "metadata": {},
   "source": [
    "# list all of the features in this catalog\n",
    "display(catalog.list_features())\n",
    "\n",
    "# note the feature called \"unused experimental feature\" - this is a feature that is not being used in production, and was rejected as unhelpful"
   ],
   "outputs": []
  },
  {
   "cell_type": "code",
   "execution_count": 39,
   "metadata": {},
   "source": [
    "# get the feature\n",
    "feature_to_delete = catalog.get_feature(\"unused experimental feature\")\n",
    "\n",
    "# delete the feature\n",
    "feature_to_delete.delete()"
   ],
   "outputs": []
  },
  {
   "cell_type": "code",
   "execution_count": 40,
   "metadata": {},
   "source": [
    "# list all the features and note that the deleted feature no longer appears\n",
    "display(catalog.list_features())"
   ],
   "outputs": []
  },
  {
   "attachments": {},
   "cell_type": "markdown",
   "metadata": {},
   "source": [
    "### Example: Deleting a feature list"
   ]
  },
  {
   "cell_type": "code",
   "execution_count": 41,
   "metadata": {},
   "source": [
    "# list all of the feature lists in the catalog\n",
    "display(catalog.list_feature_lists())\n",
    "\n",
    "# note the feature list called \"very short feature list\" - this is a feature list that is not being used in production, and was rejected as unhelpful"
   ],
   "outputs": []
  },
  {
   "cell_type": "code",
   "execution_count": 42,
   "metadata": {},
   "source": [
    "# get the feature list\n",
    "feature_list_to_delete = catalog.get_feature_list(\"very short feature list\")\n",
    "\n",
    "# delete the feature\n",
    "feature_list_to_delete.delete()"
   ],
   "outputs": []
  },
  {
   "cell_type": "code",
   "execution_count": 43,
   "metadata": {},
   "source": [
    "# list all the feature lists and note that the deleted feature list no longer appears\n",
    "display(catalog.list_feature_lists())"
   ],
   "outputs": []
  },
  {
   "attachments": {},
   "cell_type": "markdown",
   "metadata": {},
   "source": [
    "## Deployment Guardrails\n",
    "\n",
    "FeatureByte has guardrails for deployment, and will prevent you from deploying a feature list that has features that are not production ready.\n",
    "\n",
    "Learning Objectives\n",
    "\n",
    "In this section you will learn:\n",
    "* how to check the readiness of a feature list\n",
    "* how to deploy a feature list"
   ]
  },
  {
   "attachments": {},
   "cell_type": "markdown",
   "metadata": {},
   "source": [
    "### Example: Check readiness of a feature list\n",
    "\n",
    "The Feature List Readiness metric provides information to users about the readiness status of a Feature List. This metric represents the percentage of features that are production ready within the given feature list."
   ]
  },
  {
   "cell_type": "code",
   "execution_count": 44,
   "metadata": {
    "tags": []
   },
   "source": [
    "# get the invoice feature list\n",
    "invoice_feature_list = catalog.get_feature_list(\"InvoiceFeatureList\")\n",
    "\n",
    "# check feature list is ready to be deployed\n",
    "invoice_feature_list.info()[\"production_ready_fraction\"]"
   ],
   "outputs": []
  },
  {
   "cell_type": "code",
   "execution_count": 45,
   "metadata": {
    "tags": []
   },
   "source": [
    "invoice_feature_list.list_features()"
   ],
   "outputs": []
  },
  {
   "attachments": {},
   "cell_type": "markdown",
   "metadata": {
    "tags": []
   },
   "source": [
    "### Example: Deploy a feature list when production readiness is not 100%"
   ]
  },
  {
   "cell_type": "code",
   "execution_count": 46,
   "metadata": {},
   "source": [
    "# deploy the invoice feature list\n",
    "try:\n",
    "    bad_deployment = invoice_feature_list.deploy()\n",
    "    bad_deployment.enable()\n",
    "except Exception as ex:\n",
    "    print(\"Error deploying the invoice feature list\")\n",
    "    print(ex)"
   ],
   "outputs": []
  },
  {
   "cell_type": "code",
   "execution_count": 47,
   "metadata": {},
   "source": [
    "# show the feature lists - note that the invoice feature list has not been deployed\n",
    "catalog.list_feature_lists()"
   ],
   "outputs": []
  },
  {
   "attachments": {},
   "cell_type": "markdown",
   "metadata": {},
   "source": [
    "## Disable Deployment\n",
    "\n",
    "Learning Objectives\n",
    "\n",
    "In this section you will learn:\n",
    "* how to disable deployments"
   ]
  },
  {
   "attachments": {},
   "cell_type": "markdown",
   "metadata": {},
   "source": [
    "### Example: Disabling a deployment"
   ]
  },
  {
   "cell_type": "code",
   "execution_count": 48,
   "metadata": {},
   "source": [
    "# helper function to disable deployment for a specific feature list\n",
    "def disable_deployment(feature_list_name):\n",
    "    # list deployments\n",
    "    deployments = catalog.list_deployments()\n",
    "\n",
    "    # just the ones matching this feature list name\n",
    "    deployments = deployments.loc[deployments.feature_list_name == feature_list_name]\n",
    "\n",
    "    # disable\n",
    "    for id in deployments.id:\n",
    "        deployment = catalog.get_deployment_by_id(id)\n",
    "        deployment.disable()"
   ],
   "outputs": []
  },
  {
   "cell_type": "code",
   "execution_count": 49,
   "metadata": {},
   "source": [
    "# disable the deployments\n",
    "disable_deployment(\"CustomerFeatureList\")\n",
    "disable_deployment(\"StateFeatureList\")"
   ],
   "outputs": []
  },
  {
   "cell_type": "code",
   "execution_count": 50,
   "metadata": {
    "tags": []
   },
   "source": [
    "# show the feature lists status\n",
    "catalog.list_feature_lists()"
   ],
   "outputs": []
  },
  {
   "attachments": {},
   "cell_type": "markdown",
   "metadata": {},
   "source": [
    "## Next Steps\n",
    "\n",
    "Now that you've completed the quick-start feature management tutorial, you can put your knowledge into practice or learn more:<br>\n",
    "1) Put your knowledge into practice by creating features in the \"credit card dataset feature engineering playground\" or \"healthcare dataset feature engineering playground\" catalogs\n",
    "2) Learn more about feature engineering via the \"Deep Dive Feature Engineering\" tutorial\n",
    "3) Learn about data modeling via the \"Deep Dive Data Modeling\" tutorial"
   ]
  }
 ],
 "metadata": {
  "kernelspec": {
   "display_name": "Python 3 (ipykernel)",
   "language": "python",
   "name": "python3"
  },
  "language_info": {
   "codemirror_mode": {
    "name": "ipython",
    "version": 3
   },
   "file_extension": ".py",
   "mimetype": "text/x-python",
   "name": "python",
   "nbconvert_exporter": "python",
   "pygments_lexer": "ipython3",
   "version": "3.8.16"
  }
 },
 "nbformat": 4,
 "nbformat_minor": 4
}
