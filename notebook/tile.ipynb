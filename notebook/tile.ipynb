{
 "cells": [
  {
   "cell_type": "code",
   "execution_count": 17,
   "id": "5b3de8da",
   "metadata": {},
   "outputs": [],
   "source": [
    "import os\n",
    "import sys\n",
    "module_path = os.path.abspath(os.path.join('..'))\n",
    "if module_path not in sys.path:\n",
    "    sys.path.append(module_path)"
   ]
  },
  {
   "cell_type": "code",
   "execution_count": 18,
   "id": "7fa6af9b",
   "metadata": {},
   "outputs": [
    {
     "name": "stdout",
     "output_type": "stream",
     "text": [
      "The autoreload extension is already loaded. To reload it, use:\n",
      "  %reload_ext autoreload\n"
     ]
    }
   ],
   "source": [
    "import yaml\n",
    "\n",
    "from featurebyte.tile import TileSnowflake\n",
    "import snowflake.connector as connector\n",
    "\n",
    "import warnings\n",
    "warnings.filterwarnings('ignore')\n",
    "\n",
    "%load_ext autoreload\n",
    "%autoreload 2"
   ]
  },
  {
   "cell_type": "code",
   "execution_count": 19,
   "id": "fa9e3591",
   "metadata": {},
   "outputs": [],
   "source": [
    "with open('../config.yml', 'r') as file:\n",
    "    config = yaml.safe_load(file)\n",
    "\n",
    "snow_config = config['snowflake']\n",
    "github_config = config['github']"
   ]
  },
  {
   "cell_type": "code",
   "execution_count": 20,
   "id": "56e8907a",
   "metadata": {},
   "outputs": [],
   "source": [
    "ds = 'tile_ds'\n",
    "\n",
    "user=snow_config['user']\n",
    "password=snow_config['password']\n",
    "url=snow_config['account']\n",
    "database=snow_config[ds]['database']\n",
    "schema=snow_config[ds]['schema'] \n",
    "warehouse=snow_config[ds]['warehouse']\n",
    "\n",
    "conn = connector.connect(user=user, password=password, account=url, database=database, schema=schema,\n",
    "                                      warehouse=warehouse)"
   ]
  },
  {
   "cell_type": "markdown",
   "id": "f9041ae4",
   "metadata": {},
   "source": [
    "# Test 1: Manual Generate Tiles"
   ]
  },
  {
   "cell_type": "code",
   "execution_count": 21,
   "id": "b8e7ad22",
   "metadata": {},
   "outputs": [],
   "source": [
    "feature_name = 'feature1'\n",
    "window_end_minute = 3\n",
    "blind_spot_seconds = 3\n",
    "frequency = 5\n",
    "\n",
    "column_names = [\"tile_start_ts\", \"product_action\", \"cust_id\", \"value\"]\n",
    "\n",
    "tile_sql = \"select tile_start_ts, product_action, cust_id, value from tile_testing \" \\\n",
    "    + \" where tile_start_ts >= FB_START_TS \" \\\n",
    "    + \" and tile_start_ts < FB_END_TS \"\n",
    "    \n",
    "tile_mgr = TileSnowflake(conn, feature_name, window_end_minute, blind_spot_seconds, frequency, tile_sql, column_names)"
   ]
  },
  {
   "cell_type": "code",
   "execution_count": 22,
   "id": "ae56e3b1",
   "metadata": {},
   "outputs": [
    {
     "name": "stderr",
     "output_type": "stream",
     "text": [
      "[I 220530 16:51:43 snowflake_tile:65] \n",
      "        call SP_TILE_GENERATE(\n",
      "            'select tile_start_ts, product_action, cust_id, value from tile_testing  where tile_start_ts >= \\'2022-05-31 23:38:00\\'  and tile_start_ts < \\'2022-06-01 00:00:00\\' ', 3, 5, 'tile_start_ts,product_action,cust_id,value', 'FEATURE1_TILE_ONLINE'\n",
      "        )\n",
      "    \n"
     ]
    }
   ],
   "source": [
    "tile_mgr.generate_tiles(table_name=\"FEATURE1_TILE_ONLINE\", \n",
    "                        start_ts='2022-05-31 23:38:00', \n",
    "                        end_ts='2022-06-01 00:00:00')"
   ]
  },
  {
   "cell_type": "markdown",
   "id": "5843b98c",
   "metadata": {},
   "source": [
    "# Test 2: Online Tile Monitoring\n",
    "\n",
    "* Manually change Tile values\n",
    "* Manually run scheduled stored proc\n",
    "* Monitoring records generated\n"
   ]
  },
  {
   "cell_type": "code",
   "execution_count": 24,
   "id": "3dc78b4e",
   "metadata": {},
   "outputs": [
    {
     "name": "stderr",
     "output_type": "stream",
     "text": [
      "[I 220530 16:54:23 snowflake_tile:89] \n",
      "        call SP_TILE_GENERATE_SCHEDULE(\n",
      "            'FEATURE1', 3, 3, 5, 'select tile_start_ts, product_action, cust_id, value from tile_testing  where tile_start_ts >= FB_START_TS  and tile_start_ts < FB_END_TS ',\n",
      "            'tile_start_ts,product_action,cust_id,value', 'ONLINE', 5, '2022-06-01 00:00:00'\n",
      "        )\n",
      "    \n"
     ]
    }
   ],
   "source": [
    "tile_mgr.schedule_tiles(tile_type=\"online\", end_ts='2022-06-01 00:00:00', monitor_periods=5)"
   ]
  },
  {
   "cell_type": "markdown",
   "id": "606e382d",
   "metadata": {},
   "source": [
    "# Test 3: Create Schedule Task for Ongoing Online Tile Generation and Monitoring"
   ]
  },
  {
   "cell_type": "code",
   "execution_count": 8,
   "id": "0f74ff73",
   "metadata": {},
   "outputs": [
    {
     "name": "stderr",
     "output_type": "stream",
     "text": [
      "[I 220527 22:44:14 snowflake_tile:89] \n",
      "        CREATE OR REPLACE TASK TASK_FEATURE1_ONLINE_TILE\n",
      "          WAREHOUSE = COMPUTE_WH\n",
      "          SCHEDULE = 'USING CRON 3-59/5 * * * * UTC'\n",
      "        AS\n",
      "            call SP_TILE_GENERATE_SCHEDULE(\n",
      "                'FEATURE1', 3, 3, 5, 'select tile_start_ts, product_action, cust_id, value from tile_testing  where tile_start_ts >= FB_START_TS  and tile_start_ts < FB_END_TS ',\n",
      "                'tile_start_ts,product_action,cust_id,value', 'ONLINE', 2, NULL\n",
      "            )\n",
      "    \n",
      "[I 220527 22:44:14 snowflake_tile:93] task_name: TASK_FEATURE1_ONLINE_TILE\n"
     ]
    }
   ],
   "source": [
    "tile_mgr.schedule_tiles(tile_type=\"online\")"
   ]
  },
  {
   "cell_type": "code",
   "execution_count": null,
   "id": "c4763149",
   "metadata": {},
   "outputs": [],
   "source": []
  }
 ],
 "metadata": {
  "kernelspec": {
   "display_name": "Python 3 (ipykernel)",
   "language": "python",
   "name": "python3"
  },
  "language_info": {
   "codemirror_mode": {
    "name": "ipython",
    "version": 3
   },
   "file_extension": ".py",
   "mimetype": "text/x-python",
   "name": "python",
   "nbconvert_exporter": "python",
   "pygments_lexer": "ipython3",
   "version": "3.9.7"
  }
 },
 "nbformat": 4,
 "nbformat_minor": 5
}
