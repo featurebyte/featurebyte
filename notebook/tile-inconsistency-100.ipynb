{
 "cells": [
  {
   "cell_type": "code",
   "execution_count": 1,
   "id": "5b3de8da",
   "metadata": {},
   "outputs": [],
   "source": [
    "import os\n",
    "import sys\n",
    "module_path = os.path.abspath(os.path.join('..'))\n",
    "if module_path not in sys.path:\n",
    "    sys.path.append(module_path)"
   ]
  },
  {
   "cell_type": "code",
   "execution_count": 2,
   "id": "7fa6af9b",
   "metadata": {},
   "outputs": [],
   "source": [
    "import yaml\n",
    "\n",
    "import snowflake.connector as connector\n",
    "from datetime import datetime, timedelta\n",
    "\n",
    "import warnings\n",
    "warnings.filterwarnings('ignore')\n",
    "\n",
    "%load_ext autoreload\n",
    "%autoreload 2"
   ]
  },
  {
   "cell_type": "code",
   "execution_count": 3,
   "id": "fa9e3591",
   "metadata": {},
   "outputs": [],
   "source": [
    "with open('../config.yml', 'r') as file:\n",
    "    config = yaml.safe_load(file)\n",
    "\n",
    "snow_config = config['snowflake']\n",
    "github_config = config['github']"
   ]
  },
  {
   "cell_type": "code",
   "execution_count": 4,
   "id": "56e8907a",
   "metadata": {},
   "outputs": [],
   "source": [
    "ds = 'tile_ds'\n",
    "\n",
    "user=snow_config['user']\n",
    "password=snow_config['password']\n",
    "url=snow_config['account']\n",
    "database=snow_config[ds]['database']\n",
    "schema=snow_config[ds]['schema'] \n",
    "warehouse=snow_config[ds]['warehouse']\n",
    "\n",
    "conn = connector.connect(user=user, \n",
    "                         password=password, \n",
    "                         account=url, \n",
    "                         database=\"FB_SIMULATE\", \n",
    "                         schema=\"FEATUREBYTE\",\n",
    "                         warehouse=\"FB_TILE_WH\")"
   ]
  },
  {
   "cell_type": "code",
   "execution_count": 5,
   "id": "f782eddb",
   "metadata": {},
   "outputs": [],
   "source": [
    "def execute(sql):\n",
    "    cs = conn.cursor()\n",
    "    try:\n",
    "        cs.execute(sql)\n",
    "        return cs.fetch_pandas_all()\n",
    "    finally:\n",
    "        cs.close()\n",
    "\n",
    "sql_template = \"\"\"\n",
    "    select entity_id, F_INDEX_TO_TIMESTAMP(index, 15, ${BLIND_SPOT}, 1) as tile_start_ts, count(*) as value\n",
    "    from (\n",
    "        select \n",
    "            entity_id,            \n",
    "            F_TIMESTAMP_TO_INDEX(event_timestamp, 15, ${BLIND_SPOT}, 1) as index,\n",
    "            value\n",
    "        from FB_TEST.TEMP\n",
    "        where event_timestamp < FB_END_TS\n",
    "        and wh_available_at <= '${FEATURE_JOB_TS}'\n",
    "    )\n",
    "    where tile_start_ts < FB_END_TS\n",
    "    group by entity_id, tile_start_ts\n",
    "\"\"\"\n",
    "\n",
    "sql_sp = \"\"\"\n",
    "    call SP_TILE_GENERATE_SCHEDULE('${TILE_NAME}', 15, ${BLIND_SPOT}, 1, 1440, '${SQL}', \n",
    "        'entity_id, tile_start_ts, value', \n",
    "        'online', 10, \n",
    "        '${TILE_END_TS}')\n",
    "\"\"\""
   ]
  },
  {
   "cell_type": "code",
   "execution_count": 6,
   "id": "ec8fc691",
   "metadata": {},
   "outputs": [],
   "source": [
    "def check_tile(feature_job_ts_str):\n",
    "    #feature_job_ts = datetime.fromisoformat(\"2022-06-09 01:51:15\")\n",
    "    feature_job_ts = datetime.fromisoformat(feature_job_ts_str)\n",
    "    tile_end_ts = feature_job_ts - timedelta(seconds=blind_spot)\n",
    "    \n",
    "    feature_job_ts_str = feature_job_ts.strftime(\"%Y-%m-%dT%H:%M:%S.00Z\")\n",
    "    tile_end_ts_str = tile_end_ts.strftime(\"%Y-%m-%dT%H:%M:%S.00Z\")\n",
    "\n",
    "    sql = sql_template.replace(\"${BLIND_SPOT}\", str(blind_spot)).replace(\"${FEATURE_JOB_TS}\", feature_job_ts_str)\n",
    "    \n",
    "    sql_check = sql.replace(\"FB_END_TS\", \"\\'\"+tile_end_ts_str+\"\\'\")\n",
    "    print(sql_check)\n",
    "    df = execute(sql_check)\n",
    "    \n",
    "    return sql, tile_end_ts_str, df\n",
    "\n",
    "\n",
    "def generate_tile(input_sql, tile_end_ts_str):\n",
    "    sql2 = input_sql.replace(\"'\", \"\\\\\\\\\\\\'\")\n",
    "    \n",
    "    sql3 = sql_sp_new.replace(\"${SQL}\", sql2) \\\n",
    "        .replace(\"${TILE_END_TS}\", tile_end_ts_str) \\\n",
    "        .replace(\"${BLIND_SPOT}\", str(blind_spot))\n",
    "    \n",
    "    print(sql3)\n",
    "\n",
    "    return execute(sql3)\n",
    "\n",
    "def check_monitor(tile_name):\n",
    "    df = execute(f\"SELECT * FROM {tile_name}_tile_monitor order by TILE_START_TS desc\")\n",
    "    return df\n",
    "\n",
    "def check_result_tiles(tile_name):\n",
    "    sql = f\"SELECT F_INDEX_TO_TIMESTAMP(index, 15, {blind_spot}, 1) as tile_start_ts, * FROM {tile_name}_tile order by TILE_START_TS desc\"\n",
    "    df = execute(sql)\n",
    "    return df"
   ]
  },
  {
   "cell_type": "markdown",
   "id": "a86f44a4",
   "metadata": {},
   "source": [
    "# 1 FeatureJob with BlindSpot 100 Seconds"
   ]
  },
  {
   "cell_type": "markdown",
   "id": "a458f4d6",
   "metadata": {},
   "source": [
    "* The feature job is scheduled every min at **15s**\n",
    "* Blind spot is not set optimally. Blind spot is equal to **100s**\n",
    "* Tiles size is **1min**"
   ]
  },
  {
   "cell_type": "code",
   "execution_count": 10,
   "id": "4c58eee9",
   "metadata": {},
   "outputs": [],
   "source": [
    "blind_spot = 100\n",
    "tile_name = f\"TEMP_{blind_spot}\"\n",
    "sql_sp_new = sql_sp.replace(\"${TILE_NAME}\", tile_name).replace(\"${BLIND_SPOT}\", str(blind_spot))"
   ]
  },
  {
   "cell_type": "markdown",
   "id": "d48fbfce",
   "metadata": {},
   "source": [
    "### 1.1 FeatureJob at 01:15"
   ]
  },
  {
   "cell_type": "code",
   "execution_count": 11,
   "id": "c4763149",
   "metadata": {},
   "outputs": [
    {
     "name": "stdout",
     "output_type": "stream",
     "text": [
      "\n",
      "    select entity_id, F_INDEX_TO_TIMESTAMP(index, 15, 100, 1) as tile_start_ts, count(*) as value\n",
      "    from (\n",
      "        select \n",
      "            entity_id,            \n",
      "            F_TIMESTAMP_TO_INDEX(event_timestamp, 15, 100, 1) as index,\n",
      "            value\n",
      "        from FB_TEST.TEMP\n",
      "        where event_timestamp < '2022-06-09T01:49:35.00Z'\n",
      "        and wh_available_at <= '2022-06-09T01:51:15.00Z'\n",
      "    )\n",
      "    where tile_start_ts < '2022-06-09T01:49:35.00Z'\n",
      "    group by entity_id, tile_start_ts\n",
      "\n"
     ]
    },
    {
     "data": {
      "text/html": [
       "<div>\n",
       "<style scoped>\n",
       "    .dataframe tbody tr th:only-of-type {\n",
       "        vertical-align: middle;\n",
       "    }\n",
       "\n",
       "    .dataframe tbody tr th {\n",
       "        vertical-align: top;\n",
       "    }\n",
       "\n",
       "    .dataframe thead th {\n",
       "        text-align: right;\n",
       "    }\n",
       "</style>\n",
       "<table border=\"1\" class=\"dataframe\">\n",
       "  <thead>\n",
       "    <tr style=\"text-align: right;\">\n",
       "      <th></th>\n",
       "      <th>ENTITY_ID</th>\n",
       "      <th>TILE_START_TS</th>\n",
       "      <th>VALUE</th>\n",
       "    </tr>\n",
       "  </thead>\n",
       "  <tbody>\n",
       "  </tbody>\n",
       "</table>\n",
       "</div>"
      ],
      "text/plain": [
       "Empty DataFrame\n",
       "Columns: [ENTITY_ID, TILE_START_TS, VALUE]\n",
       "Index: []"
      ]
     },
     "execution_count": 11,
     "metadata": {},
     "output_type": "execute_result"
    }
   ],
   "source": [
    "sql, tile_end_ts, df = check_tile(\"2022-06-09 01:51:15\")\n",
    "df"
   ]
  },
  {
   "cell_type": "code",
   "execution_count": 12,
   "id": "2fddd6d4",
   "metadata": {},
   "outputs": [
    {
     "name": "stdout",
     "output_type": "stream",
     "text": [
      "\n",
      "    call SP_TILE_GENERATE_SCHEDULE('TEMP_100', 15, 100, 1, 1440, '\n",
      "    select entity_id, F_INDEX_TO_TIMESTAMP(index, 15, 100, 1) as tile_start_ts, count(*) as value\n",
      "    from (\n",
      "        select \n",
      "            entity_id,            \n",
      "            F_TIMESTAMP_TO_INDEX(event_timestamp, 15, 100, 1) as index,\n",
      "            value\n",
      "        from FB_TEST.TEMP\n",
      "        where event_timestamp < FB_END_TS\n",
      "        and wh_available_at <= \\\\\\'2022-06-09T01:51:15.00Z\\\\\\'\n",
      "    )\n",
      "    where tile_start_ts < FB_END_TS\n",
      "    group by entity_id, tile_start_ts\n",
      "', \n",
      "        'entity_id, tile_start_ts, value', \n",
      "        'online', 10, \n",
      "        '2022-06-09T01:49:35.00Z')\n",
      "\n"
     ]
    },
    {
     "data": {
      "text/html": [
       "<div>\n",
       "<style scoped>\n",
       "    .dataframe tbody tr th:only-of-type {\n",
       "        vertical-align: middle;\n",
       "    }\n",
       "\n",
       "    .dataframe tbody tr th {\n",
       "        vertical-align: top;\n",
       "    }\n",
       "\n",
       "    .dataframe thead th {\n",
       "        text-align: right;\n",
       "    }\n",
       "</style>\n",
       "<table border=\"1\" class=\"dataframe\">\n",
       "  <thead>\n",
       "    <tr style=\"text-align: right;\">\n",
       "      <th></th>\n",
       "      <th>SP_TILE_GENERATE_SCHEDULE</th>\n",
       "    </tr>\n",
       "  </thead>\n",
       "  <tbody>\n",
       "    <tr>\n",
       "      <th>0</th>\n",
       "      <td>Debug - cron_residue_seconds: 15 - END_TS: Wed...</td>\n",
       "    </tr>\n",
       "  </tbody>\n",
       "</table>\n",
       "</div>"
      ],
      "text/plain": [
       "                           SP_TILE_GENERATE_SCHEDULE\n",
       "0  Debug - cron_residue_seconds: 15 - END_TS: Wed..."
      ]
     },
     "execution_count": 12,
     "metadata": {},
     "output_type": "execute_result"
    }
   ],
   "source": [
    "generate_tile(sql, tile_end_ts)"
   ]
  },
  {
   "cell_type": "code",
   "execution_count": 13,
   "id": "438277aa",
   "metadata": {},
   "outputs": [
    {
     "data": {
      "text/html": [
       "<div>\n",
       "<style scoped>\n",
       "    .dataframe tbody tr th:only-of-type {\n",
       "        vertical-align: middle;\n",
       "    }\n",
       "\n",
       "    .dataframe tbody tr th {\n",
       "        vertical-align: top;\n",
       "    }\n",
       "\n",
       "    .dataframe thead th {\n",
       "        text-align: right;\n",
       "    }\n",
       "</style>\n",
       "<table border=\"1\" class=\"dataframe\">\n",
       "  <thead>\n",
       "    <tr style=\"text-align: right;\">\n",
       "      <th></th>\n",
       "      <th>TILE_START_TS</th>\n",
       "      <th>INDEX</th>\n",
       "      <th>ENTITY_ID</th>\n",
       "      <th>VALUE</th>\n",
       "      <th>CREATED_AT</th>\n",
       "    </tr>\n",
       "  </thead>\n",
       "  <tbody>\n",
       "  </tbody>\n",
       "</table>\n",
       "</div>"
      ],
      "text/plain": [
       "Empty DataFrame\n",
       "Columns: [TILE_START_TS, INDEX, ENTITY_ID, VALUE, CREATED_AT]\n",
       "Index: []"
      ]
     },
     "execution_count": 13,
     "metadata": {},
     "output_type": "execute_result"
    }
   ],
   "source": [
    "check_result_tiles(tile_name)"
   ]
  },
  {
   "cell_type": "code",
   "execution_count": null,
   "id": "ee62d88d",
   "metadata": {},
   "outputs": [],
   "source": []
  },
  {
   "cell_type": "markdown",
   "id": "2871b184",
   "metadata": {},
   "source": [
    "### 1.2 FeatureJob at 02:15"
   ]
  },
  {
   "cell_type": "code",
   "execution_count": 14,
   "id": "f5185f8c",
   "metadata": {},
   "outputs": [
    {
     "name": "stdout",
     "output_type": "stream",
     "text": [
      "\n",
      "    select entity_id, F_INDEX_TO_TIMESTAMP(index, 15, 100, 1) as tile_start_ts, count(*) as value\n",
      "    from (\n",
      "        select \n",
      "            entity_id,            \n",
      "            F_TIMESTAMP_TO_INDEX(event_timestamp, 15, 100, 1) as index,\n",
      "            value\n",
      "        from FB_TEST.TEMP\n",
      "        where event_timestamp < '2022-06-09T01:50:35.00Z'\n",
      "        and wh_available_at <= '2022-06-09T01:52:15.00Z'\n",
      "    )\n",
      "    where tile_start_ts < '2022-06-09T01:50:35.00Z'\n",
      "    group by entity_id, tile_start_ts\n",
      "\n"
     ]
    },
    {
     "data": {
      "text/html": [
       "<div>\n",
       "<style scoped>\n",
       "    .dataframe tbody tr th:only-of-type {\n",
       "        vertical-align: middle;\n",
       "    }\n",
       "\n",
       "    .dataframe tbody tr th {\n",
       "        vertical-align: top;\n",
       "    }\n",
       "\n",
       "    .dataframe thead th {\n",
       "        text-align: right;\n",
       "    }\n",
       "</style>\n",
       "<table border=\"1\" class=\"dataframe\">\n",
       "  <thead>\n",
       "    <tr style=\"text-align: right;\">\n",
       "      <th></th>\n",
       "      <th>ENTITY_ID</th>\n",
       "      <th>TILE_START_TS</th>\n",
       "      <th>VALUE</th>\n",
       "    </tr>\n",
       "  </thead>\n",
       "  <tbody>\n",
       "    <tr>\n",
       "      <th>0</th>\n",
       "      <td>1</td>\n",
       "      <td>2022-06-09 01:49:35</td>\n",
       "      <td>3</td>\n",
       "    </tr>\n",
       "  </tbody>\n",
       "</table>\n",
       "</div>"
      ],
      "text/plain": [
       "   ENTITY_ID        TILE_START_TS  VALUE\n",
       "0          1  2022-06-09 01:49:35      3"
      ]
     },
     "execution_count": 14,
     "metadata": {},
     "output_type": "execute_result"
    }
   ],
   "source": [
    "sql, tile_end_ts, df = check_tile(\"2022-06-09 01:52:15\")\n",
    "df"
   ]
  },
  {
   "cell_type": "code",
   "execution_count": 15,
   "id": "92177a1c",
   "metadata": {},
   "outputs": [
    {
     "name": "stdout",
     "output_type": "stream",
     "text": [
      "\n",
      "    call SP_TILE_GENERATE_SCHEDULE('TEMP_100', 15, 100, 1, 1440, '\n",
      "    select entity_id, F_INDEX_TO_TIMESTAMP(index, 15, 100, 1) as tile_start_ts, count(*) as value\n",
      "    from (\n",
      "        select \n",
      "            entity_id,            \n",
      "            F_TIMESTAMP_TO_INDEX(event_timestamp, 15, 100, 1) as index,\n",
      "            value\n",
      "        from FB_TEST.TEMP\n",
      "        where event_timestamp < FB_END_TS\n",
      "        and wh_available_at <= \\\\\\'2022-06-09T01:52:15.00Z\\\\\\'\n",
      "    )\n",
      "    where tile_start_ts < FB_END_TS\n",
      "    group by entity_id, tile_start_ts\n",
      "', \n",
      "        'entity_id, tile_start_ts, value', \n",
      "        'online', 10, \n",
      "        '2022-06-09T01:50:35.00Z')\n",
      "\n"
     ]
    },
    {
     "data": {
      "text/html": [
       "<div>\n",
       "<style scoped>\n",
       "    .dataframe tbody tr th:only-of-type {\n",
       "        vertical-align: middle;\n",
       "    }\n",
       "\n",
       "    .dataframe tbody tr th {\n",
       "        vertical-align: top;\n",
       "    }\n",
       "\n",
       "    .dataframe thead th {\n",
       "        text-align: right;\n",
       "    }\n",
       "</style>\n",
       "<table border=\"1\" class=\"dataframe\">\n",
       "  <thead>\n",
       "    <tr style=\"text-align: right;\">\n",
       "      <th></th>\n",
       "      <th>SP_TILE_GENERATE_SCHEDULE</th>\n",
       "    </tr>\n",
       "  </thead>\n",
       "  <tbody>\n",
       "    <tr>\n",
       "      <th>0</th>\n",
       "      <td>Debug - cron_residue_seconds: 15 - END_TS: Wed...</td>\n",
       "    </tr>\n",
       "  </tbody>\n",
       "</table>\n",
       "</div>"
      ],
      "text/plain": [
       "                           SP_TILE_GENERATE_SCHEDULE\n",
       "0  Debug - cron_residue_seconds: 15 - END_TS: Wed..."
      ]
     },
     "execution_count": 15,
     "metadata": {},
     "output_type": "execute_result"
    }
   ],
   "source": [
    "generate_tile(sql, tile_end_ts)"
   ]
  },
  {
   "cell_type": "code",
   "execution_count": 16,
   "id": "f98c1b69",
   "metadata": {},
   "outputs": [
    {
     "data": {
      "text/html": [
       "<div>\n",
       "<style scoped>\n",
       "    .dataframe tbody tr th:only-of-type {\n",
       "        vertical-align: middle;\n",
       "    }\n",
       "\n",
       "    .dataframe tbody tr th {\n",
       "        vertical-align: top;\n",
       "    }\n",
       "\n",
       "    .dataframe thead th {\n",
       "        text-align: right;\n",
       "    }\n",
       "</style>\n",
       "<table border=\"1\" class=\"dataframe\">\n",
       "  <thead>\n",
       "    <tr style=\"text-align: right;\">\n",
       "      <th></th>\n",
       "      <th>TILE_START_TS</th>\n",
       "      <th>INDEX</th>\n",
       "      <th>ENTITY_ID</th>\n",
       "      <th>VALUE</th>\n",
       "      <th>CREATED_AT</th>\n",
       "    </tr>\n",
       "  </thead>\n",
       "  <tbody>\n",
       "    <tr>\n",
       "      <th>0</th>\n",
       "      <td>2022-06-09 01:49:35</td>\n",
       "      <td>27578991</td>\n",
       "      <td>1</td>\n",
       "      <td>3</td>\n",
       "      <td>2022-06-10 05:36:50.898</td>\n",
       "    </tr>\n",
       "  </tbody>\n",
       "</table>\n",
       "</div>"
      ],
      "text/plain": [
       "         TILE_START_TS     INDEX  ENTITY_ID  VALUE              CREATED_AT\n",
       "0  2022-06-09 01:49:35  27578991          1      3 2022-06-10 05:36:50.898"
      ]
     },
     "execution_count": 16,
     "metadata": {},
     "output_type": "execute_result"
    }
   ],
   "source": [
    "check_result_tiles(tile_name)"
   ]
  },
  {
   "cell_type": "code",
   "execution_count": 17,
   "id": "62fb20a1",
   "metadata": {},
   "outputs": [
    {
     "data": {
      "text/html": [
       "<div>\n",
       "<style scoped>\n",
       "    .dataframe tbody tr th:only-of-type {\n",
       "        vertical-align: middle;\n",
       "    }\n",
       "\n",
       "    .dataframe tbody tr th {\n",
       "        vertical-align: top;\n",
       "    }\n",
       "\n",
       "    .dataframe thead th {\n",
       "        text-align: right;\n",
       "    }\n",
       "</style>\n",
       "<table border=\"1\" class=\"dataframe\">\n",
       "  <thead>\n",
       "    <tr style=\"text-align: right;\">\n",
       "      <th></th>\n",
       "      <th>TILE_START_TS</th>\n",
       "      <th>INDEX</th>\n",
       "      <th>ENTITY_ID</th>\n",
       "      <th>VALUE</th>\n",
       "      <th>OLD_VALUE</th>\n",
       "      <th>TILE_TYPE</th>\n",
       "      <th>EXPECTED_CREATED_AT</th>\n",
       "      <th>CREATED_AT</th>\n",
       "    </tr>\n",
       "  </thead>\n",
       "  <tbody>\n",
       "  </tbody>\n",
       "</table>\n",
       "</div>"
      ],
      "text/plain": [
       "Empty DataFrame\n",
       "Columns: [TILE_START_TS, INDEX, ENTITY_ID, VALUE, OLD_VALUE, TILE_TYPE, EXPECTED_CREATED_AT, CREATED_AT]\n",
       "Index: []"
      ]
     },
     "execution_count": 17,
     "metadata": {},
     "output_type": "execute_result"
    }
   ],
   "source": [
    "check_monitor(tile_name)"
   ]
  },
  {
   "cell_type": "code",
   "execution_count": null,
   "id": "bdc12b78",
   "metadata": {},
   "outputs": [],
   "source": []
  },
  {
   "cell_type": "markdown",
   "id": "31d7b180",
   "metadata": {},
   "source": [
    "### 1.3 FeatureJob at 03:15"
   ]
  },
  {
   "cell_type": "code",
   "execution_count": 18,
   "id": "725c4092",
   "metadata": {},
   "outputs": [
    {
     "name": "stdout",
     "output_type": "stream",
     "text": [
      "Running for  2022-06-09 01:53:15\n",
      "\n",
      "    select entity_id, F_INDEX_TO_TIMESTAMP(index, 15, 100, 1) as tile_start_ts, count(*) as value\n",
      "    from (\n",
      "        select \n",
      "            entity_id,            \n",
      "            F_TIMESTAMP_TO_INDEX(event_timestamp, 15, 100, 1) as index,\n",
      "            value\n",
      "        from FB_TEST.TEMP\n",
      "        where event_timestamp < '2022-06-09T01:51:35.00Z'\n",
      "        and wh_available_at <= '2022-06-09T01:53:15.00Z'\n",
      "    )\n",
      "    where tile_start_ts < '2022-06-09T01:51:35.00Z'\n",
      "    group by entity_id, tile_start_ts\n",
      "\n",
      "\n",
      "    call SP_TILE_GENERATE_SCHEDULE('TEMP_100', 15, 100, 1, 1440, '\n",
      "    select entity_id, F_INDEX_TO_TIMESTAMP(index, 15, 100, 1) as tile_start_ts, count(*) as value\n",
      "    from (\n",
      "        select \n",
      "            entity_id,            \n",
      "            F_TIMESTAMP_TO_INDEX(event_timestamp, 15, 100, 1) as index,\n",
      "            value\n",
      "        from FB_TEST.TEMP\n",
      "        where event_timestamp < FB_END_TS\n",
      "        and wh_available_at <= \\\\\\'2022-06-09T01:53:15.00Z\\\\\\'\n",
      "    )\n",
      "    where tile_start_ts < FB_END_TS\n",
      "    group by entity_id, tile_start_ts\n",
      "', \n",
      "        'entity_id, tile_start_ts, value', \n",
      "        'online', 10, \n",
      "        '2022-06-09T01:51:35.00Z')\n",
      "\n"
     ]
    },
    {
     "data": {
      "text/html": [
       "<div>\n",
       "<style scoped>\n",
       "    .dataframe tbody tr th:only-of-type {\n",
       "        vertical-align: middle;\n",
       "    }\n",
       "\n",
       "    .dataframe tbody tr th {\n",
       "        vertical-align: top;\n",
       "    }\n",
       "\n",
       "    .dataframe thead th {\n",
       "        text-align: right;\n",
       "    }\n",
       "</style>\n",
       "<table border=\"1\" class=\"dataframe\">\n",
       "  <thead>\n",
       "    <tr style=\"text-align: right;\">\n",
       "      <th></th>\n",
       "      <th>SP_TILE_GENERATE_SCHEDULE</th>\n",
       "    </tr>\n",
       "  </thead>\n",
       "  <tbody>\n",
       "    <tr>\n",
       "      <th>0</th>\n",
       "      <td>Debug - cron_residue_seconds: 15 - END_TS: Wed...</td>\n",
       "    </tr>\n",
       "  </tbody>\n",
       "</table>\n",
       "</div>"
      ],
      "text/plain": [
       "                           SP_TILE_GENERATE_SCHEDULE\n",
       "0  Debug - cron_residue_seconds: 15 - END_TS: Wed..."
      ]
     },
     "execution_count": 18,
     "metadata": {},
     "output_type": "execute_result"
    }
   ],
   "source": [
    "ts = \"2022-06-09 01:53:15\"\n",
    "print('Running for ', ts)\n",
    "sql, tile_end_ts, df = check_tile(ts)\n",
    "generate_tile(sql, tile_end_ts)"
   ]
  },
  {
   "cell_type": "code",
   "execution_count": 19,
   "id": "e695e660",
   "metadata": {},
   "outputs": [
    {
     "data": {
      "text/html": [
       "<div>\n",
       "<style scoped>\n",
       "    .dataframe tbody tr th:only-of-type {\n",
       "        vertical-align: middle;\n",
       "    }\n",
       "\n",
       "    .dataframe tbody tr th {\n",
       "        vertical-align: top;\n",
       "    }\n",
       "\n",
       "    .dataframe thead th {\n",
       "        text-align: right;\n",
       "    }\n",
       "</style>\n",
       "<table border=\"1\" class=\"dataframe\">\n",
       "  <thead>\n",
       "    <tr style=\"text-align: right;\">\n",
       "      <th></th>\n",
       "      <th>TILE_START_TS</th>\n",
       "      <th>INDEX</th>\n",
       "      <th>ENTITY_ID</th>\n",
       "      <th>VALUE</th>\n",
       "      <th>CREATED_AT</th>\n",
       "    </tr>\n",
       "  </thead>\n",
       "  <tbody>\n",
       "    <tr>\n",
       "      <th>0</th>\n",
       "      <td>2022-06-09 01:50:35</td>\n",
       "      <td>27578992</td>\n",
       "      <td>1</td>\n",
       "      <td>4</td>\n",
       "      <td>2022-06-10 05:37:16.381</td>\n",
       "    </tr>\n",
       "    <tr>\n",
       "      <th>1</th>\n",
       "      <td>2022-06-09 01:49:35</td>\n",
       "      <td>27578991</td>\n",
       "      <td>1</td>\n",
       "      <td>3</td>\n",
       "      <td>2022-06-10 05:37:16.381</td>\n",
       "    </tr>\n",
       "  </tbody>\n",
       "</table>\n",
       "</div>"
      ],
      "text/plain": [
       "         TILE_START_TS     INDEX  ENTITY_ID  VALUE              CREATED_AT\n",
       "0  2022-06-09 01:50:35  27578992          1      4 2022-06-10 05:37:16.381\n",
       "1  2022-06-09 01:49:35  27578991          1      3 2022-06-10 05:37:16.381"
      ]
     },
     "execution_count": 19,
     "metadata": {},
     "output_type": "execute_result"
    }
   ],
   "source": [
    "check_result_tiles(tile_name)"
   ]
  },
  {
   "cell_type": "code",
   "execution_count": 20,
   "id": "e21bc6ff",
   "metadata": {},
   "outputs": [
    {
     "data": {
      "text/html": [
       "<div>\n",
       "<style scoped>\n",
       "    .dataframe tbody tr th:only-of-type {\n",
       "        vertical-align: middle;\n",
       "    }\n",
       "\n",
       "    .dataframe tbody tr th {\n",
       "        vertical-align: top;\n",
       "    }\n",
       "\n",
       "    .dataframe thead th {\n",
       "        text-align: right;\n",
       "    }\n",
       "</style>\n",
       "<table border=\"1\" class=\"dataframe\">\n",
       "  <thead>\n",
       "    <tr style=\"text-align: right;\">\n",
       "      <th></th>\n",
       "      <th>TILE_START_TS</th>\n",
       "      <th>INDEX</th>\n",
       "      <th>ENTITY_ID</th>\n",
       "      <th>VALUE</th>\n",
       "      <th>OLD_VALUE</th>\n",
       "      <th>TILE_TYPE</th>\n",
       "      <th>EXPECTED_CREATED_AT</th>\n",
       "      <th>CREATED_AT</th>\n",
       "    </tr>\n",
       "  </thead>\n",
       "  <tbody>\n",
       "  </tbody>\n",
       "</table>\n",
       "</div>"
      ],
      "text/plain": [
       "Empty DataFrame\n",
       "Columns: [TILE_START_TS, INDEX, ENTITY_ID, VALUE, OLD_VALUE, TILE_TYPE, EXPECTED_CREATED_AT, CREATED_AT]\n",
       "Index: []"
      ]
     },
     "execution_count": 20,
     "metadata": {},
     "output_type": "execute_result"
    }
   ],
   "source": [
    "check_monitor(tile_name)"
   ]
  },
  {
   "cell_type": "code",
   "execution_count": null,
   "id": "452ce975",
   "metadata": {},
   "outputs": [],
   "source": []
  },
  {
   "cell_type": "markdown",
   "id": "fa28abad",
   "metadata": {},
   "source": [
    "### 1.4 FeatureJob at 04:15"
   ]
  },
  {
   "cell_type": "code",
   "execution_count": 21,
   "id": "bb33fd92",
   "metadata": {},
   "outputs": [
    {
     "name": "stdout",
     "output_type": "stream",
     "text": [
      "\n",
      "    select entity_id, F_INDEX_TO_TIMESTAMP(index, 15, 100, 1) as tile_start_ts, count(*) as value\n",
      "    from (\n",
      "        select \n",
      "            entity_id,            \n",
      "            F_TIMESTAMP_TO_INDEX(event_timestamp, 15, 100, 1) as index,\n",
      "            value\n",
      "        from FB_TEST.TEMP\n",
      "        where event_timestamp < '2022-06-09T01:52:35.00Z'\n",
      "        and wh_available_at <= '2022-06-09T01:54:15.00Z'\n",
      "    )\n",
      "    where tile_start_ts < '2022-06-09T01:52:35.00Z'\n",
      "    group by entity_id, tile_start_ts\n",
      "\n"
     ]
    },
    {
     "data": {
      "text/html": [
       "<div>\n",
       "<style scoped>\n",
       "    .dataframe tbody tr th:only-of-type {\n",
       "        vertical-align: middle;\n",
       "    }\n",
       "\n",
       "    .dataframe tbody tr th {\n",
       "        vertical-align: top;\n",
       "    }\n",
       "\n",
       "    .dataframe thead th {\n",
       "        text-align: right;\n",
       "    }\n",
       "</style>\n",
       "<table border=\"1\" class=\"dataframe\">\n",
       "  <thead>\n",
       "    <tr style=\"text-align: right;\">\n",
       "      <th></th>\n",
       "      <th>ENTITY_ID</th>\n",
       "      <th>TILE_START_TS</th>\n",
       "      <th>VALUE</th>\n",
       "    </tr>\n",
       "  </thead>\n",
       "  <tbody>\n",
       "    <tr>\n",
       "      <th>0</th>\n",
       "      <td>1</td>\n",
       "      <td>2022-06-09 01:49:35</td>\n",
       "      <td>3</td>\n",
       "    </tr>\n",
       "    <tr>\n",
       "      <th>1</th>\n",
       "      <td>1</td>\n",
       "      <td>2022-06-09 01:50:35</td>\n",
       "      <td>4</td>\n",
       "    </tr>\n",
       "    <tr>\n",
       "      <th>2</th>\n",
       "      <td>1</td>\n",
       "      <td>2022-06-09 01:51:35</td>\n",
       "      <td>4</td>\n",
       "    </tr>\n",
       "  </tbody>\n",
       "</table>\n",
       "</div>"
      ],
      "text/plain": [
       "   ENTITY_ID        TILE_START_TS  VALUE\n",
       "0          1  2022-06-09 01:49:35      3\n",
       "1          1  2022-06-09 01:50:35      4\n",
       "2          1  2022-06-09 01:51:35      4"
      ]
     },
     "execution_count": 21,
     "metadata": {},
     "output_type": "execute_result"
    }
   ],
   "source": [
    "sql, tile_end_ts, df = check_tile(\"2022-06-09 01:54:15\")\n",
    "df"
   ]
  },
  {
   "cell_type": "code",
   "execution_count": 22,
   "id": "b67cda27",
   "metadata": {},
   "outputs": [
    {
     "name": "stdout",
     "output_type": "stream",
     "text": [
      "\n",
      "    call SP_TILE_GENERATE_SCHEDULE('TEMP_100', 15, 100, 1, 1440, '\n",
      "    select entity_id, F_INDEX_TO_TIMESTAMP(index, 15, 100, 1) as tile_start_ts, count(*) as value\n",
      "    from (\n",
      "        select \n",
      "            entity_id,            \n",
      "            F_TIMESTAMP_TO_INDEX(event_timestamp, 15, 100, 1) as index,\n",
      "            value\n",
      "        from FB_TEST.TEMP\n",
      "        where event_timestamp < FB_END_TS\n",
      "        and wh_available_at <= \\\\\\'2022-06-09T01:54:15.00Z\\\\\\'\n",
      "    )\n",
      "    where tile_start_ts < FB_END_TS\n",
      "    group by entity_id, tile_start_ts\n",
      "', \n",
      "        'entity_id, tile_start_ts, value', \n",
      "        'online', 10, \n",
      "        '2022-06-09T01:52:35.00Z')\n",
      "\n"
     ]
    },
    {
     "data": {
      "text/html": [
       "<div>\n",
       "<style scoped>\n",
       "    .dataframe tbody tr th:only-of-type {\n",
       "        vertical-align: middle;\n",
       "    }\n",
       "\n",
       "    .dataframe tbody tr th {\n",
       "        vertical-align: top;\n",
       "    }\n",
       "\n",
       "    .dataframe thead th {\n",
       "        text-align: right;\n",
       "    }\n",
       "</style>\n",
       "<table border=\"1\" class=\"dataframe\">\n",
       "  <thead>\n",
       "    <tr style=\"text-align: right;\">\n",
       "      <th></th>\n",
       "      <th>SP_TILE_GENERATE_SCHEDULE</th>\n",
       "    </tr>\n",
       "  </thead>\n",
       "  <tbody>\n",
       "    <tr>\n",
       "      <th>0</th>\n",
       "      <td>Debug - cron_residue_seconds: 15 - END_TS: Wed...</td>\n",
       "    </tr>\n",
       "  </tbody>\n",
       "</table>\n",
       "</div>"
      ],
      "text/plain": [
       "                           SP_TILE_GENERATE_SCHEDULE\n",
       "0  Debug - cron_residue_seconds: 15 - END_TS: Wed..."
      ]
     },
     "execution_count": 22,
     "metadata": {},
     "output_type": "execute_result"
    }
   ],
   "source": [
    "generate_tile(sql, tile_end_ts)"
   ]
  },
  {
   "cell_type": "code",
   "execution_count": 23,
   "id": "07a77012",
   "metadata": {},
   "outputs": [
    {
     "data": {
      "text/html": [
       "<div>\n",
       "<style scoped>\n",
       "    .dataframe tbody tr th:only-of-type {\n",
       "        vertical-align: middle;\n",
       "    }\n",
       "\n",
       "    .dataframe tbody tr th {\n",
       "        vertical-align: top;\n",
       "    }\n",
       "\n",
       "    .dataframe thead th {\n",
       "        text-align: right;\n",
       "    }\n",
       "</style>\n",
       "<table border=\"1\" class=\"dataframe\">\n",
       "  <thead>\n",
       "    <tr style=\"text-align: right;\">\n",
       "      <th></th>\n",
       "      <th>TILE_START_TS</th>\n",
       "      <th>INDEX</th>\n",
       "      <th>ENTITY_ID</th>\n",
       "      <th>VALUE</th>\n",
       "      <th>CREATED_AT</th>\n",
       "    </tr>\n",
       "  </thead>\n",
       "  <tbody>\n",
       "    <tr>\n",
       "      <th>0</th>\n",
       "      <td>2022-06-09 01:51:35</td>\n",
       "      <td>27578993</td>\n",
       "      <td>1</td>\n",
       "      <td>4</td>\n",
       "      <td>2022-06-10 05:37:42.775</td>\n",
       "    </tr>\n",
       "    <tr>\n",
       "      <th>1</th>\n",
       "      <td>2022-06-09 01:50:35</td>\n",
       "      <td>27578992</td>\n",
       "      <td>1</td>\n",
       "      <td>4</td>\n",
       "      <td>2022-06-10 05:37:42.775</td>\n",
       "    </tr>\n",
       "    <tr>\n",
       "      <th>2</th>\n",
       "      <td>2022-06-09 01:49:35</td>\n",
       "      <td>27578991</td>\n",
       "      <td>1</td>\n",
       "      <td>3</td>\n",
       "      <td>2022-06-10 05:37:42.775</td>\n",
       "    </tr>\n",
       "  </tbody>\n",
       "</table>\n",
       "</div>"
      ],
      "text/plain": [
       "         TILE_START_TS     INDEX  ENTITY_ID  VALUE              CREATED_AT\n",
       "0  2022-06-09 01:51:35  27578993          1      4 2022-06-10 05:37:42.775\n",
       "1  2022-06-09 01:50:35  27578992          1      4 2022-06-10 05:37:42.775\n",
       "2  2022-06-09 01:49:35  27578991          1      3 2022-06-10 05:37:42.775"
      ]
     },
     "execution_count": 23,
     "metadata": {},
     "output_type": "execute_result"
    }
   ],
   "source": [
    "check_result_tiles(tile_name)"
   ]
  },
  {
   "cell_type": "code",
   "execution_count": 24,
   "id": "b883ccce",
   "metadata": {},
   "outputs": [
    {
     "data": {
      "text/html": [
       "<div>\n",
       "<style scoped>\n",
       "    .dataframe tbody tr th:only-of-type {\n",
       "        vertical-align: middle;\n",
       "    }\n",
       "\n",
       "    .dataframe tbody tr th {\n",
       "        vertical-align: top;\n",
       "    }\n",
       "\n",
       "    .dataframe thead th {\n",
       "        text-align: right;\n",
       "    }\n",
       "</style>\n",
       "<table border=\"1\" class=\"dataframe\">\n",
       "  <thead>\n",
       "    <tr style=\"text-align: right;\">\n",
       "      <th></th>\n",
       "      <th>TILE_START_TS</th>\n",
       "      <th>INDEX</th>\n",
       "      <th>ENTITY_ID</th>\n",
       "      <th>VALUE</th>\n",
       "      <th>OLD_VALUE</th>\n",
       "      <th>TILE_TYPE</th>\n",
       "      <th>EXPECTED_CREATED_AT</th>\n",
       "      <th>CREATED_AT</th>\n",
       "    </tr>\n",
       "  </thead>\n",
       "  <tbody>\n",
       "  </tbody>\n",
       "</table>\n",
       "</div>"
      ],
      "text/plain": [
       "Empty DataFrame\n",
       "Columns: [TILE_START_TS, INDEX, ENTITY_ID, VALUE, OLD_VALUE, TILE_TYPE, EXPECTED_CREATED_AT, CREATED_AT]\n",
       "Index: []"
      ]
     },
     "execution_count": 24,
     "metadata": {},
     "output_type": "execute_result"
    }
   ],
   "source": [
    "check_monitor(tile_name)"
   ]
  },
  {
   "cell_type": "code",
   "execution_count": null,
   "id": "e11f66b2",
   "metadata": {},
   "outputs": [],
   "source": []
  },
  {
   "cell_type": "markdown",
   "id": "50b6d184",
   "metadata": {},
   "source": [
    "### 1.5 FeatureJob from 05:15 to 08:15"
   ]
  },
  {
   "cell_type": "code",
   "execution_count": 25,
   "id": "7c38e2c3",
   "metadata": {},
   "outputs": [
    {
     "name": "stdout",
     "output_type": "stream",
     "text": [
      "Running for  2022-06-09 01:55:15\n",
      "\n",
      "    select entity_id, F_INDEX_TO_TIMESTAMP(index, 15, 100, 1) as tile_start_ts, count(*) as value\n",
      "    from (\n",
      "        select \n",
      "            entity_id,            \n",
      "            F_TIMESTAMP_TO_INDEX(event_timestamp, 15, 100, 1) as index,\n",
      "            value\n",
      "        from FB_TEST.TEMP\n",
      "        where event_timestamp < '2022-06-09T01:53:35.00Z'\n",
      "        and wh_available_at <= '2022-06-09T01:55:15.00Z'\n",
      "    )\n",
      "    where tile_start_ts < '2022-06-09T01:53:35.00Z'\n",
      "    group by entity_id, tile_start_ts\n",
      "\n",
      "\n",
      "    call SP_TILE_GENERATE_SCHEDULE('TEMP_100', 15, 100, 1, 1440, '\n",
      "    select entity_id, F_INDEX_TO_TIMESTAMP(index, 15, 100, 1) as tile_start_ts, count(*) as value\n",
      "    from (\n",
      "        select \n",
      "            entity_id,            \n",
      "            F_TIMESTAMP_TO_INDEX(event_timestamp, 15, 100, 1) as index,\n",
      "            value\n",
      "        from FB_TEST.TEMP\n",
      "        where event_timestamp < FB_END_TS\n",
      "        and wh_available_at <= \\\\\\'2022-06-09T01:55:15.00Z\\\\\\'\n",
      "    )\n",
      "    where tile_start_ts < FB_END_TS\n",
      "    group by entity_id, tile_start_ts\n",
      "', \n",
      "        'entity_id, tile_start_ts, value', \n",
      "        'online', 10, \n",
      "        '2022-06-09T01:53:35.00Z')\n",
      "\n",
      "Running for  2022-06-09 01:56:15\n",
      "\n",
      "    select entity_id, F_INDEX_TO_TIMESTAMP(index, 15, 100, 1) as tile_start_ts, count(*) as value\n",
      "    from (\n",
      "        select \n",
      "            entity_id,            \n",
      "            F_TIMESTAMP_TO_INDEX(event_timestamp, 15, 100, 1) as index,\n",
      "            value\n",
      "        from FB_TEST.TEMP\n",
      "        where event_timestamp < '2022-06-09T01:54:35.00Z'\n",
      "        and wh_available_at <= '2022-06-09T01:56:15.00Z'\n",
      "    )\n",
      "    where tile_start_ts < '2022-06-09T01:54:35.00Z'\n",
      "    group by entity_id, tile_start_ts\n",
      "\n",
      "\n",
      "    call SP_TILE_GENERATE_SCHEDULE('TEMP_100', 15, 100, 1, 1440, '\n",
      "    select entity_id, F_INDEX_TO_TIMESTAMP(index, 15, 100, 1) as tile_start_ts, count(*) as value\n",
      "    from (\n",
      "        select \n",
      "            entity_id,            \n",
      "            F_TIMESTAMP_TO_INDEX(event_timestamp, 15, 100, 1) as index,\n",
      "            value\n",
      "        from FB_TEST.TEMP\n",
      "        where event_timestamp < FB_END_TS\n",
      "        and wh_available_at <= \\\\\\'2022-06-09T01:56:15.00Z\\\\\\'\n",
      "    )\n",
      "    where tile_start_ts < FB_END_TS\n",
      "    group by entity_id, tile_start_ts\n",
      "', \n",
      "        'entity_id, tile_start_ts, value', \n",
      "        'online', 10, \n",
      "        '2022-06-09T01:54:35.00Z')\n",
      "\n",
      "Running for  2022-06-09 01:57:15\n",
      "\n",
      "    select entity_id, F_INDEX_TO_TIMESTAMP(index, 15, 100, 1) as tile_start_ts, count(*) as value\n",
      "    from (\n",
      "        select \n",
      "            entity_id,            \n",
      "            F_TIMESTAMP_TO_INDEX(event_timestamp, 15, 100, 1) as index,\n",
      "            value\n",
      "        from FB_TEST.TEMP\n",
      "        where event_timestamp < '2022-06-09T01:55:35.00Z'\n",
      "        and wh_available_at <= '2022-06-09T01:57:15.00Z'\n",
      "    )\n",
      "    where tile_start_ts < '2022-06-09T01:55:35.00Z'\n",
      "    group by entity_id, tile_start_ts\n",
      "\n",
      "\n",
      "    call SP_TILE_GENERATE_SCHEDULE('TEMP_100', 15, 100, 1, 1440, '\n",
      "    select entity_id, F_INDEX_TO_TIMESTAMP(index, 15, 100, 1) as tile_start_ts, count(*) as value\n",
      "    from (\n",
      "        select \n",
      "            entity_id,            \n",
      "            F_TIMESTAMP_TO_INDEX(event_timestamp, 15, 100, 1) as index,\n",
      "            value\n",
      "        from FB_TEST.TEMP\n",
      "        where event_timestamp < FB_END_TS\n",
      "        and wh_available_at <= \\\\\\'2022-06-09T01:57:15.00Z\\\\\\'\n",
      "    )\n",
      "    where tile_start_ts < FB_END_TS\n",
      "    group by entity_id, tile_start_ts\n",
      "', \n",
      "        'entity_id, tile_start_ts, value', \n",
      "        'online', 10, \n",
      "        '2022-06-09T01:55:35.00Z')\n",
      "\n",
      "Running for  2022-06-09 01:58:15\n",
      "\n",
      "    select entity_id, F_INDEX_TO_TIMESTAMP(index, 15, 100, 1) as tile_start_ts, count(*) as value\n",
      "    from (\n",
      "        select \n",
      "            entity_id,            \n",
      "            F_TIMESTAMP_TO_INDEX(event_timestamp, 15, 100, 1) as index,\n",
      "            value\n",
      "        from FB_TEST.TEMP\n",
      "        where event_timestamp < '2022-06-09T01:56:35.00Z'\n",
      "        and wh_available_at <= '2022-06-09T01:58:15.00Z'\n",
      "    )\n",
      "    where tile_start_ts < '2022-06-09T01:56:35.00Z'\n",
      "    group by entity_id, tile_start_ts\n",
      "\n",
      "\n",
      "    call SP_TILE_GENERATE_SCHEDULE('TEMP_100', 15, 100, 1, 1440, '\n",
      "    select entity_id, F_INDEX_TO_TIMESTAMP(index, 15, 100, 1) as tile_start_ts, count(*) as value\n",
      "    from (\n",
      "        select \n",
      "            entity_id,            \n",
      "            F_TIMESTAMP_TO_INDEX(event_timestamp, 15, 100, 1) as index,\n",
      "            value\n",
      "        from FB_TEST.TEMP\n",
      "        where event_timestamp < FB_END_TS\n",
      "        and wh_available_at <= \\\\\\'2022-06-09T01:58:15.00Z\\\\\\'\n",
      "    )\n",
      "    where tile_start_ts < FB_END_TS\n",
      "    group by entity_id, tile_start_ts\n",
      "', \n",
      "        'entity_id, tile_start_ts, value', \n",
      "        'online', 10, \n",
      "        '2022-06-09T01:56:35.00Z')\n",
      "\n"
     ]
    }
   ],
   "source": [
    "for i in range(5, 9):\n",
    "    ts = f\"2022-06-09 01:5{i}:15\"\n",
    "    print('Running for ', ts)\n",
    "    sql, tile_end_ts, df = check_tile(ts)\n",
    "    generate_tile(sql, tile_end_ts)"
   ]
  },
  {
   "cell_type": "code",
   "execution_count": 26,
   "id": "a8c8d118",
   "metadata": {},
   "outputs": [
    {
     "data": {
      "text/html": [
       "<div>\n",
       "<style scoped>\n",
       "    .dataframe tbody tr th:only-of-type {\n",
       "        vertical-align: middle;\n",
       "    }\n",
       "\n",
       "    .dataframe tbody tr th {\n",
       "        vertical-align: top;\n",
       "    }\n",
       "\n",
       "    .dataframe thead th {\n",
       "        text-align: right;\n",
       "    }\n",
       "</style>\n",
       "<table border=\"1\" class=\"dataframe\">\n",
       "  <thead>\n",
       "    <tr style=\"text-align: right;\">\n",
       "      <th></th>\n",
       "      <th>TILE_START_TS</th>\n",
       "      <th>INDEX</th>\n",
       "      <th>ENTITY_ID</th>\n",
       "      <th>VALUE</th>\n",
       "      <th>CREATED_AT</th>\n",
       "    </tr>\n",
       "  </thead>\n",
       "  <tbody>\n",
       "    <tr>\n",
       "      <th>0</th>\n",
       "      <td>2022-06-09 01:53:35</td>\n",
       "      <td>27578995</td>\n",
       "      <td>1</td>\n",
       "      <td>1</td>\n",
       "      <td>2022-06-10 05:39:09.602</td>\n",
       "    </tr>\n",
       "    <tr>\n",
       "      <th>1</th>\n",
       "      <td>2022-06-09 01:52:35</td>\n",
       "      <td>27578994</td>\n",
       "      <td>1</td>\n",
       "      <td>4</td>\n",
       "      <td>2022-06-10 05:39:09.602</td>\n",
       "    </tr>\n",
       "    <tr>\n",
       "      <th>2</th>\n",
       "      <td>2022-06-09 01:51:35</td>\n",
       "      <td>27578993</td>\n",
       "      <td>1</td>\n",
       "      <td>4</td>\n",
       "      <td>2022-06-10 05:39:09.602</td>\n",
       "    </tr>\n",
       "    <tr>\n",
       "      <th>3</th>\n",
       "      <td>2022-06-09 01:50:35</td>\n",
       "      <td>27578992</td>\n",
       "      <td>1</td>\n",
       "      <td>4</td>\n",
       "      <td>2022-06-10 05:39:09.602</td>\n",
       "    </tr>\n",
       "    <tr>\n",
       "      <th>4</th>\n",
       "      <td>2022-06-09 01:49:35</td>\n",
       "      <td>27578991</td>\n",
       "      <td>1</td>\n",
       "      <td>3</td>\n",
       "      <td>2022-06-10 05:39:09.602</td>\n",
       "    </tr>\n",
       "  </tbody>\n",
       "</table>\n",
       "</div>"
      ],
      "text/plain": [
       "         TILE_START_TS     INDEX  ENTITY_ID  VALUE              CREATED_AT\n",
       "0  2022-06-09 01:53:35  27578995          1      1 2022-06-10 05:39:09.602\n",
       "1  2022-06-09 01:52:35  27578994          1      4 2022-06-10 05:39:09.602\n",
       "2  2022-06-09 01:51:35  27578993          1      4 2022-06-10 05:39:09.602\n",
       "3  2022-06-09 01:50:35  27578992          1      4 2022-06-10 05:39:09.602\n",
       "4  2022-06-09 01:49:35  27578991          1      3 2022-06-10 05:39:09.602"
      ]
     },
     "execution_count": 26,
     "metadata": {},
     "output_type": "execute_result"
    }
   ],
   "source": [
    "check_result_tiles(tile_name)"
   ]
  },
  {
   "cell_type": "code",
   "execution_count": 27,
   "id": "831eb8ec",
   "metadata": {},
   "outputs": [
    {
     "data": {
      "text/html": [
       "<div>\n",
       "<style scoped>\n",
       "    .dataframe tbody tr th:only-of-type {\n",
       "        vertical-align: middle;\n",
       "    }\n",
       "\n",
       "    .dataframe tbody tr th {\n",
       "        vertical-align: top;\n",
       "    }\n",
       "\n",
       "    .dataframe thead th {\n",
       "        text-align: right;\n",
       "    }\n",
       "</style>\n",
       "<table border=\"1\" class=\"dataframe\">\n",
       "  <thead>\n",
       "    <tr style=\"text-align: right;\">\n",
       "      <th></th>\n",
       "      <th>TILE_START_TS</th>\n",
       "      <th>INDEX</th>\n",
       "      <th>ENTITY_ID</th>\n",
       "      <th>VALUE</th>\n",
       "      <th>OLD_VALUE</th>\n",
       "      <th>TILE_TYPE</th>\n",
       "      <th>EXPECTED_CREATED_AT</th>\n",
       "      <th>CREATED_AT</th>\n",
       "    </tr>\n",
       "  </thead>\n",
       "  <tbody>\n",
       "  </tbody>\n",
       "</table>\n",
       "</div>"
      ],
      "text/plain": [
       "Empty DataFrame\n",
       "Columns: [TILE_START_TS, INDEX, ENTITY_ID, VALUE, OLD_VALUE, TILE_TYPE, EXPECTED_CREATED_AT, CREATED_AT]\n",
       "Index: []"
      ]
     },
     "execution_count": 27,
     "metadata": {},
     "output_type": "execute_result"
    }
   ],
   "source": [
    "check_monitor(tile_name)"
   ]
  },
  {
   "cell_type": "code",
   "execution_count": null,
   "id": "f66e1738",
   "metadata": {},
   "outputs": [],
   "source": []
  },
  {
   "cell_type": "markdown",
   "id": "00f41cb4",
   "metadata": {},
   "source": [
    "### 1.6 FeatureJob at 09:15"
   ]
  },
  {
   "cell_type": "code",
   "execution_count": 28,
   "id": "167899de",
   "metadata": {},
   "outputs": [
    {
     "name": "stdout",
     "output_type": "stream",
     "text": [
      "\n",
      "    select entity_id, F_INDEX_TO_TIMESTAMP(index, 15, 100, 1) as tile_start_ts, count(*) as value\n",
      "    from (\n",
      "        select \n",
      "            entity_id,            \n",
      "            F_TIMESTAMP_TO_INDEX(event_timestamp, 15, 100, 1) as index,\n",
      "            value\n",
      "        from FB_TEST.TEMP\n",
      "        where event_timestamp < '2022-06-09T01:57:35.00Z'\n",
      "        and wh_available_at <= '2022-06-09T01:59:15.00Z'\n",
      "    )\n",
      "    where tile_start_ts < '2022-06-09T01:57:35.00Z'\n",
      "    group by entity_id, tile_start_ts\n",
      "\n"
     ]
    },
    {
     "data": {
      "text/html": [
       "<div>\n",
       "<style scoped>\n",
       "    .dataframe tbody tr th:only-of-type {\n",
       "        vertical-align: middle;\n",
       "    }\n",
       "\n",
       "    .dataframe tbody tr th {\n",
       "        vertical-align: top;\n",
       "    }\n",
       "\n",
       "    .dataframe thead th {\n",
       "        text-align: right;\n",
       "    }\n",
       "</style>\n",
       "<table border=\"1\" class=\"dataframe\">\n",
       "  <thead>\n",
       "    <tr style=\"text-align: right;\">\n",
       "      <th></th>\n",
       "      <th>ENTITY_ID</th>\n",
       "      <th>TILE_START_TS</th>\n",
       "      <th>VALUE</th>\n",
       "    </tr>\n",
       "  </thead>\n",
       "  <tbody>\n",
       "    <tr>\n",
       "      <th>0</th>\n",
       "      <td>1</td>\n",
       "      <td>2022-06-09 01:49:35</td>\n",
       "      <td>3</td>\n",
       "    </tr>\n",
       "    <tr>\n",
       "      <th>1</th>\n",
       "      <td>1</td>\n",
       "      <td>2022-06-09 01:50:35</td>\n",
       "      <td>4</td>\n",
       "    </tr>\n",
       "    <tr>\n",
       "      <th>2</th>\n",
       "      <td>1</td>\n",
       "      <td>2022-06-09 01:51:35</td>\n",
       "      <td>4</td>\n",
       "    </tr>\n",
       "    <tr>\n",
       "      <th>3</th>\n",
       "      <td>1</td>\n",
       "      <td>2022-06-09 01:52:35</td>\n",
       "      <td>4</td>\n",
       "    </tr>\n",
       "    <tr>\n",
       "      <th>4</th>\n",
       "      <td>1</td>\n",
       "      <td>2022-06-09 01:53:35</td>\n",
       "      <td>4</td>\n",
       "    </tr>\n",
       "    <tr>\n",
       "      <th>5</th>\n",
       "      <td>1</td>\n",
       "      <td>2022-06-09 01:54:35</td>\n",
       "      <td>4</td>\n",
       "    </tr>\n",
       "    <tr>\n",
       "      <th>6</th>\n",
       "      <td>1</td>\n",
       "      <td>2022-06-09 01:55:35</td>\n",
       "      <td>4</td>\n",
       "    </tr>\n",
       "    <tr>\n",
       "      <th>7</th>\n",
       "      <td>1</td>\n",
       "      <td>2022-06-09 01:56:35</td>\n",
       "      <td>4</td>\n",
       "    </tr>\n",
       "  </tbody>\n",
       "</table>\n",
       "</div>"
      ],
      "text/plain": [
       "   ENTITY_ID        TILE_START_TS  VALUE\n",
       "0          1  2022-06-09 01:49:35      3\n",
       "1          1  2022-06-09 01:50:35      4\n",
       "2          1  2022-06-09 01:51:35      4\n",
       "3          1  2022-06-09 01:52:35      4\n",
       "4          1  2022-06-09 01:53:35      4\n",
       "5          1  2022-06-09 01:54:35      4\n",
       "6          1  2022-06-09 01:55:35      4\n",
       "7          1  2022-06-09 01:56:35      4"
      ]
     },
     "execution_count": 28,
     "metadata": {},
     "output_type": "execute_result"
    }
   ],
   "source": [
    "sql, tile_end_ts, df = check_tile(\"2022-06-09 01:59:15\")\n",
    "df"
   ]
  },
  {
   "cell_type": "code",
   "execution_count": 29,
   "id": "1d1cdded",
   "metadata": {},
   "outputs": [
    {
     "name": "stdout",
     "output_type": "stream",
     "text": [
      "\n",
      "    call SP_TILE_GENERATE_SCHEDULE('TEMP_100', 15, 100, 1, 1440, '\n",
      "    select entity_id, F_INDEX_TO_TIMESTAMP(index, 15, 100, 1) as tile_start_ts, count(*) as value\n",
      "    from (\n",
      "        select \n",
      "            entity_id,            \n",
      "            F_TIMESTAMP_TO_INDEX(event_timestamp, 15, 100, 1) as index,\n",
      "            value\n",
      "        from FB_TEST.TEMP\n",
      "        where event_timestamp < FB_END_TS\n",
      "        and wh_available_at <= \\\\\\'2022-06-09T01:59:15.00Z\\\\\\'\n",
      "    )\n",
      "    where tile_start_ts < FB_END_TS\n",
      "    group by entity_id, tile_start_ts\n",
      "', \n",
      "        'entity_id, tile_start_ts, value', \n",
      "        'online', 10, \n",
      "        '2022-06-09T01:57:35.00Z')\n",
      "\n"
     ]
    },
    {
     "data": {
      "text/html": [
       "<div>\n",
       "<style scoped>\n",
       "    .dataframe tbody tr th:only-of-type {\n",
       "        vertical-align: middle;\n",
       "    }\n",
       "\n",
       "    .dataframe tbody tr th {\n",
       "        vertical-align: top;\n",
       "    }\n",
       "\n",
       "    .dataframe thead th {\n",
       "        text-align: right;\n",
       "    }\n",
       "</style>\n",
       "<table border=\"1\" class=\"dataframe\">\n",
       "  <thead>\n",
       "    <tr style=\"text-align: right;\">\n",
       "      <th></th>\n",
       "      <th>SP_TILE_GENERATE_SCHEDULE</th>\n",
       "    </tr>\n",
       "  </thead>\n",
       "  <tbody>\n",
       "    <tr>\n",
       "      <th>0</th>\n",
       "      <td>Debug - cron_residue_seconds: 15 - END_TS: Wed...</td>\n",
       "    </tr>\n",
       "  </tbody>\n",
       "</table>\n",
       "</div>"
      ],
      "text/plain": [
       "                           SP_TILE_GENERATE_SCHEDULE\n",
       "0  Debug - cron_residue_seconds: 15 - END_TS: Wed..."
      ]
     },
     "execution_count": 29,
     "metadata": {},
     "output_type": "execute_result"
    }
   ],
   "source": [
    "generate_tile(sql, tile_end_ts)"
   ]
  },
  {
   "cell_type": "code",
   "execution_count": 30,
   "id": "0654652b",
   "metadata": {},
   "outputs": [
    {
     "data": {
      "text/html": [
       "<div>\n",
       "<style scoped>\n",
       "    .dataframe tbody tr th:only-of-type {\n",
       "        vertical-align: middle;\n",
       "    }\n",
       "\n",
       "    .dataframe tbody tr th {\n",
       "        vertical-align: top;\n",
       "    }\n",
       "\n",
       "    .dataframe thead th {\n",
       "        text-align: right;\n",
       "    }\n",
       "</style>\n",
       "<table border=\"1\" class=\"dataframe\">\n",
       "  <thead>\n",
       "    <tr style=\"text-align: right;\">\n",
       "      <th></th>\n",
       "      <th>TILE_START_TS</th>\n",
       "      <th>INDEX</th>\n",
       "      <th>ENTITY_ID</th>\n",
       "      <th>VALUE</th>\n",
       "      <th>CREATED_AT</th>\n",
       "    </tr>\n",
       "  </thead>\n",
       "  <tbody>\n",
       "    <tr>\n",
       "      <th>0</th>\n",
       "      <td>2022-06-09 01:56:35</td>\n",
       "      <td>27578998</td>\n",
       "      <td>1</td>\n",
       "      <td>4</td>\n",
       "      <td>2022-06-10 05:39:29.370</td>\n",
       "    </tr>\n",
       "    <tr>\n",
       "      <th>1</th>\n",
       "      <td>2022-06-09 01:55:35</td>\n",
       "      <td>27578997</td>\n",
       "      <td>1</td>\n",
       "      <td>4</td>\n",
       "      <td>2022-06-10 05:39:29.370</td>\n",
       "    </tr>\n",
       "    <tr>\n",
       "      <th>2</th>\n",
       "      <td>2022-06-09 01:54:35</td>\n",
       "      <td>27578996</td>\n",
       "      <td>1</td>\n",
       "      <td>4</td>\n",
       "      <td>2022-06-10 05:39:29.370</td>\n",
       "    </tr>\n",
       "    <tr>\n",
       "      <th>3</th>\n",
       "      <td>2022-06-09 01:53:35</td>\n",
       "      <td>27578995</td>\n",
       "      <td>1</td>\n",
       "      <td>4</td>\n",
       "      <td>2022-06-10 05:39:29.370</td>\n",
       "    </tr>\n",
       "    <tr>\n",
       "      <th>4</th>\n",
       "      <td>2022-06-09 01:52:35</td>\n",
       "      <td>27578994</td>\n",
       "      <td>1</td>\n",
       "      <td>4</td>\n",
       "      <td>2022-06-10 05:39:29.370</td>\n",
       "    </tr>\n",
       "    <tr>\n",
       "      <th>5</th>\n",
       "      <td>2022-06-09 01:51:35</td>\n",
       "      <td>27578993</td>\n",
       "      <td>1</td>\n",
       "      <td>4</td>\n",
       "      <td>2022-06-10 05:39:29.370</td>\n",
       "    </tr>\n",
       "    <tr>\n",
       "      <th>6</th>\n",
       "      <td>2022-06-09 01:50:35</td>\n",
       "      <td>27578992</td>\n",
       "      <td>1</td>\n",
       "      <td>4</td>\n",
       "      <td>2022-06-10 05:39:29.370</td>\n",
       "    </tr>\n",
       "    <tr>\n",
       "      <th>7</th>\n",
       "      <td>2022-06-09 01:49:35</td>\n",
       "      <td>27578991</td>\n",
       "      <td>1</td>\n",
       "      <td>3</td>\n",
       "      <td>2022-06-10 05:39:29.370</td>\n",
       "    </tr>\n",
       "  </tbody>\n",
       "</table>\n",
       "</div>"
      ],
      "text/plain": [
       "         TILE_START_TS     INDEX  ENTITY_ID  VALUE              CREATED_AT\n",
       "0  2022-06-09 01:56:35  27578998          1      4 2022-06-10 05:39:29.370\n",
       "1  2022-06-09 01:55:35  27578997          1      4 2022-06-10 05:39:29.370\n",
       "2  2022-06-09 01:54:35  27578996          1      4 2022-06-10 05:39:29.370\n",
       "3  2022-06-09 01:53:35  27578995          1      4 2022-06-10 05:39:29.370\n",
       "4  2022-06-09 01:52:35  27578994          1      4 2022-06-10 05:39:29.370\n",
       "5  2022-06-09 01:51:35  27578993          1      4 2022-06-10 05:39:29.370\n",
       "6  2022-06-09 01:50:35  27578992          1      4 2022-06-10 05:39:29.370\n",
       "7  2022-06-09 01:49:35  27578991          1      3 2022-06-10 05:39:29.370"
      ]
     },
     "execution_count": 30,
     "metadata": {},
     "output_type": "execute_result"
    }
   ],
   "source": [
    "check_result_tiles(tile_name)"
   ]
  },
  {
   "cell_type": "code",
   "execution_count": 31,
   "id": "59925617",
   "metadata": {},
   "outputs": [
    {
     "data": {
      "text/html": [
       "<div>\n",
       "<style scoped>\n",
       "    .dataframe tbody tr th:only-of-type {\n",
       "        vertical-align: middle;\n",
       "    }\n",
       "\n",
       "    .dataframe tbody tr th {\n",
       "        vertical-align: top;\n",
       "    }\n",
       "\n",
       "    .dataframe thead th {\n",
       "        text-align: right;\n",
       "    }\n",
       "</style>\n",
       "<table border=\"1\" class=\"dataframe\">\n",
       "  <thead>\n",
       "    <tr style=\"text-align: right;\">\n",
       "      <th></th>\n",
       "      <th>TILE_START_TS</th>\n",
       "      <th>INDEX</th>\n",
       "      <th>ENTITY_ID</th>\n",
       "      <th>VALUE</th>\n",
       "      <th>OLD_VALUE</th>\n",
       "      <th>TILE_TYPE</th>\n",
       "      <th>EXPECTED_CREATED_AT</th>\n",
       "      <th>CREATED_AT</th>\n",
       "    </tr>\n",
       "  </thead>\n",
       "  <tbody>\n",
       "    <tr>\n",
       "      <th>0</th>\n",
       "      <td>2022-06-09 01:55:35</td>\n",
       "      <td>27578997</td>\n",
       "      <td>1</td>\n",
       "      <td>4</td>\n",
       "      <td>NaN</td>\n",
       "      <td>ONLINE</td>\n",
       "      <td>2022-06-09 01:58:15</td>\n",
       "      <td>2022-06-10 05:39:28.413</td>\n",
       "    </tr>\n",
       "    <tr>\n",
       "      <th>1</th>\n",
       "      <td>2022-06-09 01:54:35</td>\n",
       "      <td>27578996</td>\n",
       "      <td>1</td>\n",
       "      <td>4</td>\n",
       "      <td>NaN</td>\n",
       "      <td>ONLINE</td>\n",
       "      <td>2022-06-09 01:57:15</td>\n",
       "      <td>2022-06-10 05:39:28.413</td>\n",
       "    </tr>\n",
       "    <tr>\n",
       "      <th>2</th>\n",
       "      <td>2022-06-09 01:53:35</td>\n",
       "      <td>27578995</td>\n",
       "      <td>1</td>\n",
       "      <td>4</td>\n",
       "      <td>1.0</td>\n",
       "      <td>ONLINE</td>\n",
       "      <td>2022-06-09 01:56:15</td>\n",
       "      <td>2022-06-10 05:39:28.413</td>\n",
       "    </tr>\n",
       "  </tbody>\n",
       "</table>\n",
       "</div>"
      ],
      "text/plain": [
       "         TILE_START_TS     INDEX  ENTITY_ID  VALUE  OLD_VALUE TILE_TYPE  \\\n",
       "0  2022-06-09 01:55:35  27578997          1      4        NaN    ONLINE   \n",
       "1  2022-06-09 01:54:35  27578996          1      4        NaN    ONLINE   \n",
       "2  2022-06-09 01:53:35  27578995          1      4        1.0    ONLINE   \n",
       "\n",
       "  EXPECTED_CREATED_AT              CREATED_AT  \n",
       "0 2022-06-09 01:58:15 2022-06-10 05:39:28.413  \n",
       "1 2022-06-09 01:57:15 2022-06-10 05:39:28.413  \n",
       "2 2022-06-09 01:56:15 2022-06-10 05:39:28.413  "
      ]
     },
     "execution_count": 31,
     "metadata": {},
     "output_type": "execute_result"
    }
   ],
   "source": [
    "check_monitor(tile_name)"
   ]
  },
  {
   "cell_type": "code",
   "execution_count": null,
   "id": "760eae7b",
   "metadata": {},
   "outputs": [],
   "source": []
  }
 ],
 "metadata": {
  "kernelspec": {
   "display_name": "Python 3 (ipykernel)",
   "language": "python",
   "name": "python3"
  },
  "language_info": {
   "codemirror_mode": {
    "name": "ipython",
    "version": 3
   },
   "file_extension": ".py",
   "mimetype": "text/x-python",
   "name": "python",
   "nbconvert_exporter": "python",
   "pygments_lexer": "ipython3",
   "version": "3.9.7"
  }
 },
 "nbformat": 4,
 "nbformat_minor": 5
}
